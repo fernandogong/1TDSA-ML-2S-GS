{
  "cells": [
    {
      "cell_type": "markdown",
      "metadata": {
        "id": "OCYQ3v9-S5Nc"
      },
      "source": [
        "# dataset_velocidade.csv\n",
        "\n",
        "Um projeto ambicioso de controle de um carro autônomo está tentando\n",
        "implementar um complexo controle do veículo em diferentes cenários. O projeto\n",
        "consiste em fazer o controle da rota do carro para investigar os desafios e o\n",
        "desempenho da equipe de engenharia envolvida.\n",
        "\n",
        "Para isso, foi desenvolvido um programa que faz o controle do veículo\n",
        "baseado nas imagens das câmeras que o mesmo possui. Diversos algoritmos\n",
        "de IA foram implementados e o carro finalmente está conseguindo seguir as\n",
        "rotas desejadas. Entretanto, notou-se que o veículo está indo com uma\n",
        "velocidade muito alta em alguns pontos das rotas, como por exemplo em ruas\n",
        "não pavimentadas, o que poderia fazer o carro danificar a sua suspensão.\n",
        "\n",
        "Para resolver esse problema, seu grupo sugeriu o uso de Aprendizado de\n",
        "Máquina para auxiliar no controle de velocidade de acordo com alguns sensores\n",
        "do veículo. Dessa forma, o algoritmo de controle do veículo pode receber uma\n",
        "velocidade sugerida para cada trecho que ele está percorrendo e ajustar sua\n",
        "velocidade.\n",
        "\n",
        "Para isso, vocês fizeram um conjunto de testes com pilotos experientes\n",
        "em que foram coletados os seguintes atributos:\n",
        "\n",
        "Dados coletados a partir do sistema de visão computacional:\n",
        "* road: tipo de rua com a qual o carro estava se locomovendo\n",
        "Dados coletados do acelerômetro e do girocóptero instalados no\n",
        "veículo:\n",
        "* acc_x_dashboard: Aceleração no eixo x em m/s²\n",
        "* acc_y_dashboard: Aceleração no eixo y em m/s²\n",
        "* acc_z_dashboard: Aceleração no eixo z em m/s²\n",
        "* gyro_x_dashboard: Rotação no eixo x em deg/s\n",
        "* gyro_y_dashboard: Rotação no eixo y em deg/s\n",
        "* gyro_y_dashboard: Rotação no eixo z em deg/s\n",
        "* temp_dashboard: Temperatura no veículo graus Celcius;\n",
        "\n",
        "Dados coletados do veículo (target - saída do modelo):\n",
        "\n",
        "* speed: Velocidade do carro em m/s\n",
        "\n",
        "Após essa etapa de testes seu grupo está com o \"dataset_velocidade.csv\"\n",
        "em mãos e pode aplicar os conceitos de Aprendizado de Máquina para tentar\n",
        "criar um modelo que irá ajudar o veículo a fazer um controle de sua velocidade\n",
        "baseado no movimento do carro e no tipo de rua em que ele se encontra.\n"
      ]
    },
    {
      "cell_type": "markdown",
      "metadata": {
        "id": "TWni3FElUD5g"
      },
      "source": [
        "# 1) Carregar os dados"
      ]
    },
    {
      "cell_type": "code",
      "execution_count": null,
      "metadata": {
        "id": "DvkFRz6epX30"
      },
      "outputs": [],
      "source": [
        "import pandas as pd\n",
        "import plotly.express as px\n",
        "import numpy as np\n",
        "import matplotlib.pyplot as plt"
      ]
    },
    {
      "cell_type": "code",
      "source": [],
      "metadata": {
        "id": "aggvbWD5xolh"
      },
      "execution_count": null,
      "outputs": []
    },
    {
      "cell_type": "code",
      "execution_count": null,
      "metadata": {
        "colab": {
          "base_uri": "https://localhost:8080/",
          "height": 488
        },
        "id": "chbBjz4cphWw",
        "outputId": "cf9f2ae4-3202-4748-8d7e-d27d8cfb1f86"
      },
      "outputs": [
        {
          "output_type": "execute_result",
          "data": {
            "text/plain": [
              "        no_speed_bump  acc_x_dashboard  acc_y_dashboard  acc_z_dashboard  \\\n",
              "0                 NaN        -0.029431        -0.019621         9.781015   \n",
              "1                 1.0        -0.039008         0.009110         9.819322   \n",
              "2                 1.0         0.010073         0.005518         9.777423   \n",
              "3                 1.0         0.020847         0.028263         9.785803   \n",
              "4                 1.0        -0.003095        -0.017227         9.800168   \n",
              "...               ...              ...              ...              ...   \n",
              "119995            1.0        -0.367014        -0.180032         9.376394   \n",
              "119996            1.0         0.650522         0.064176         9.409913   \n",
              "119997            1.0         0.722348        -0.072293         9.081908   \n",
              "119998            1.0         0.298574        -0.448183         9.467374   \n",
              "119999            1.0         0.206398        -0.217142         9.572719   \n",
              "\n",
              "        gyro_x_dashboard  gyro_y_dashboard  gyro_z_dashboard  temp_dashboard  \\\n",
              "0              -0.122070         -0.006327         -0.112208       32.166023   \n",
              "1              -0.030518          0.115743         -0.051173       32.453560   \n",
              "2              -0.122070          0.100485         -0.020655       32.405637   \n",
              "3               0.061035          0.207296         -0.112208       32.453560   \n",
              "4              -0.091553          0.146261         -0.112208       32.309791   \n",
              "...                  ...               ...               ...             ...   \n",
              "119995         -0.366211         -1.532206         -0.295313       32.261868   \n",
              "119996         -1.342773         -1.318583         -0.219019       32.309791   \n",
              "119997         -1.251221         -0.647196         -0.264796       32.166023   \n",
              "119998         -0.854492         -0.921854         -0.173243       32.309791   \n",
              "119999         -1.480103         -1.547465         -0.508936       32.237907   \n",
              "\n",
              "            speed   road  \n",
              "0        0.010822  paved  \n",
              "1        0.010822  paved  \n",
              "2        0.010822  paved  \n",
              "3        0.010822  paved  \n",
              "4        0.010822  paved  \n",
              "...           ...    ...  \n",
              "119995  19.562754  paved  \n",
              "119996  19.562754  paved  \n",
              "119997  19.562754  paved  \n",
              "119998  19.562754  paved  \n",
              "119999  19.562754  paved  \n",
              "\n",
              "[120000 rows x 10 columns]"
            ],
            "text/html": [
              "\n",
              "  <div id=\"df-b3a44bba-5dcb-43fa-8d9b-ad7ad901fffa\">\n",
              "    <div class=\"colab-df-container\">\n",
              "      <div>\n",
              "<style scoped>\n",
              "    .dataframe tbody tr th:only-of-type {\n",
              "        vertical-align: middle;\n",
              "    }\n",
              "\n",
              "    .dataframe tbody tr th {\n",
              "        vertical-align: top;\n",
              "    }\n",
              "\n",
              "    .dataframe thead th {\n",
              "        text-align: right;\n",
              "    }\n",
              "</style>\n",
              "<table border=\"1\" class=\"dataframe\">\n",
              "  <thead>\n",
              "    <tr style=\"text-align: right;\">\n",
              "      <th></th>\n",
              "      <th>no_speed_bump</th>\n",
              "      <th>acc_x_dashboard</th>\n",
              "      <th>acc_y_dashboard</th>\n",
              "      <th>acc_z_dashboard</th>\n",
              "      <th>gyro_x_dashboard</th>\n",
              "      <th>gyro_y_dashboard</th>\n",
              "      <th>gyro_z_dashboard</th>\n",
              "      <th>temp_dashboard</th>\n",
              "      <th>speed</th>\n",
              "      <th>road</th>\n",
              "    </tr>\n",
              "  </thead>\n",
              "  <tbody>\n",
              "    <tr>\n",
              "      <th>0</th>\n",
              "      <td>NaN</td>\n",
              "      <td>-0.029431</td>\n",
              "      <td>-0.019621</td>\n",
              "      <td>9.781015</td>\n",
              "      <td>-0.122070</td>\n",
              "      <td>-0.006327</td>\n",
              "      <td>-0.112208</td>\n",
              "      <td>32.166023</td>\n",
              "      <td>0.010822</td>\n",
              "      <td>paved</td>\n",
              "    </tr>\n",
              "    <tr>\n",
              "      <th>1</th>\n",
              "      <td>1.0</td>\n",
              "      <td>-0.039008</td>\n",
              "      <td>0.009110</td>\n",
              "      <td>9.819322</td>\n",
              "      <td>-0.030518</td>\n",
              "      <td>0.115743</td>\n",
              "      <td>-0.051173</td>\n",
              "      <td>32.453560</td>\n",
              "      <td>0.010822</td>\n",
              "      <td>paved</td>\n",
              "    </tr>\n",
              "    <tr>\n",
              "      <th>2</th>\n",
              "      <td>1.0</td>\n",
              "      <td>0.010073</td>\n",
              "      <td>0.005518</td>\n",
              "      <td>9.777423</td>\n",
              "      <td>-0.122070</td>\n",
              "      <td>0.100485</td>\n",
              "      <td>-0.020655</td>\n",
              "      <td>32.405637</td>\n",
              "      <td>0.010822</td>\n",
              "      <td>paved</td>\n",
              "    </tr>\n",
              "    <tr>\n",
              "      <th>3</th>\n",
              "      <td>1.0</td>\n",
              "      <td>0.020847</td>\n",
              "      <td>0.028263</td>\n",
              "      <td>9.785803</td>\n",
              "      <td>0.061035</td>\n",
              "      <td>0.207296</td>\n",
              "      <td>-0.112208</td>\n",
              "      <td>32.453560</td>\n",
              "      <td>0.010822</td>\n",
              "      <td>paved</td>\n",
              "    </tr>\n",
              "    <tr>\n",
              "      <th>4</th>\n",
              "      <td>1.0</td>\n",
              "      <td>-0.003095</td>\n",
              "      <td>-0.017227</td>\n",
              "      <td>9.800168</td>\n",
              "      <td>-0.091553</td>\n",
              "      <td>0.146261</td>\n",
              "      <td>-0.112208</td>\n",
              "      <td>32.309791</td>\n",
              "      <td>0.010822</td>\n",
              "      <td>paved</td>\n",
              "    </tr>\n",
              "    <tr>\n",
              "      <th>...</th>\n",
              "      <td>...</td>\n",
              "      <td>...</td>\n",
              "      <td>...</td>\n",
              "      <td>...</td>\n",
              "      <td>...</td>\n",
              "      <td>...</td>\n",
              "      <td>...</td>\n",
              "      <td>...</td>\n",
              "      <td>...</td>\n",
              "      <td>...</td>\n",
              "    </tr>\n",
              "    <tr>\n",
              "      <th>119995</th>\n",
              "      <td>1.0</td>\n",
              "      <td>-0.367014</td>\n",
              "      <td>-0.180032</td>\n",
              "      <td>9.376394</td>\n",
              "      <td>-0.366211</td>\n",
              "      <td>-1.532206</td>\n",
              "      <td>-0.295313</td>\n",
              "      <td>32.261868</td>\n",
              "      <td>19.562754</td>\n",
              "      <td>paved</td>\n",
              "    </tr>\n",
              "    <tr>\n",
              "      <th>119996</th>\n",
              "      <td>1.0</td>\n",
              "      <td>0.650522</td>\n",
              "      <td>0.064176</td>\n",
              "      <td>9.409913</td>\n",
              "      <td>-1.342773</td>\n",
              "      <td>-1.318583</td>\n",
              "      <td>-0.219019</td>\n",
              "      <td>32.309791</td>\n",
              "      <td>19.562754</td>\n",
              "      <td>paved</td>\n",
              "    </tr>\n",
              "    <tr>\n",
              "      <th>119997</th>\n",
              "      <td>1.0</td>\n",
              "      <td>0.722348</td>\n",
              "      <td>-0.072293</td>\n",
              "      <td>9.081908</td>\n",
              "      <td>-1.251221</td>\n",
              "      <td>-0.647196</td>\n",
              "      <td>-0.264796</td>\n",
              "      <td>32.166023</td>\n",
              "      <td>19.562754</td>\n",
              "      <td>paved</td>\n",
              "    </tr>\n",
              "    <tr>\n",
              "      <th>119998</th>\n",
              "      <td>1.0</td>\n",
              "      <td>0.298574</td>\n",
              "      <td>-0.448183</td>\n",
              "      <td>9.467374</td>\n",
              "      <td>-0.854492</td>\n",
              "      <td>-0.921854</td>\n",
              "      <td>-0.173243</td>\n",
              "      <td>32.309791</td>\n",
              "      <td>19.562754</td>\n",
              "      <td>paved</td>\n",
              "    </tr>\n",
              "    <tr>\n",
              "      <th>119999</th>\n",
              "      <td>1.0</td>\n",
              "      <td>0.206398</td>\n",
              "      <td>-0.217142</td>\n",
              "      <td>9.572719</td>\n",
              "      <td>-1.480103</td>\n",
              "      <td>-1.547465</td>\n",
              "      <td>-0.508936</td>\n",
              "      <td>32.237907</td>\n",
              "      <td>19.562754</td>\n",
              "      <td>paved</td>\n",
              "    </tr>\n",
              "  </tbody>\n",
              "</table>\n",
              "<p>120000 rows × 10 columns</p>\n",
              "</div>\n",
              "      <button class=\"colab-df-convert\" onclick=\"convertToInteractive('df-b3a44bba-5dcb-43fa-8d9b-ad7ad901fffa')\"\n",
              "              title=\"Convert this dataframe to an interactive table.\"\n",
              "              style=\"display:none;\">\n",
              "        \n",
              "  <svg xmlns=\"http://www.w3.org/2000/svg\" height=\"24px\"viewBox=\"0 0 24 24\"\n",
              "       width=\"24px\">\n",
              "    <path d=\"M0 0h24v24H0V0z\" fill=\"none\"/>\n",
              "    <path d=\"M18.56 5.44l.94 2.06.94-2.06 2.06-.94-2.06-.94-.94-2.06-.94 2.06-2.06.94zm-11 1L8.5 8.5l.94-2.06 2.06-.94-2.06-.94L8.5 2.5l-.94 2.06-2.06.94zm10 10l.94 2.06.94-2.06 2.06-.94-2.06-.94-.94-2.06-.94 2.06-2.06.94z\"/><path d=\"M17.41 7.96l-1.37-1.37c-.4-.4-.92-.59-1.43-.59-.52 0-1.04.2-1.43.59L10.3 9.45l-7.72 7.72c-.78.78-.78 2.05 0 2.83L4 21.41c.39.39.9.59 1.41.59.51 0 1.02-.2 1.41-.59l7.78-7.78 2.81-2.81c.8-.78.8-2.07 0-2.86zM5.41 20L4 18.59l7.72-7.72 1.47 1.35L5.41 20z\"/>\n",
              "  </svg>\n",
              "      </button>\n",
              "      \n",
              "  <style>\n",
              "    .colab-df-container {\n",
              "      display:flex;\n",
              "      flex-wrap:wrap;\n",
              "      gap: 12px;\n",
              "    }\n",
              "\n",
              "    .colab-df-convert {\n",
              "      background-color: #E8F0FE;\n",
              "      border: none;\n",
              "      border-radius: 50%;\n",
              "      cursor: pointer;\n",
              "      display: none;\n",
              "      fill: #1967D2;\n",
              "      height: 32px;\n",
              "      padding: 0 0 0 0;\n",
              "      width: 32px;\n",
              "    }\n",
              "\n",
              "    .colab-df-convert:hover {\n",
              "      background-color: #E2EBFA;\n",
              "      box-shadow: 0px 1px 2px rgba(60, 64, 67, 0.3), 0px 1px 3px 1px rgba(60, 64, 67, 0.15);\n",
              "      fill: #174EA6;\n",
              "    }\n",
              "\n",
              "    [theme=dark] .colab-df-convert {\n",
              "      background-color: #3B4455;\n",
              "      fill: #D2E3FC;\n",
              "    }\n",
              "\n",
              "    [theme=dark] .colab-df-convert:hover {\n",
              "      background-color: #434B5C;\n",
              "      box-shadow: 0px 1px 3px 1px rgba(0, 0, 0, 0.15);\n",
              "      filter: drop-shadow(0px 1px 2px rgba(0, 0, 0, 0.3));\n",
              "      fill: #FFFFFF;\n",
              "    }\n",
              "  </style>\n",
              "\n",
              "      <script>\n",
              "        const buttonEl =\n",
              "          document.querySelector('#df-b3a44bba-5dcb-43fa-8d9b-ad7ad901fffa button.colab-df-convert');\n",
              "        buttonEl.style.display =\n",
              "          google.colab.kernel.accessAllowed ? 'block' : 'none';\n",
              "\n",
              "        async function convertToInteractive(key) {\n",
              "          const element = document.querySelector('#df-b3a44bba-5dcb-43fa-8d9b-ad7ad901fffa');\n",
              "          const dataTable =\n",
              "            await google.colab.kernel.invokeFunction('convertToInteractive',\n",
              "                                                     [key], {});\n",
              "          if (!dataTable) return;\n",
              "\n",
              "          const docLinkHtml = 'Like what you see? Visit the ' +\n",
              "            '<a target=\"_blank\" href=https://colab.research.google.com/notebooks/data_table.ipynb>data table notebook</a>'\n",
              "            + ' to learn more about interactive tables.';\n",
              "          element.innerHTML = '';\n",
              "          dataTable['output_type'] = 'display_data';\n",
              "          await google.colab.output.renderOutput(dataTable, element);\n",
              "          const docLink = document.createElement('div');\n",
              "          docLink.innerHTML = docLinkHtml;\n",
              "          element.appendChild(docLink);\n",
              "        }\n",
              "      </script>\n",
              "    </div>\n",
              "  </div>\n",
              "  "
            ]
          },
          "metadata": {},
          "execution_count": 4
        }
      ],
      "source": [
        "# abrindo e exibindo o data set \"dataset_velocidade.csv\"\n",
        "df_raw = pd.read_csv('/content/dataset_velocidade.csv', encoding='UTF-8', sep=',')\n",
        "df_raw.head(120000)"
      ]
    },
    {
      "cell_type": "markdown",
      "metadata": {
        "id": "8LhNsy7FUPAF"
      },
      "source": [
        "# 2) Análise exploratória e tratamento de dados"
      ]
    },
    {
      "cell_type": "markdown",
      "metadata": {
        "id": "_TChK5Zltg1T"
      },
      "source": [
        "Faremos o tratamento tanto de dados nulos, quanto de NaN. \n",
        "Começaremos pela coluna \"no_speed_bump\", a princípio, pela pequena quantidade exibida no dataset, pressupõe-se que é composta apenas de valores faltantes e iguais a 1. Para isso, com os resultados do comando '.describe()', sua média deve ser exatamente igual a 1 (visto que o valor NaN não entra para a conta)."
      ]
    },
    {
      "cell_type": "code",
      "execution_count": null,
      "metadata": {
        "id": "iPwPo6zNl0BQ",
        "colab": {
          "base_uri": "https://localhost:8080/",
          "height": 364
        },
        "outputId": "ab497433-8042-4f81-ed6a-81380383c23b"
      },
      "outputs": [
        {
          "output_type": "execute_result",
          "data": {
            "text/plain": [
              "       no_speed_bump  acc_x_dashboard  acc_y_dashboard  acc_z_dashboard  \\\n",
              "count  123437.000000    123437.000000    123437.000000    123437.000000   \n",
              "mean        0.983903         0.617630        -0.240425         9.828602   \n",
              "std         0.125850         1.434470         1.963395         1.704215   \n",
              "min         0.000000        -8.710806       -13.290681        -3.705523   \n",
              "25%         1.000000        -0.091680        -1.164049         9.084302   \n",
              "50%         1.000000         0.521235        -0.206369         9.824110   \n",
              "75%         1.000000         1.326884         0.590901        10.595043   \n",
              "max         1.000000        13.957495        18.276868        24.024120   \n",
              "\n",
              "       gyro_x_dashboard  gyro_y_dashboard  gyro_z_dashboard  temp_dashboard  \\\n",
              "count     123437.000000     123437.000000     123437.000000   123437.000000   \n",
              "mean           0.018676         -0.074961         -0.197090       32.829623   \n",
              "std            3.476104          5.409665          3.578210        0.417881   \n",
              "min          -35.766602        -69.159159        -23.091944        0.000000   \n",
              "25%           -1.220703         -1.959452         -1.516017       32.501483   \n",
              "50%            0.000000         -0.052103         -0.081690       32.789020   \n",
              "75%            1.266479          1.824728          1.261083       33.172402   \n",
              "max           44.708252         62.432638         22.165624       33.843322   \n",
              "\n",
              "               speed  \n",
              "count  123437.000000  \n",
              "mean        9.238824  \n",
              "std         6.298133  \n",
              "min         0.005860  \n",
              "25%         4.586517  \n",
              "50%         6.692151  \n",
              "75%        15.029036  \n",
              "max        21.592090  "
            ],
            "text/html": [
              "\n",
              "  <div id=\"df-e9294080-83b4-46cc-9d5f-0e20c96421c8\">\n",
              "    <div class=\"colab-df-container\">\n",
              "      <div>\n",
              "<style scoped>\n",
              "    .dataframe tbody tr th:only-of-type {\n",
              "        vertical-align: middle;\n",
              "    }\n",
              "\n",
              "    .dataframe tbody tr th {\n",
              "        vertical-align: top;\n",
              "    }\n",
              "\n",
              "    .dataframe thead th {\n",
              "        text-align: right;\n",
              "    }\n",
              "</style>\n",
              "<table border=\"1\" class=\"dataframe\">\n",
              "  <thead>\n",
              "    <tr style=\"text-align: right;\">\n",
              "      <th></th>\n",
              "      <th>no_speed_bump</th>\n",
              "      <th>acc_x_dashboard</th>\n",
              "      <th>acc_y_dashboard</th>\n",
              "      <th>acc_z_dashboard</th>\n",
              "      <th>gyro_x_dashboard</th>\n",
              "      <th>gyro_y_dashboard</th>\n",
              "      <th>gyro_z_dashboard</th>\n",
              "      <th>temp_dashboard</th>\n",
              "      <th>speed</th>\n",
              "    </tr>\n",
              "  </thead>\n",
              "  <tbody>\n",
              "    <tr>\n",
              "      <th>count</th>\n",
              "      <td>123437.000000</td>\n",
              "      <td>123437.000000</td>\n",
              "      <td>123437.000000</td>\n",
              "      <td>123437.000000</td>\n",
              "      <td>123437.000000</td>\n",
              "      <td>123437.000000</td>\n",
              "      <td>123437.000000</td>\n",
              "      <td>123437.000000</td>\n",
              "      <td>123437.000000</td>\n",
              "    </tr>\n",
              "    <tr>\n",
              "      <th>mean</th>\n",
              "      <td>0.983903</td>\n",
              "      <td>0.617630</td>\n",
              "      <td>-0.240425</td>\n",
              "      <td>9.828602</td>\n",
              "      <td>0.018676</td>\n",
              "      <td>-0.074961</td>\n",
              "      <td>-0.197090</td>\n",
              "      <td>32.829623</td>\n",
              "      <td>9.238824</td>\n",
              "    </tr>\n",
              "    <tr>\n",
              "      <th>std</th>\n",
              "      <td>0.125850</td>\n",
              "      <td>1.434470</td>\n",
              "      <td>1.963395</td>\n",
              "      <td>1.704215</td>\n",
              "      <td>3.476104</td>\n",
              "      <td>5.409665</td>\n",
              "      <td>3.578210</td>\n",
              "      <td>0.417881</td>\n",
              "      <td>6.298133</td>\n",
              "    </tr>\n",
              "    <tr>\n",
              "      <th>min</th>\n",
              "      <td>0.000000</td>\n",
              "      <td>-8.710806</td>\n",
              "      <td>-13.290681</td>\n",
              "      <td>-3.705523</td>\n",
              "      <td>-35.766602</td>\n",
              "      <td>-69.159159</td>\n",
              "      <td>-23.091944</td>\n",
              "      <td>0.000000</td>\n",
              "      <td>0.005860</td>\n",
              "    </tr>\n",
              "    <tr>\n",
              "      <th>25%</th>\n",
              "      <td>1.000000</td>\n",
              "      <td>-0.091680</td>\n",
              "      <td>-1.164049</td>\n",
              "      <td>9.084302</td>\n",
              "      <td>-1.220703</td>\n",
              "      <td>-1.959452</td>\n",
              "      <td>-1.516017</td>\n",
              "      <td>32.501483</td>\n",
              "      <td>4.586517</td>\n",
              "    </tr>\n",
              "    <tr>\n",
              "      <th>50%</th>\n",
              "      <td>1.000000</td>\n",
              "      <td>0.521235</td>\n",
              "      <td>-0.206369</td>\n",
              "      <td>9.824110</td>\n",
              "      <td>0.000000</td>\n",
              "      <td>-0.052103</td>\n",
              "      <td>-0.081690</td>\n",
              "      <td>32.789020</td>\n",
              "      <td>6.692151</td>\n",
              "    </tr>\n",
              "    <tr>\n",
              "      <th>75%</th>\n",
              "      <td>1.000000</td>\n",
              "      <td>1.326884</td>\n",
              "      <td>0.590901</td>\n",
              "      <td>10.595043</td>\n",
              "      <td>1.266479</td>\n",
              "      <td>1.824728</td>\n",
              "      <td>1.261083</td>\n",
              "      <td>33.172402</td>\n",
              "      <td>15.029036</td>\n",
              "    </tr>\n",
              "    <tr>\n",
              "      <th>max</th>\n",
              "      <td>1.000000</td>\n",
              "      <td>13.957495</td>\n",
              "      <td>18.276868</td>\n",
              "      <td>24.024120</td>\n",
              "      <td>44.708252</td>\n",
              "      <td>62.432638</td>\n",
              "      <td>22.165624</td>\n",
              "      <td>33.843322</td>\n",
              "      <td>21.592090</td>\n",
              "    </tr>\n",
              "  </tbody>\n",
              "</table>\n",
              "</div>\n",
              "      <button class=\"colab-df-convert\" onclick=\"convertToInteractive('df-e9294080-83b4-46cc-9d5f-0e20c96421c8')\"\n",
              "              title=\"Convert this dataframe to an interactive table.\"\n",
              "              style=\"display:none;\">\n",
              "        \n",
              "  <svg xmlns=\"http://www.w3.org/2000/svg\" height=\"24px\"viewBox=\"0 0 24 24\"\n",
              "       width=\"24px\">\n",
              "    <path d=\"M0 0h24v24H0V0z\" fill=\"none\"/>\n",
              "    <path d=\"M18.56 5.44l.94 2.06.94-2.06 2.06-.94-2.06-.94-.94-2.06-.94 2.06-2.06.94zm-11 1L8.5 8.5l.94-2.06 2.06-.94-2.06-.94L8.5 2.5l-.94 2.06-2.06.94zm10 10l.94 2.06.94-2.06 2.06-.94-2.06-.94-.94-2.06-.94 2.06-2.06.94z\"/><path d=\"M17.41 7.96l-1.37-1.37c-.4-.4-.92-.59-1.43-.59-.52 0-1.04.2-1.43.59L10.3 9.45l-7.72 7.72c-.78.78-.78 2.05 0 2.83L4 21.41c.39.39.9.59 1.41.59.51 0 1.02-.2 1.41-.59l7.78-7.78 2.81-2.81c.8-.78.8-2.07 0-2.86zM5.41 20L4 18.59l7.72-7.72 1.47 1.35L5.41 20z\"/>\n",
              "  </svg>\n",
              "      </button>\n",
              "      \n",
              "  <style>\n",
              "    .colab-df-container {\n",
              "      display:flex;\n",
              "      flex-wrap:wrap;\n",
              "      gap: 12px;\n",
              "    }\n",
              "\n",
              "    .colab-df-convert {\n",
              "      background-color: #E8F0FE;\n",
              "      border: none;\n",
              "      border-radius: 50%;\n",
              "      cursor: pointer;\n",
              "      display: none;\n",
              "      fill: #1967D2;\n",
              "      height: 32px;\n",
              "      padding: 0 0 0 0;\n",
              "      width: 32px;\n",
              "    }\n",
              "\n",
              "    .colab-df-convert:hover {\n",
              "      background-color: #E2EBFA;\n",
              "      box-shadow: 0px 1px 2px rgba(60, 64, 67, 0.3), 0px 1px 3px 1px rgba(60, 64, 67, 0.15);\n",
              "      fill: #174EA6;\n",
              "    }\n",
              "\n",
              "    [theme=dark] .colab-df-convert {\n",
              "      background-color: #3B4455;\n",
              "      fill: #D2E3FC;\n",
              "    }\n",
              "\n",
              "    [theme=dark] .colab-df-convert:hover {\n",
              "      background-color: #434B5C;\n",
              "      box-shadow: 0px 1px 3px 1px rgba(0, 0, 0, 0.15);\n",
              "      filter: drop-shadow(0px 1px 2px rgba(0, 0, 0, 0.3));\n",
              "      fill: #FFFFFF;\n",
              "    }\n",
              "  </style>\n",
              "\n",
              "      <script>\n",
              "        const buttonEl =\n",
              "          document.querySelector('#df-e9294080-83b4-46cc-9d5f-0e20c96421c8 button.colab-df-convert');\n",
              "        buttonEl.style.display =\n",
              "          google.colab.kernel.accessAllowed ? 'block' : 'none';\n",
              "\n",
              "        async function convertToInteractive(key) {\n",
              "          const element = document.querySelector('#df-e9294080-83b4-46cc-9d5f-0e20c96421c8');\n",
              "          const dataTable =\n",
              "            await google.colab.kernel.invokeFunction('convertToInteractive',\n",
              "                                                     [key], {});\n",
              "          if (!dataTable) return;\n",
              "\n",
              "          const docLinkHtml = 'Like what you see? Visit the ' +\n",
              "            '<a target=\"_blank\" href=https://colab.research.google.com/notebooks/data_table.ipynb>data table notebook</a>'\n",
              "            + ' to learn more about interactive tables.';\n",
              "          element.innerHTML = '';\n",
              "          dataTable['output_type'] = 'display_data';\n",
              "          await google.colab.output.renderOutput(dataTable, element);\n",
              "          const docLink = document.createElement('div');\n",
              "          docLink.innerHTML = docLinkHtml;\n",
              "          element.appendChild(docLink);\n",
              "        }\n",
              "      </script>\n",
              "    </div>\n",
              "  </div>\n",
              "  "
            ]
          },
          "metadata": {},
          "execution_count": 5
        }
      ],
      "source": [
        "df_raw.describe()"
      ]
    },
    {
      "cell_type": "markdown",
      "metadata": {
        "id": "2iCvfWcUuAjk"
      },
      "source": [
        "Pode-se observar que a média deu aproximadamente 0.98, ou seja, a coluna \"no_speed_bump\" é vastamente composta por números iguais a 1 e uma pequena quantidade igual a 0 (valores NaN não entram nessa conta!)"
      ]
    },
    {
      "cell_type": "code",
      "execution_count": null,
      "metadata": {
        "id": "s4FVFpq1ykmY",
        "colab": {
          "base_uri": "https://localhost:8080/"
        },
        "outputId": "637d03c0-96c4-4a7b-bba5-e51d1d24f65a"
      },
      "outputs": [
        {
          "output_type": "execute_result",
          "data": {
            "text/plain": [
              "no_speed_bump       1247\n",
              "acc_x_dashboard     1247\n",
              "acc_y_dashboard     1247\n",
              "acc_z_dashboard     1247\n",
              "gyro_x_dashboard    1247\n",
              "gyro_y_dashboard    1247\n",
              "gyro_z_dashboard    1247\n",
              "temp_dashboard      1247\n",
              "speed               1247\n",
              "road                   0\n",
              "dtype: int64"
            ]
          },
          "metadata": {},
          "execution_count": 6
        }
      ],
      "source": [
        "# comando para ver a quantidade de valores faltantes em todo o dataset\n",
        "df_raw.isnull().sum()"
      ]
    },
    {
      "cell_type": "code",
      "execution_count": null,
      "metadata": {
        "id": "mSJTJkEbvlEE",
        "colab": {
          "base_uri": "https://localhost:8080/"
        },
        "outputId": "e6572f70-4081-46e1-b44d-342ba1b6edc7"
      },
      "outputs": [
        {
          "output_type": "execute_result",
          "data": {
            "text/plain": [
              "no_speed_bump       1987\n",
              "acc_x_dashboard        2\n",
              "acc_y_dashboard        2\n",
              "acc_z_dashboard        2\n",
              "gyro_x_dashboard    1039\n",
              "gyro_y_dashboard       2\n",
              "gyro_z_dashboard       2\n",
              "temp_dashboard         2\n",
              "speed                  0\n",
              "road                   0\n",
              "dtype: int64"
            ]
          },
          "metadata": {},
          "execution_count": 7
        }
      ],
      "source": [
        "# comando para ver a quantidade de valores iguais a zero em todo o dataset\n",
        "df_raw.isin([0]).sum()"
      ]
    },
    {
      "cell_type": "markdown",
      "metadata": {
        "id": "arTA6KHTxCTh"
      },
      "source": [
        "O valor 0 faz sentido estar presente na coluna \"no_speed_bump\", sendo 1 igual a \"não tem lombada\" e 0, \"tem lombada\", com isso, apenas falta tratar dos dados NaN. Entretanto, há um impasse: com qual valor preencher esses valores faltantes? 1 ou 0? A suposição seria substituir com 1, justamente por ser uma coisa faltante, mas isso não é uma certeza e, para isso, devemos fazer e analisar algumas coisas."
      ]
    },
    {
      "cell_type": "code",
      "execution_count": null,
      "metadata": {
        "id": "Hf4njgpo7rO2",
        "colab": {
          "base_uri": "https://localhost:8080/",
          "height": 302
        },
        "outputId": "2515e55b-7fbe-4d6d-cbdc-87ee4c3b3691"
      },
      "outputs": [
        {
          "output_type": "execute_result",
          "data": {
            "text/plain": [
              "             acc_x_dashboard  acc_y_dashboard  acc_z_dashboard  \\\n",
              "road                                                             \n",
              "asphalt             0.514057        -0.263484         9.824061   \n",
              "paved               0.501764        -0.172332         9.827872   \n",
              "cobblestone         0.458877         0.139804         9.786915   \n",
              "unpaved             0.825555        -0.361434         9.831771   \n",
              "dirt                0.835397        -0.498504         9.671255   \n",
              "\n",
              "             gyro_x_dashboard  gyro_y_dashboard  gyro_z_dashboard  \\\n",
              "road                                                                \n",
              "asphalt              0.037510         -0.052077         -0.120960   \n",
              "paved                0.036566         -0.063805         -0.271413   \n",
              "cobblestone          0.173588         -0.541779         -0.923684   \n",
              "unpaved             -0.017823         -0.090419         -0.064278   \n",
              "dirt                 0.360583         -0.348698          0.087464   \n",
              "\n",
              "             temp_dashboard      speed  \n",
              "road                                    \n",
              "asphalt           32.726167  13.838838  \n",
              "paved             32.833376  11.743367  \n",
              "cobblestone       33.128025   6.569799  \n",
              "unpaved           32.823100   4.741807  \n",
              "dirt              32.814889   4.689771  "
            ],
            "text/html": [
              "\n",
              "  <div id=\"df-e1b11dbf-cd44-4562-8c26-cde66db00098\">\n",
              "    <div class=\"colab-df-container\">\n",
              "      <div>\n",
              "<style scoped>\n",
              "    .dataframe tbody tr th:only-of-type {\n",
              "        vertical-align: middle;\n",
              "    }\n",
              "\n",
              "    .dataframe tbody tr th {\n",
              "        vertical-align: top;\n",
              "    }\n",
              "\n",
              "    .dataframe thead th {\n",
              "        text-align: right;\n",
              "    }\n",
              "</style>\n",
              "<table border=\"1\" class=\"dataframe\">\n",
              "  <thead>\n",
              "    <tr style=\"text-align: right;\">\n",
              "      <th></th>\n",
              "      <th>acc_x_dashboard</th>\n",
              "      <th>acc_y_dashboard</th>\n",
              "      <th>acc_z_dashboard</th>\n",
              "      <th>gyro_x_dashboard</th>\n",
              "      <th>gyro_y_dashboard</th>\n",
              "      <th>gyro_z_dashboard</th>\n",
              "      <th>temp_dashboard</th>\n",
              "      <th>speed</th>\n",
              "    </tr>\n",
              "    <tr>\n",
              "      <th>road</th>\n",
              "      <th></th>\n",
              "      <th></th>\n",
              "      <th></th>\n",
              "      <th></th>\n",
              "      <th></th>\n",
              "      <th></th>\n",
              "      <th></th>\n",
              "      <th></th>\n",
              "    </tr>\n",
              "  </thead>\n",
              "  <tbody>\n",
              "    <tr>\n",
              "      <th>asphalt</th>\n",
              "      <td>0.514057</td>\n",
              "      <td>-0.263484</td>\n",
              "      <td>9.824061</td>\n",
              "      <td>0.037510</td>\n",
              "      <td>-0.052077</td>\n",
              "      <td>-0.120960</td>\n",
              "      <td>32.726167</td>\n",
              "      <td>13.838838</td>\n",
              "    </tr>\n",
              "    <tr>\n",
              "      <th>paved</th>\n",
              "      <td>0.501764</td>\n",
              "      <td>-0.172332</td>\n",
              "      <td>9.827872</td>\n",
              "      <td>0.036566</td>\n",
              "      <td>-0.063805</td>\n",
              "      <td>-0.271413</td>\n",
              "      <td>32.833376</td>\n",
              "      <td>11.743367</td>\n",
              "    </tr>\n",
              "    <tr>\n",
              "      <th>cobblestone</th>\n",
              "      <td>0.458877</td>\n",
              "      <td>0.139804</td>\n",
              "      <td>9.786915</td>\n",
              "      <td>0.173588</td>\n",
              "      <td>-0.541779</td>\n",
              "      <td>-0.923684</td>\n",
              "      <td>33.128025</td>\n",
              "      <td>6.569799</td>\n",
              "    </tr>\n",
              "    <tr>\n",
              "      <th>unpaved</th>\n",
              "      <td>0.825555</td>\n",
              "      <td>-0.361434</td>\n",
              "      <td>9.831771</td>\n",
              "      <td>-0.017823</td>\n",
              "      <td>-0.090419</td>\n",
              "      <td>-0.064278</td>\n",
              "      <td>32.823100</td>\n",
              "      <td>4.741807</td>\n",
              "    </tr>\n",
              "    <tr>\n",
              "      <th>dirt</th>\n",
              "      <td>0.835397</td>\n",
              "      <td>-0.498504</td>\n",
              "      <td>9.671255</td>\n",
              "      <td>0.360583</td>\n",
              "      <td>-0.348698</td>\n",
              "      <td>0.087464</td>\n",
              "      <td>32.814889</td>\n",
              "      <td>4.689771</td>\n",
              "    </tr>\n",
              "  </tbody>\n",
              "</table>\n",
              "</div>\n",
              "      <button class=\"colab-df-convert\" onclick=\"convertToInteractive('df-e1b11dbf-cd44-4562-8c26-cde66db00098')\"\n",
              "              title=\"Convert this dataframe to an interactive table.\"\n",
              "              style=\"display:none;\">\n",
              "        \n",
              "  <svg xmlns=\"http://www.w3.org/2000/svg\" height=\"24px\"viewBox=\"0 0 24 24\"\n",
              "       width=\"24px\">\n",
              "    <path d=\"M0 0h24v24H0V0z\" fill=\"none\"/>\n",
              "    <path d=\"M18.56 5.44l.94 2.06.94-2.06 2.06-.94-2.06-.94-.94-2.06-.94 2.06-2.06.94zm-11 1L8.5 8.5l.94-2.06 2.06-.94-2.06-.94L8.5 2.5l-.94 2.06-2.06.94zm10 10l.94 2.06.94-2.06 2.06-.94-2.06-.94-.94-2.06-.94 2.06-2.06.94z\"/><path d=\"M17.41 7.96l-1.37-1.37c-.4-.4-.92-.59-1.43-.59-.52 0-1.04.2-1.43.59L10.3 9.45l-7.72 7.72c-.78.78-.78 2.05 0 2.83L4 21.41c.39.39.9.59 1.41.59.51 0 1.02-.2 1.41-.59l7.78-7.78 2.81-2.81c.8-.78.8-2.07 0-2.86zM5.41 20L4 18.59l7.72-7.72 1.47 1.35L5.41 20z\"/>\n",
              "  </svg>\n",
              "      </button>\n",
              "      \n",
              "  <style>\n",
              "    .colab-df-container {\n",
              "      display:flex;\n",
              "      flex-wrap:wrap;\n",
              "      gap: 12px;\n",
              "    }\n",
              "\n",
              "    .colab-df-convert {\n",
              "      background-color: #E8F0FE;\n",
              "      border: none;\n",
              "      border-radius: 50%;\n",
              "      cursor: pointer;\n",
              "      display: none;\n",
              "      fill: #1967D2;\n",
              "      height: 32px;\n",
              "      padding: 0 0 0 0;\n",
              "      width: 32px;\n",
              "    }\n",
              "\n",
              "    .colab-df-convert:hover {\n",
              "      background-color: #E2EBFA;\n",
              "      box-shadow: 0px 1px 2px rgba(60, 64, 67, 0.3), 0px 1px 3px 1px rgba(60, 64, 67, 0.15);\n",
              "      fill: #174EA6;\n",
              "    }\n",
              "\n",
              "    [theme=dark] .colab-df-convert {\n",
              "      background-color: #3B4455;\n",
              "      fill: #D2E3FC;\n",
              "    }\n",
              "\n",
              "    [theme=dark] .colab-df-convert:hover {\n",
              "      background-color: #434B5C;\n",
              "      box-shadow: 0px 1px 3px 1px rgba(0, 0, 0, 0.15);\n",
              "      filter: drop-shadow(0px 1px 2px rgba(0, 0, 0, 0.3));\n",
              "      fill: #FFFFFF;\n",
              "    }\n",
              "  </style>\n",
              "\n",
              "      <script>\n",
              "        const buttonEl =\n",
              "          document.querySelector('#df-e1b11dbf-cd44-4562-8c26-cde66db00098 button.colab-df-convert');\n",
              "        buttonEl.style.display =\n",
              "          google.colab.kernel.accessAllowed ? 'block' : 'none';\n",
              "\n",
              "        async function convertToInteractive(key) {\n",
              "          const element = document.querySelector('#df-e1b11dbf-cd44-4562-8c26-cde66db00098');\n",
              "          const dataTable =\n",
              "            await google.colab.kernel.invokeFunction('convertToInteractive',\n",
              "                                                     [key], {});\n",
              "          if (!dataTable) return;\n",
              "\n",
              "          const docLinkHtml = 'Like what you see? Visit the ' +\n",
              "            '<a target=\"_blank\" href=https://colab.research.google.com/notebooks/data_table.ipynb>data table notebook</a>'\n",
              "            + ' to learn more about interactive tables.';\n",
              "          element.innerHTML = '';\n",
              "          dataTable['output_type'] = 'display_data';\n",
              "          await google.colab.output.renderOutput(dataTable, element);\n",
              "          const docLink = document.createElement('div');\n",
              "          docLink.innerHTML = docLinkHtml;\n",
              "          element.appendChild(docLink);\n",
              "        }\n",
              "      </script>\n",
              "    </div>\n",
              "  </div>\n",
              "  "
            ]
          },
          "metadata": {},
          "execution_count": 8
        }
      ],
      "source": [
        "# tirar a media de cada coluna de acordo com o tipo de estrada\n",
        "road_raw_mean = df_raw.drop(columns=['no_speed_bump']).groupby('road').mean().sort_values(by = 'speed', ascending=False)\n",
        "road_raw_mean.head()"
      ]
    },
    {
      "cell_type": "markdown",
      "metadata": {
        "id": "QrYkTsnmA2LB"
      },
      "source": [
        "Com os cálculos acima, todos os valores NaN do dataset (exceto a coluna no_speed_bump), serão preenchidos com a sua média em cada tipo de asfalto de cada coluna. Isso será feito para, logo em seguida, dar sequência no tratamento dos valores faltantes do \"no_speed_bump\""
      ]
    },
    {
      "cell_type": "markdown",
      "metadata": {
        "id": "2hfjdyjxK5FM"
      },
      "source": [
        "Porém surge uma preocupação: será que a mudança desses valores faltantes vai impactar muito no dataset como um todo?"
      ]
    },
    {
      "cell_type": "code",
      "source": [
        "# biblioteca para ver um gráfico de dados faltantes\n",
        "import missingno as msno"
      ],
      "metadata": {
        "id": "XTpaNZtTvTl9"
      },
      "execution_count": null,
      "outputs": []
    },
    {
      "cell_type": "code",
      "execution_count": null,
      "metadata": {
        "id": "aj0tBtajLQvk",
        "colab": {
          "base_uri": "https://localhost:8080/",
          "height": 177
        },
        "outputId": "16fa1d38-7faa-4ebd-f261-4a4b0146a974"
      },
      "outputs": [
        {
          "output_type": "execute_result",
          "data": {
            "text/plain": [
              "Text(0.5, 1.0, 'Terra')"
            ]
          },
          "metadata": {},
          "execution_count": 10
        },
        {
          "output_type": "display_data",
          "data": {
            "text/plain": [
              "<Figure size 576x288 with 2 Axes>"
            ],
            "image/png": "[encoded data removed]"
          },
          "metadata": {
            "needs_background": "light"
          }
        },
        {
          "output_type": "display_data",
          "data": {
            "text/plain": [
              "<Figure size 576x288 with 2 Axes>"
            ],
            "image/png": "[encoded data removed]"
          },
          "metadata": {
            "needs_background": "light"
          }
        },
        {
          "output_type": "display_data",
          "data": {
            "text/plain": [
              "<Figure size 576x288 with 2 Axes>"
            ],
            "image/png": "[encoded data removed]"
          },
          "metadata": {
            "needs_background": "light"
          }
        },
        {
          "output_type": "display_data",
          "data": {
            "text/plain": [
              "<Figure size 576x288 with 2 Axes>"
            ],
            "image/png": "[encoded data removed]"
          },
          "metadata": {
            "needs_background": "light"
          }
        },
        {
          "output_type": "display_data",
          "data": {
            "text/plain": [
              "<Figure size 576x288 with 2 Axes>"
            ],
            "image/png": "[encoded data removed]"
          },
          "metadata": {
            "needs_background": "light"
          }
        }
      ],
      "source": [
        "msno.matrix(df_raw[df_raw['road']=='asphalt'], figsize=(8,4))\n",
        "plt.title('Asfalto')\n",
        "\n",
        "msno.matrix(df_raw[df_raw['road']=='paved'], figsize=(8,4))\n",
        "plt.title('Pavimentado')\n",
        "\n",
        "msno.matrix(df_raw[df_raw['road']=='cobblestone'], figsize=(8,4))\n",
        "plt.title('Pedregulho')\n",
        "\n",
        "msno.matrix(df_raw[df_raw['road']=='unpaved'], figsize=(8,4))\n",
        "plt.title('Não Pavimentado')\n",
        "\n",
        "msno.matrix(df_raw[df_raw['road']=='dirt'], figsize=(8,4))\n",
        "plt.title('Terra')"
      ]
    },
    {
      "cell_type": "markdown",
      "metadata": {
        "id": "MG4ww46Ohy-A"
      },
      "source": [
        "(Esse gráfico servirá de apoio também para futuros tratamentos!)"
      ]
    },
    {
      "cell_type": "markdown",
      "metadata": {
        "id": "sSO2JXiBLdbP"
      },
      "source": [
        "No gráfico acima, observamos que as barras pretas são dados não nulos, enquanto que as linhas brancas (cortes) são as informações faltantes em cada tipo de rua e a quantidade total de linhas fica no canto inferior esquerdo. Com isso, é possível perceber que nenhum tratamento do dataset vai conseguir mudar drasticamente seus resultados finais."
      ]
    },
    {
      "cell_type": "markdown",
      "metadata": {
        "id": "nDRa1gQbnfpC"
      },
      "source": [
        "# 2.1) Tratando uma parte dos dados"
      ]
    },
    {
      "cell_type": "code",
      "execution_count": null,
      "metadata": {
        "id": "Z5qBEjPx6X1R"
      },
      "outputs": [],
      "source": [
        "# separando as colunas e os tipos de rua para auxiliar no proximo codigo\n",
        "columns_name = ['acc_x_dashboard', 'acc_y_dashboard', 'acc_z_dashboard', 'gyro_x_dashboard', 'gyro_y_dashboard', 'gyro_z_dashboard', 'temp_dashboard', 'speed']\n",
        "roads_type = ['asphalt', 'paved', 'cobblestone', 'unpaved', 'dirt']"
      ]
    },
    {
      "cell_type": "code",
      "execution_count": null,
      "metadata": {
        "id": "GDBZ_mLp7mUy"
      },
      "outputs": [],
      "source": [
        "# comando para substituir os valores NaN pela sua respectiva media de coluna e tipo de rua (exceto no_speed_bump)\n",
        "numbers = []\n",
        "\n",
        "df_v1 = df_raw.copy()\n",
        "\n",
        "for idx, rows in road_raw_mean.iterrows():\n",
        "  my_list = [rows.acc_x_dashboard, rows.acc_y_dashboard, rows.acc_z_dashboard,\n",
        "             rows.gyro_x_dashboard, rows.gyro_y_dashboard, rows.gyro_z_dashboard,\n",
        "             rows.temp_dashboard, rows.speed]\n",
        "  numbers.append(my_list)\n",
        "\n",
        "for i in roads_type:\n",
        "    for k in numbers:\n",
        "        for j in columns_name:\n",
        "            for w in k:\n",
        "                df_v1.update(df_v1[df_v1['road']==i][j].fillna(w))\n",
        "                del k[0]\n",
        "                break\n",
        "        if not k:\n",
        "            numbers = [x for x in numbers if x]\n",
        "            break"
      ]
    },
    {
      "cell_type": "code",
      "execution_count": null,
      "metadata": {
        "id": "AIqfXYd3QRd1",
        "colab": {
          "base_uri": "https://localhost:8080/"
        },
        "outputId": "3692a967-134d-4afb-f3d3-35e0081792f0"
      },
      "outputs": [
        {
          "output_type": "execute_result",
          "data": {
            "text/plain": [
              "no_speed_bump       1247\n",
              "acc_x_dashboard        0\n",
              "acc_y_dashboard        0\n",
              "acc_z_dashboard        0\n",
              "gyro_x_dashboard       0\n",
              "gyro_y_dashboard       0\n",
              "gyro_z_dashboard       0\n",
              "temp_dashboard         0\n",
              "speed                  0\n",
              "road                   0\n",
              "dtype: int64"
            ]
          },
          "metadata": {},
          "execution_count": 13
        }
      ],
      "source": [
        "# ver os dados faltantes\n",
        "df_v1.isnull().sum()"
      ]
    },
    {
      "cell_type": "markdown",
      "metadata": {
        "id": "zon4bmj3PKzi"
      },
      "source": [
        "Em seguida, daremos sequência ao valor final de NaN do \"no_speed_bump\", criando um dataframe ao selecionar somente os valores faltantes."
      ]
    },
    {
      "cell_type": "code",
      "execution_count": null,
      "metadata": {
        "id": "YQ46au8s8XkX",
        "colab": {
          "base_uri": "https://localhost:8080/",
          "height": 488
        },
        "outputId": "8763221c-80ec-4a07-a947-47aaee373f24"
      },
      "outputs": [
        {
          "output_type": "execute_result",
          "data": {
            "text/plain": [
              "        no_speed_bump  acc_x_dashboard  acc_y_dashboard  acc_z_dashboard  \\\n",
              "0                 NaN        -0.029431        -0.019621         9.781015   \n",
              "100               NaN         0.016059         0.006715         9.816928   \n",
              "128               NaN         0.001693         0.011504         9.809745   \n",
              "134               NaN        -0.005489         0.056994         9.781015   \n",
              "163               NaN        -0.015066         0.006715         9.682852   \n",
              "...               ...              ...              ...              ...   \n",
              "124280            NaN         0.499687        -0.347626        10.180846   \n",
              "124323            NaN         0.415890        -0.358400         9.929455   \n",
              "124556            NaN         0.351247        -0.414664         9.867206   \n",
              "124586            NaN         0.310545        -0.565499         9.546383   \n",
              "124652            NaN         0.310545        -0.540360         9.746299   \n",
              "\n",
              "        gyro_x_dashboard  gyro_y_dashboard  gyro_z_dashboard  temp_dashboard  \\\n",
              "0              -0.122070         -0.006327         -0.112208       32.166023   \n",
              "100             0.152588         -0.036844         -0.142726       32.357714   \n",
              "128             0.091553         -0.097880         -0.142726       32.309791   \n",
              "134            -0.061035         -0.006327          0.040380       32.357714   \n",
              "163             0.061035         -0.036844         -0.173243       32.309791   \n",
              "...                  ...               ...               ...             ...   \n",
              "124280          0.091553          0.146261         -0.325831       31.974331   \n",
              "124323          0.244141          0.237814         -0.051173       32.285830   \n",
              "124556         -0.152588         -0.097880         -0.020655       31.926408   \n",
              "124586         -0.091553         -0.097880          0.040380       32.309791   \n",
              "124652          0.030518          0.085226          0.009862       32.142061   \n",
              "\n",
              "           speed   road  \n",
              "0       0.010822  paved  \n",
              "100     0.010822  paved  \n",
              "128     0.010822  paved  \n",
              "134     0.010822  paved  \n",
              "163     0.010822  paved  \n",
              "...          ...    ...  \n",
              "124280  0.023570  paved  \n",
              "124323  0.023570  paved  \n",
              "124556  0.023570  paved  \n",
              "124586  0.023570  paved  \n",
              "124652  0.023570  paved  \n",
              "\n",
              "[1247 rows x 10 columns]"
            ],
            "text/html": [
              "\n",
              "  <div id=\"df-720cf787-e7f2-4f23-80d7-34ae67fdeae1\">\n",
              "    <div class=\"colab-df-container\">\n",
              "      <div>\n",
              "<style scoped>\n",
              "    .dataframe tbody tr th:only-of-type {\n",
              "        vertical-align: middle;\n",
              "    }\n",
              "\n",
              "    .dataframe tbody tr th {\n",
              "        vertical-align: top;\n",
              "    }\n",
              "\n",
              "    .dataframe thead th {\n",
              "        text-align: right;\n",
              "    }\n",
              "</style>\n",
              "<table border=\"1\" class=\"dataframe\">\n",
              "  <thead>\n",
              "    <tr style=\"text-align: right;\">\n",
              "      <th></th>\n",
              "      <th>no_speed_bump</th>\n",
              "      <th>acc_x_dashboard</th>\n",
              "      <th>acc_y_dashboard</th>\n",
              "      <th>acc_z_dashboard</th>\n",
              "      <th>gyro_x_dashboard</th>\n",
              "      <th>gyro_y_dashboard</th>\n",
              "      <th>gyro_z_dashboard</th>\n",
              "      <th>temp_dashboard</th>\n",
              "      <th>speed</th>\n",
              "      <th>road</th>\n",
              "    </tr>\n",
              "  </thead>\n",
              "  <tbody>\n",
              "    <tr>\n",
              "      <th>0</th>\n",
              "      <td>NaN</td>\n",
              "      <td>-0.029431</td>\n",
              "      <td>-0.019621</td>\n",
              "      <td>9.781015</td>\n",
              "      <td>-0.122070</td>\n",
              "      <td>-0.006327</td>\n",
              "      <td>-0.112208</td>\n",
              "      <td>32.166023</td>\n",
              "      <td>0.010822</td>\n",
              "      <td>paved</td>\n",
              "    </tr>\n",
              "    <tr>\n",
              "      <th>100</th>\n",
              "      <td>NaN</td>\n",
              "      <td>0.016059</td>\n",
              "      <td>0.006715</td>\n",
              "      <td>9.816928</td>\n",
              "      <td>0.152588</td>\n",
              "      <td>-0.036844</td>\n",
              "      <td>-0.142726</td>\n",
              "      <td>32.357714</td>\n",
              "      <td>0.010822</td>\n",
              "      <td>paved</td>\n",
              "    </tr>\n",
              "    <tr>\n",
              "      <th>128</th>\n",
              "      <td>NaN</td>\n",
              "      <td>0.001693</td>\n",
              "      <td>0.011504</td>\n",
              "      <td>9.809745</td>\n",
              "      <td>0.091553</td>\n",
              "      <td>-0.097880</td>\n",
              "      <td>-0.142726</td>\n",
              "      <td>32.309791</td>\n",
              "      <td>0.010822</td>\n",
              "      <td>paved</td>\n",
              "    </tr>\n",
              "    <tr>\n",
              "      <th>134</th>\n",
              "      <td>NaN</td>\n",
              "      <td>-0.005489</td>\n",
              "      <td>0.056994</td>\n",
              "      <td>9.781015</td>\n",
              "      <td>-0.061035</td>\n",
              "      <td>-0.006327</td>\n",
              "      <td>0.040380</td>\n",
              "      <td>32.357714</td>\n",
              "      <td>0.010822</td>\n",
              "      <td>paved</td>\n",
              "    </tr>\n",
              "    <tr>\n",
              "      <th>163</th>\n",
              "      <td>NaN</td>\n",
              "      <td>-0.015066</td>\n",
              "      <td>0.006715</td>\n",
              "      <td>9.682852</td>\n",
              "      <td>0.061035</td>\n",
              "      <td>-0.036844</td>\n",
              "      <td>-0.173243</td>\n",
              "      <td>32.309791</td>\n",
              "      <td>0.010822</td>\n",
              "      <td>paved</td>\n",
              "    </tr>\n",
              "    <tr>\n",
              "      <th>...</th>\n",
              "      <td>...</td>\n",
              "      <td>...</td>\n",
              "      <td>...</td>\n",
              "      <td>...</td>\n",
              "      <td>...</td>\n",
              "      <td>...</td>\n",
              "      <td>...</td>\n",
              "      <td>...</td>\n",
              "      <td>...</td>\n",
              "      <td>...</td>\n",
              "    </tr>\n",
              "    <tr>\n",
              "      <th>124280</th>\n",
              "      <td>NaN</td>\n",
              "      <td>0.499687</td>\n",
              "      <td>-0.347626</td>\n",
              "      <td>10.180846</td>\n",
              "      <td>0.091553</td>\n",
              "      <td>0.146261</td>\n",
              "      <td>-0.325831</td>\n",
              "      <td>31.974331</td>\n",
              "      <td>0.023570</td>\n",
              "      <td>paved</td>\n",
              "    </tr>\n",
              "    <tr>\n",
              "      <th>124323</th>\n",
              "      <td>NaN</td>\n",
              "      <td>0.415890</td>\n",
              "      <td>-0.358400</td>\n",
              "      <td>9.929455</td>\n",
              "      <td>0.244141</td>\n",
              "      <td>0.237814</td>\n",
              "      <td>-0.051173</td>\n",
              "      <td>32.285830</td>\n",
              "      <td>0.023570</td>\n",
              "      <td>paved</td>\n",
              "    </tr>\n",
              "    <tr>\n",
              "      <th>124556</th>\n",
              "      <td>NaN</td>\n",
              "      <td>0.351247</td>\n",
              "      <td>-0.414664</td>\n",
              "      <td>9.867206</td>\n",
              "      <td>-0.152588</td>\n",
              "      <td>-0.097880</td>\n",
              "      <td>-0.020655</td>\n",
              "      <td>31.926408</td>\n",
              "      <td>0.023570</td>\n",
              "      <td>paved</td>\n",
              "    </tr>\n",
              "    <tr>\n",
              "      <th>124586</th>\n",
              "      <td>NaN</td>\n",
              "      <td>0.310545</td>\n",
              "      <td>-0.565499</td>\n",
              "      <td>9.546383</td>\n",
              "      <td>-0.091553</td>\n",
              "      <td>-0.097880</td>\n",
              "      <td>0.040380</td>\n",
              "      <td>32.309791</td>\n",
              "      <td>0.023570</td>\n",
              "      <td>paved</td>\n",
              "    </tr>\n",
              "    <tr>\n",
              "      <th>124652</th>\n",
              "      <td>NaN</td>\n",
              "      <td>0.310545</td>\n",
              "      <td>-0.540360</td>\n",
              "      <td>9.746299</td>\n",
              "      <td>0.030518</td>\n",
              "      <td>0.085226</td>\n",
              "      <td>0.009862</td>\n",
              "      <td>32.142061</td>\n",
              "      <td>0.023570</td>\n",
              "      <td>paved</td>\n",
              "    </tr>\n",
              "  </tbody>\n",
              "</table>\n",
              "<p>1247 rows × 10 columns</p>\n",
              "</div>\n",
              "      <button class=\"colab-df-convert\" onclick=\"convertToInteractive('df-720cf787-e7f2-4f23-80d7-34ae67fdeae1')\"\n",
              "              title=\"Convert this dataframe to an interactive table.\"\n",
              "              style=\"display:none;\">\n",
              "        \n",
              "  <svg xmlns=\"http://www.w3.org/2000/svg\" height=\"24px\"viewBox=\"0 0 24 24\"\n",
              "       width=\"24px\">\n",
              "    <path d=\"M0 0h24v24H0V0z\" fill=\"none\"/>\n",
              "    <path d=\"M18.56 5.44l.94 2.06.94-2.06 2.06-.94-2.06-.94-.94-2.06-.94 2.06-2.06.94zm-11 1L8.5 8.5l.94-2.06 2.06-.94-2.06-.94L8.5 2.5l-.94 2.06-2.06.94zm10 10l.94 2.06.94-2.06 2.06-.94-2.06-.94-.94-2.06-.94 2.06-2.06.94z\"/><path d=\"M17.41 7.96l-1.37-1.37c-.4-.4-.92-.59-1.43-.59-.52 0-1.04.2-1.43.59L10.3 9.45l-7.72 7.72c-.78.78-.78 2.05 0 2.83L4 21.41c.39.39.9.59 1.41.59.51 0 1.02-.2 1.41-.59l7.78-7.78 2.81-2.81c.8-.78.8-2.07 0-2.86zM5.41 20L4 18.59l7.72-7.72 1.47 1.35L5.41 20z\"/>\n",
              "  </svg>\n",
              "      </button>\n",
              "      \n",
              "  <style>\n",
              "    .colab-df-container {\n",
              "      display:flex;\n",
              "      flex-wrap:wrap;\n",
              "      gap: 12px;\n",
              "    }\n",
              "\n",
              "    .colab-df-convert {\n",
              "      background-color: #E8F0FE;\n",
              "      border: none;\n",
              "      border-radius: 50%;\n",
              "      cursor: pointer;\n",
              "      display: none;\n",
              "      fill: #1967D2;\n",
              "      height: 32px;\n",
              "      padding: 0 0 0 0;\n",
              "      width: 32px;\n",
              "    }\n",
              "\n",
              "    .colab-df-convert:hover {\n",
              "      background-color: #E2EBFA;\n",
              "      box-shadow: 0px 1px 2px rgba(60, 64, 67, 0.3), 0px 1px 3px 1px rgba(60, 64, 67, 0.15);\n",
              "      fill: #174EA6;\n",
              "    }\n",
              "\n",
              "    [theme=dark] .colab-df-convert {\n",
              "      background-color: #3B4455;\n",
              "      fill: #D2E3FC;\n",
              "    }\n",
              "\n",
              "    [theme=dark] .colab-df-convert:hover {\n",
              "      background-color: #434B5C;\n",
              "      box-shadow: 0px 1px 3px 1px rgba(0, 0, 0, 0.15);\n",
              "      filter: drop-shadow(0px 1px 2px rgba(0, 0, 0, 0.3));\n",
              "      fill: #FFFFFF;\n",
              "    }\n",
              "  </style>\n",
              "\n",
              "      <script>\n",
              "        const buttonEl =\n",
              "          document.querySelector('#df-720cf787-e7f2-4f23-80d7-34ae67fdeae1 button.colab-df-convert');\n",
              "        buttonEl.style.display =\n",
              "          google.colab.kernel.accessAllowed ? 'block' : 'none';\n",
              "\n",
              "        async function convertToInteractive(key) {\n",
              "          const element = document.querySelector('#df-720cf787-e7f2-4f23-80d7-34ae67fdeae1');\n",
              "          const dataTable =\n",
              "            await google.colab.kernel.invokeFunction('convertToInteractive',\n",
              "                                                     [key], {});\n",
              "          if (!dataTable) return;\n",
              "\n",
              "          const docLinkHtml = 'Like what you see? Visit the ' +\n",
              "            '<a target=\"_blank\" href=https://colab.research.google.com/notebooks/data_table.ipynb>data table notebook</a>'\n",
              "            + ' to learn more about interactive tables.';\n",
              "          element.innerHTML = '';\n",
              "          dataTable['output_type'] = 'display_data';\n",
              "          await google.colab.output.renderOutput(dataTable, element);\n",
              "          const docLink = document.createElement('div');\n",
              "          docLink.innerHTML = docLinkHtml;\n",
              "          element.appendChild(docLink);\n",
              "        }\n",
              "      </script>\n",
              "    </div>\n",
              "  </div>\n",
              "  "
            ]
          },
          "metadata": {},
          "execution_count": 14
        }
      ],
      "source": [
        "# selecionando somente as linhas com algum tipo de NaN\n",
        "df_bump_nan = df_v1[df_v1.isnull().any(axis=1)]\n",
        "df_bump_nan"
      ]
    },
    {
      "cell_type": "markdown",
      "metadata": {
        "id": "lcUqJfsMPs6m"
      },
      "source": [
        "Preencheremos a coluna \"no_speed_bump\" com o número 2 para depois fazer a comparação com 1(sem lombada) ou 0(com lombada)."
      ]
    },
    {
      "cell_type": "code",
      "execution_count": null,
      "metadata": {
        "id": "4ImhDupjPewC",
        "colab": {
          "base_uri": "https://localhost:8080/"
        },
        "outputId": "df5e6598-bf7c-4b1d-af14-a1b9f4fcc98b"
      },
      "outputs": [
        {
          "output_type": "stream",
          "name": "stderr",
          "text": [
            "/usr/local/lib/python3.7/dist-packages/pandas/core/frame.py:7511: SettingWithCopyWarning: \n",
            "A value is trying to be set on a copy of a slice from a DataFrame.\n",
            "Try using .loc[row_indexer,col_indexer] = value instead\n",
            "\n",
            "See the caveats in the documentation: https://pandas.pydata.org/pandas-docs/stable/user_guide/indexing.html#returning-a-view-versus-a-copy\n",
            "  self[col] = expressions.where(mask, this, that)\n"
          ]
        }
      ],
      "source": [
        "df_bump_nan.update(df_bump_nan['no_speed_bump'].fillna(2))"
      ]
    },
    {
      "cell_type": "code",
      "execution_count": null,
      "metadata": {
        "id": "D_NMP1Mw99cX",
        "colab": {
          "base_uri": "https://localhost:8080/"
        },
        "outputId": "a57bec70-e1b2-43ef-e4fb-8f8b0610113a"
      },
      "outputs": [
        {
          "output_type": "stream",
          "name": "stdout",
          "text": [
            "               acc_x_dashboard  acc_y_dashboard  acc_z_dashboard  \\\n",
            "no_speed_bump                                                      \n",
            "2.0                   0.618784        -0.082757         9.794836   \n",
            "\n",
            "               gyro_x_dashboard  gyro_y_dashboard  gyro_z_dashboard  \\\n",
            "no_speed_bump                                                         \n",
            "2.0                    0.043336          0.063595         -0.079096   \n",
            "\n",
            "               temp_dashboard     speed  \n",
            "no_speed_bump                            \n",
            "2.0                 32.827849  9.254127  \n"
          ]
        }
      ],
      "source": [
        "print(df_bump_nan.groupby('no_speed_bump').mean().sort_values(by = 'speed', ascending=False))"
      ]
    },
    {
      "cell_type": "markdown",
      "source": [
        "Agora, vamos comparar com a outra tabela focando na coluna \"speed\" (pois pela logica o \"no_speed_bump\" afeta diretamente a velocidade)."
      ],
      "metadata": {
        "id": "Oa1qahl_8q3C"
      }
    },
    {
      "cell_type": "code",
      "execution_count": null,
      "metadata": {
        "id": "Cvtf3cf4_-_d",
        "colab": {
          "base_uri": "https://localhost:8080/"
        },
        "outputId": "7f2f9ea3-341c-4eb8-92f2-b99063c47d18"
      },
      "outputs": [
        {
          "output_type": "stream",
          "name": "stdout",
          "text": [
            "               acc_x_dashboard  acc_y_dashboard  acc_z_dashboard  \\\n",
            "no_speed_bump                                                      \n",
            "1.0                   0.619574        -0.240638         9.829007   \n",
            "0.0                   0.498244        -0.327493         9.825254   \n",
            "\n",
            "               gyro_x_dashboard  gyro_y_dashboard  gyro_z_dashboard  \\\n",
            "no_speed_bump                                                         \n",
            "1.0                    0.016616         -0.079721         -0.195486   \n",
            "0.0                    0.128693          0.128011         -0.370061   \n",
            "\n",
            "               temp_dashboard     speed  \n",
            "no_speed_bump                            \n",
            "1.0                 32.823391  9.309583  \n",
            "0.0                 33.210170  4.899666  \n"
          ]
        }
      ],
      "source": [
        "print(df_raw.groupby('no_speed_bump').mean().sort_values(by = 'speed', ascending=False))"
      ]
    },
    {
      "cell_type": "markdown",
      "metadata": {
        "id": "XBeg510rQBjI"
      },
      "source": [
        "Ao fazer essa comparação, notamos que os valores faltantes NaN se assemelham mais com o 1 do que o 0. (1 sem lombada = velocidade maior; 0 com lombada = velocidade menor)."
      ]
    },
    {
      "cell_type": "code",
      "execution_count": null,
      "metadata": {
        "id": "sVJQKgGeQMBr"
      },
      "outputs": [],
      "source": [
        "# preenchendo os NaN da coluna \"no_speed_bump\" com o numero 1\n",
        "df_v1.update(df_v1['no_speed_bump'].fillna(1))"
      ]
    },
    {
      "cell_type": "code",
      "execution_count": null,
      "metadata": {
        "id": "qvBmiTbhslK8",
        "colab": {
          "base_uri": "https://localhost:8080/"
        },
        "outputId": "1e906b38-0815-43f1-e0e0-47af0d1724dd"
      },
      "outputs": [
        {
          "output_type": "execute_result",
          "data": {
            "text/plain": [
              "no_speed_bump       0\n",
              "acc_x_dashboard     0\n",
              "acc_y_dashboard     0\n",
              "acc_z_dashboard     0\n",
              "gyro_x_dashboard    0\n",
              "gyro_y_dashboard    0\n",
              "gyro_z_dashboard    0\n",
              "temp_dashboard      0\n",
              "speed               0\n",
              "road                0\n",
              "dtype: int64"
            ]
          },
          "metadata": {},
          "execution_count": 19
        }
      ],
      "source": [
        "# conferir novamente se há mais algum dado faltante\n",
        "df_v1.isnull().sum()"
      ]
    },
    {
      "cell_type": "markdown",
      "metadata": {
        "id": "Zz6TVUe6nrU-"
      },
      "source": [
        "# 2.2) Visualizando outliers"
      ]
    },
    {
      "cell_type": "markdown",
      "metadata": {
        "id": "AhVNRwTpZZeM"
      },
      "source": [
        "Agora que terminamos de tratar os valores faltantes, falta observar se o dataset possui outliers e como boa prática, faremos o devido tratamento deles."
      ]
    },
    {
      "cell_type": "markdown",
      "metadata": {
        "id": "el1oF43na8oZ"
      },
      "source": [
        "Antes de fazer qualquer modificação no dataset, veremos se, ao alterar essa quantidade, inviabiliza ou não os dados. Para isso, compararemos a quantidade de outliers em relação a quantidade total de dados (lá naquele gráfico msno.matrix do começo)."
      ]
    },
    {
      "cell_type": "markdown",
      "metadata": {
        "id": "J0VK6X8egXsq"
      },
      "source": [
        "Vemos que a quantidade de outliers é muito inferior à quantidade total de dados. Mudar ou não esses outliers não vai fazer diferença, mas como boa prática, faremos isso em breve."
      ]
    },
    {
      "cell_type": "code",
      "source": [
        "import matplotlib.pyplot as plt "
      ],
      "metadata": {
        "id": "k_Mdh2WCaPJS"
      },
      "execution_count": null,
      "outputs": []
    },
    {
      "cell_type": "code",
      "execution_count": null,
      "metadata": {
        "id": "daVxb_0eodVD"
      },
      "outputs": [],
      "source": [
        "asphalt = df_v1[df_v1['road']=='asphalt']\n",
        "paved = df_v1[df_v1['road']=='paved']\n",
        "cobblestone = df_v1[df_v1['road']=='cobblestone']\n",
        "unpaved = df_v1[df_v1['road']=='unpaved']\n",
        "dirt = df_v1[df_v1['road']=='dirt']"
      ]
    },
    {
      "cell_type": "code",
      "execution_count": null,
      "metadata": {
        "id": "HXKR-nYPk4sK",
        "colab": {
          "base_uri": "https://localhost:8080/",
          "height": 54
        },
        "outputId": "750f41a7-a480-4a5c-8717-995525cc369c"
      },
      "outputs": [
        {
          "output_type": "display_data",
          "data": {
            "text/plain": [
              "<Figure size 1080x576 with 8 Axes>"
            ],
            "image/png": "[encoded data removed]"
          },
          "metadata": {
            "needs_background": "light"
          }
        }
      ],
      "source": [
        "fig, ([ax1, ax2, ax3, ax4], [ax5, ax6, ax7, ax8]) = plt.subplots(2, 4, figsize=(15,8))\n",
        "\n",
        "ax1.boxplot(asphalt['acc_x_dashboard'], vert=False)\n",
        "ax1.set_title('Asfalto Acel X')\n",
        "\n",
        "ax2.boxplot(asphalt['acc_y_dashboard'], vert=False)\n",
        "ax2.set_title('Asfalto Acel Y')\n",
        "\n",
        "ax3.boxplot(asphalt['acc_z_dashboard'], vert=False)\n",
        "ax3.set_title('Asfalto Acel Z')\n",
        "\n",
        "ax4.boxplot(asphalt['speed'], vert=False)\n",
        "ax4.set_title('Asfalto Vel')\n",
        "\n",
        "ax5.boxplot(asphalt['gyro_x_dashboard'], vert=False)\n",
        "ax5.set_title('Asfalto Giro X')\n",
        "\n",
        "ax6.boxplot(asphalt['gyro_y_dashboard'], vert=False)\n",
        "ax6.set_title('Asfalto Giro Y')\n",
        "\n",
        "ax7.boxplot(asphalt['gyro_z_dashboard'], vert=False)\n",
        "ax7.set_title('Asfalto Giro Z')\n",
        "\n",
        "ax8.boxplot(asphalt['temp_dashboard'], vert=False)\n",
        "ax8.set_title('Asfalto Temp')\n",
        "\n",
        "plt.show()"
      ]
    },
    {
      "cell_type": "code",
      "execution_count": null,
      "metadata": {
        "id": "en6hLU6nk8Uz",
        "colab": {
          "base_uri": "https://localhost:8080/",
          "height": 54
        },
        "outputId": "307bc2b2-ace0-43f7-f8ef-604afe0a5518"
      },
      "outputs": [
        {
          "output_type": "display_data",
          "data": {
            "text/plain": [
              "<Figure size 1080x576 with 8 Axes>"
            ],
            "image/png": "[encoded data removed]"
          },
          "metadata": {
            "needs_background": "light"
          }
        }
      ],
      "source": [
        "fig, ([ax1, ax2, ax3, ax4], [ax5, ax6, ax7, ax8]) = plt.subplots(2, 4, figsize=(15,8))\n",
        "\n",
        "ax1.boxplot(paved['acc_x_dashboard'], vert=False)\n",
        "ax1.set_title('Pavimentado Acel X')\n",
        "\n",
        "ax2.boxplot(paved['acc_y_dashboard'], vert=False)\n",
        "ax2.set_title('Pavimentado Acel Y')\n",
        "\n",
        "ax3.boxplot(paved['acc_z_dashboard'], vert=False)\n",
        "ax3.set_title('Pavimentado Acel Z')\n",
        "\n",
        "ax4.boxplot(paved['speed'], vert=False)\n",
        "ax4.set_title('Pavimentado Vel')\n",
        "\n",
        "ax5.boxplot(paved['gyro_x_dashboard'], vert=False)\n",
        "ax5.set_title('Pavimentado Giro X')\n",
        "\n",
        "ax6.boxplot(paved['gyro_y_dashboard'], vert=False)\n",
        "ax6.set_title('Pavimentado Giro Y')\n",
        "\n",
        "ax7.boxplot(paved['gyro_z_dashboard'], vert=False)\n",
        "ax7.set_title('Pavimentado Giro Z')\n",
        "\n",
        "ax8.boxplot(paved['temp_dashboard'], vert=False)\n",
        "ax8.set_title('Pavimentado Temp')\n",
        "\n",
        "plt.show()"
      ]
    },
    {
      "cell_type": "code",
      "execution_count": null,
      "metadata": {
        "id": "AzfLGcAfk8Ri",
        "colab": {
          "base_uri": "https://localhost:8080/",
          "height": 54
        },
        "outputId": "8716d66e-d7af-4615-853f-6371dd7c059d"
      },
      "outputs": [
        {
          "output_type": "display_data",
          "data": {
            "text/plain": [
              "<Figure size 1080x576 with 8 Axes>"
            ],
            "image/png": "[encoded data removed]"
          },
          "metadata": {
            "needs_background": "light"
          }
        }
      ],
      "source": [
        "fig, ([ax1, ax2, ax3, ax4], [ax5, ax6, ax7, ax8]) = plt.subplots(2, 4, figsize=(15,8))\n",
        "\n",
        "ax1.boxplot(cobblestone['acc_x_dashboard'], vert=False)\n",
        "ax1.set_title('Pedregulho Acel X')\n",
        "\n",
        "ax2.boxplot(cobblestone['acc_y_dashboard'], vert=False)\n",
        "ax2.set_title('Pedregulho Acel Y')\n",
        "\n",
        "ax3.boxplot(cobblestone['acc_z_dashboard'], vert=False)\n",
        "ax3.set_title('Pedregulho Acel Z')\n",
        "\n",
        "ax4.boxplot(cobblestone['speed'], vert=False)\n",
        "ax4.set_title('Pedregulho Vel')\n",
        "\n",
        "ax5.boxplot(cobblestone['gyro_x_dashboard'], vert=False)\n",
        "ax5.set_title('Pedregulho Giro X')\n",
        "\n",
        "ax6.boxplot(cobblestone['gyro_y_dashboard'], vert=False)\n",
        "ax6.set_title('Pedregulho Giro Y')\n",
        "\n",
        "ax7.boxplot(cobblestone['gyro_z_dashboard'], vert=False)\n",
        "ax7.set_title('Pedregulho Giro Z')\n",
        "\n",
        "ax8.boxplot(cobblestone['temp_dashboard'], vert=False)\n",
        "ax8.set_title('Pedregulho Temp')\n",
        "\n",
        "plt.show()"
      ]
    },
    {
      "cell_type": "code",
      "execution_count": null,
      "metadata": {
        "id": "s1OeAJ68nKxF",
        "colab": {
          "base_uri": "https://localhost:8080/",
          "height": 54
        },
        "outputId": "35fa1265-474f-41d6-8e90-db55339145f7"
      },
      "outputs": [
        {
          "output_type": "display_data",
          "data": {
            "text/plain": [
              "<Figure size 1080x576 with 8 Axes>"
            ],
            "image/png": "[encoded data removed]"
          },
          "metadata": {
            "needs_background": "light"
          }
        }
      ],
      "source": [
        "fig, ([ax1, ax2, ax3, ax4], [ax5, ax6, ax7, ax8]) = plt.subplots(2, 4, figsize=(15,8))\n",
        "\n",
        "ax1.boxplot(unpaved['acc_x_dashboard'], vert=False)\n",
        "ax1.set_title('Não pavimentado Acel X')\n",
        "\n",
        "ax2.boxplot(unpaved['acc_y_dashboard'], vert=False)\n",
        "ax2.set_title('Não pavimentado Acel Y')\n",
        "\n",
        "ax3.boxplot(unpaved['acc_z_dashboard'], vert=False)\n",
        "ax3.set_title('Não pavimentado Acel Z')\n",
        "\n",
        "ax4.boxplot(unpaved['speed'], vert=False)\n",
        "ax4.set_title('Não pavimentado Vel')\n",
        "\n",
        "ax5.boxplot(unpaved['gyro_x_dashboard'], vert=False)\n",
        "ax5.set_title('Não pavimentado Giro X')\n",
        "\n",
        "ax6.boxplot(unpaved['gyro_y_dashboard'], vert=False)\n",
        "ax6.set_title('Não pavimentado Giro Y')\n",
        "\n",
        "ax7.boxplot(unpaved['gyro_z_dashboard'], vert=False)\n",
        "ax7.set_title('Não pavimentado Giro Z')\n",
        "\n",
        "ax8.boxplot(unpaved['temp_dashboard'], vert=False)\n",
        "ax8.set_title('Não pavimentado Temp')\n",
        "\n",
        "plt.show()"
      ]
    },
    {
      "cell_type": "markdown",
      "metadata": {
        "id": "vOt9Vu_bvHvc"
      },
      "source": [
        "Temperatura igual a 0? Gravação foi feita no Alaska? Bem provavel que sejam maus outliers."
      ]
    },
    {
      "cell_type": "code",
      "execution_count": null,
      "metadata": {
        "id": "n3hTwKCspPh_",
        "colab": {
          "base_uri": "https://localhost:8080/",
          "height": 54
        },
        "outputId": "91f5f8b2-a359-4ff9-ab67-ff04e5f3d789"
      },
      "outputs": [
        {
          "output_type": "display_data",
          "data": {
            "text/plain": [
              "<Figure size 1080x576 with 8 Axes>"
            ],
            "image/png": "[encoded data removed]"
          },
          "metadata": {
            "needs_background": "light"
          }
        }
      ],
      "source": [
        "fig, ([ax1, ax2, ax3, ax4], [ax5, ax6, ax7, ax8]) = plt.subplots(2, 4, figsize=(15,8))\n",
        "\n",
        "ax1.boxplot(dirt['acc_x_dashboard'], vert=False)\n",
        "ax1.set_title('Não pavimentado Acel X')\n",
        "\n",
        "ax2.boxplot(dirt['acc_y_dashboard'], vert=False)\n",
        "ax2.set_title('Não pavimentado Acel Y')\n",
        "\n",
        "ax3.boxplot(dirt['acc_z_dashboard'], vert=False)\n",
        "ax3.set_title('Não pavimentado Acel Z')\n",
        "\n",
        "ax4.boxplot(dirt['speed'], vert=False)\n",
        "ax4.set_title('Não pavimentado Vel')\n",
        "\n",
        "ax5.boxplot(dirt['gyro_x_dashboard'], vert=False)\n",
        "ax5.set_title('Não pavimentado Giro X')\n",
        "\n",
        "ax6.boxplot(dirt['gyro_y_dashboard'], vert=False)\n",
        "ax6.set_title('Não pavimentado Giro Y')\n",
        "\n",
        "ax7.boxplot(dirt['gyro_z_dashboard'], vert=False)\n",
        "ax7.set_title('Não pavimentado Giro Z')\n",
        "\n",
        "ax8.boxplot(dirt['temp_dashboard'], vert=False)\n",
        "ax8.set_title('Não pavimentado Temp')\n",
        "\n",
        "plt.show()"
      ]
    },
    {
      "cell_type": "markdown",
      "metadata": {
        "id": "rwKLWGZhp34w"
      },
      "source": [
        "Ao plotar esses monte de gráficos, notamos que há bastantes outliers. Mas será que são maus dados ou será que podemos de fato tirar algum proveito deles?"
      ]
    },
    {
      "cell_type": "markdown",
      "metadata": {
        "id": "BxZjeQyOp30q"
      },
      "source": [
        "Observa-se que, nos tipos \"Pavimentado\" e \"Não pavimentado\" (pois são tipos predominantes em todo o dataset) possuem tantos outliers que fazem até uma linha preta na esquerda e na direita do boxplot. Esse padrão pode ser observado também nos outros tipos de pavimentação, mesmo que em pequenas quantidades, ainda sim é um padrão caso imaginássemos esses dados em grandes quantidades."
      ]
    },
    {
      "cell_type": "markdown",
      "metadata": {
        "id": "RXFYjBfFr-Lc"
      },
      "source": [
        "A conclusão é: esses pontos acima e abaixo do limite do boxplot são normais quando se trata de rua, porque cada estrada é uma estrada diferente, alguns com mais curvas, outros menos planos."
      ]
    },
    {
      "cell_type": "markdown",
      "metadata": {
        "id": "am9lh1KZrA8h"
      },
      "source": [
        "Infere-se, pelo óbvio, que as unidades localizadas ao extremo de cada gráfico são bem provavelmente outliers ruins que vão danificar o estudo desse dataset e, por esse motivo, o tratamento deles não pode ser evitado"
      ]
    },
    {
      "cell_type": "markdown",
      "metadata": {
        "id": "YF5AD2qfroal"
      },
      "source": [
        "Com certeza o tratamento não será perfeito, pois também pegaremos alguns \"outliers bons\", mas isso não vai alterar muito o resultado final"
      ]
    },
    {
      "cell_type": "markdown",
      "metadata": {
        "id": "1k2rJZLVtOMk"
      },
      "source": [
        "# 2.3) Tratando outliers"
      ]
    },
    {
      "cell_type": "code",
      "execution_count": null,
      "metadata": {
        "id": "X3M-9XcMnKtw"
      },
      "outputs": [],
      "source": [
        "# subalgoritmo que detecta os outliers e os armazena numa lista\n",
        "def detect_outlier(df):\n",
        "  outliers=[]\n",
        "  threshold=3\n",
        "  mean_1 = np.mean(df)\n",
        "  std_1 = np.std(df)\n",
        "  for idx, item in enumerate(df):\n",
        "    z_score = (item - mean_1)/std_1 \n",
        "    if np.abs(z_score) > threshold:\n",
        "      outliers.append(idx)\n",
        "  return outliers"
      ]
    },
    {
      "cell_type": "code",
      "execution_count": null,
      "metadata": {
        "id": "7p507us5k8Oh"
      },
      "outputs": [],
      "source": [
        "# salvando cada outlier de acordo com a coluna em cada tipo de pavimentacao\n",
        "asphalt_speed = detect_outlier(paved['speed'])\n",
        "asphalt_acc_x = detect_outlier(asphalt['acc_x_dashboard'])\n",
        "asphalt_acc_y = detect_outlier(asphalt['acc_y_dashboard'])\n",
        "asphalt_acc_z = detect_outlier(asphalt['acc_z_dashboard'])\n",
        "asphalt_gyro_x = detect_outlier(asphalt['gyro_x_dashboard'])\n",
        "asphalt_gyro_y = detect_outlier(asphalt['gyro_y_dashboard'])\n",
        "asphalt_gyro_z = detect_outlier(asphalt['gyro_z_dashboard'])\n",
        "asphalt_temp = detect_outlier(paved['temp_dashboard'])\n",
        "\n",
        "paved_speed = detect_outlier(paved['speed'])\n",
        "paved_acc_x = detect_outlier(paved['acc_x_dashboard'])\n",
        "paved_acc_y = detect_outlier(paved['acc_y_dashboard'])\n",
        "paved_acc_z = detect_outlier(paved['acc_z_dashboard'])\n",
        "paved_gyro_x = detect_outlier(paved['gyro_x_dashboard'])\n",
        "paved_gyro_y = detect_outlier(paved['gyro_y_dashboard'])\n",
        "paved_gyro_z = detect_outlier(paved['gyro_z_dashboard'])\n",
        "paved_temp = detect_outlier(paved['temp_dashboard'])\n",
        "\n",
        "cobblestone_speed = detect_outlier(cobblestone['speed'])\n",
        "cobblestone_acc_x = detect_outlier(cobblestone['acc_x_dashboard'])\n",
        "cobblestone_acc_y = detect_outlier(cobblestone['acc_y_dashboard'])\n",
        "cobblestone_acc_z = detect_outlier(cobblestone['acc_z_dashboard'])\n",
        "cobblestone_gyro_x = detect_outlier(cobblestone['gyro_x_dashboard'])\n",
        "cobblestone_gyro_y = detect_outlier(cobblestone['gyro_y_dashboard'])\n",
        "cobblestone_gyro_z = detect_outlier(cobblestone['gyro_z_dashboard'])\n",
        "cobblestone_temp = detect_outlier(cobblestone['temp_dashboard'])\n",
        "\n",
        "unpaved_speed = detect_outlier(unpaved['speed'])\n",
        "unpaved_acc_x = detect_outlier(unpaved['acc_x_dashboard'])\n",
        "unpaved_acc_y = detect_outlier(unpaved['acc_y_dashboard'])\n",
        "unpaved_acc_z = detect_outlier(unpaved['acc_z_dashboard'])\n",
        "unpaved_gyro_x = detect_outlier(unpaved['gyro_x_dashboard'])\n",
        "unpaved_gyro_y = detect_outlier(unpaved['gyro_y_dashboard'])\n",
        "unpaved_gyro_z = detect_outlier(unpaved['gyro_z_dashboard'])\n",
        "unpaved_temp = detect_outlier(unpaved['temp_dashboard'])\n",
        "\n",
        "dirt_speed = detect_outlier(dirt['speed'])\n",
        "dirt_acc_x = detect_outlier(dirt['acc_x_dashboard'])\n",
        "dirt_acc_y = detect_outlier(dirt['acc_y_dashboard'])\n",
        "dirt_acc_z = detect_outlier(dirt['acc_z_dashboard'])\n",
        "dirt_gyro_x = detect_outlier(dirt['gyro_x_dashboard'])\n",
        "dirt_gyro_y = detect_outlier(dirt['gyro_y_dashboard'])\n",
        "dirt_gyro_z = detect_outlier(dirt['gyro_z_dashboard'])\n",
        "dirt_temp = detect_outlier(dirt['temp_dashboard'])\n"
      ]
    },
    {
      "cell_type": "code",
      "execution_count": null,
      "metadata": {
        "id": "_HhW0JRiuQZM"
      },
      "outputs": [],
      "source": [
        "# organizando melhor as variaveis para os proximos codigos\n",
        "sum_temp = asphalt_temp + paved_temp + cobblestone_temp + unpaved_temp + dirt_temp\n",
        "\n",
        "sum_acc_x = asphalt_acc_x + paved_acc_x + cobblestone_acc_x + unpaved_acc_x + dirt_acc_x\n",
        "sum_acc_y = asphalt_acc_y + paved_acc_y + cobblestone_acc_y + unpaved_acc_y + dirt_acc_y\n",
        "sum_acc_z = asphalt_acc_z + paved_acc_z + cobblestone_acc_z + unpaved_acc_z + dirt_acc_z\n",
        "\n",
        "sum_gyro_x = asphalt_gyro_x + paved_gyro_x + cobblestone_gyro_x + unpaved_gyro_x + dirt_gyro_x\n",
        "sum_gyro_y = asphalt_gyro_y + paved_gyro_y + cobblestone_gyro_y + unpaved_gyro_y + dirt_gyro_y\n",
        "sum_gyro_z = asphalt_gyro_z + paved_gyro_z + cobblestone_gyro_z + unpaved_gyro_z + dirt_gyro_z\n",
        "\n",
        "\n",
        "sum_speed = asphalt_speed + paved_speed + cobblestone_speed + unpaved_speed + dirt_speed"
      ]
    },
    {
      "cell_type": "code",
      "execution_count": null,
      "metadata": {
        "id": "JRiXhoinxFGw"
      },
      "outputs": [],
      "source": [
        "# copiando o dataset numa variavel diferente (tipo um backup para me organizar melhor dentro do codigo)\n",
        "df_v2 = df_v1.copy()"
      ]
    },
    {
      "cell_type": "code",
      "execution_count": null,
      "metadata": {
        "id": "4tBTtGNOyDvs"
      },
      "outputs": [],
      "source": [
        "# substituindo agora os outliers por valores NaN\n",
        "for item in sum_acc_x:\n",
        "  df_v2.loc[[item],['acc_x_dashboard']] = np.nan\n",
        "for item in sum_acc_y:\n",
        "  df_v2.loc[[item],['acc_y_dashboard']] = np.nan\n",
        "for item in sum_acc_z:\n",
        "  df_v2.loc[[item],['acc_z_dashboard']] = np.nan\n",
        "\n",
        "for item in sum_gyro_x:\n",
        "  df_v2.loc[[item],['gyro_x_dashboard']] = np.nan\n",
        "for item in sum_gyro_y:\n",
        "  df_v2.loc[[item],['gyro_y_dashboard']] = np.nan\n",
        "for item in sum_gyro_z:\n",
        "  df_v2.loc[[item],['gyro_y_dashboard']] = np.nan\n",
        "\n",
        "for item in sum_temp:\n",
        "  df_v2.loc[[item],['temp_dashboard']] = np.nan\n",
        "for item in sum_speed:\n",
        "  df_v2.loc[[item],['speed']] = np.nan"
      ]
    },
    {
      "cell_type": "code",
      "execution_count": null,
      "metadata": {
        "id": "4fLhUTP648z8",
        "colab": {
          "base_uri": "https://localhost:8080/"
        },
        "outputId": "2f1e2b02-9a70-4aa5-82d0-78a481fe498b"
      },
      "outputs": [
        {
          "output_type": "execute_result",
          "data": {
            "text/plain": [
              "no_speed_bump          0\n",
              "acc_x_dashboard     1474\n",
              "acc_y_dashboard     2017\n",
              "acc_z_dashboard     2168\n",
              "gyro_x_dashboard    2527\n",
              "gyro_y_dashboard    4741\n",
              "gyro_z_dashboard       0\n",
              "temp_dashboard        12\n",
              "speed                 10\n",
              "road                   0\n",
              "dtype: int64"
            ]
          },
          "metadata": {},
          "execution_count": 32
        }
      ],
      "source": [
        "# visualizando os NaN\n",
        "df_v2.isna().sum()"
      ]
    },
    {
      "cell_type": "code",
      "execution_count": null,
      "metadata": {
        "id": "wjVRibi45X16",
        "colab": {
          "base_uri": "https://localhost:8080/",
          "height": 302
        },
        "outputId": "aab2eff0-f678-46ca-cf69-df050fe9f958"
      },
      "outputs": [
        {
          "output_type": "execute_result",
          "data": {
            "text/plain": [
              "             acc_x_dashboard  acc_y_dashboard  acc_z_dashboard  \\\n",
              "road                                                             \n",
              "asphalt             0.514057        -0.263484         9.824061   \n",
              "paved               0.501764        -0.172332         9.827872   \n",
              "cobblestone         0.458877         0.139804         9.786915   \n",
              "unpaved             0.825555        -0.361434         9.831771   \n",
              "dirt                0.835397        -0.498504         9.671255   \n",
              "\n",
              "             gyro_x_dashboard  gyro_y_dashboard  gyro_z_dashboard  \\\n",
              "road                                                                \n",
              "asphalt              0.037510         -0.052077         -0.120960   \n",
              "paved                0.036566         -0.063805         -0.271413   \n",
              "cobblestone          0.173588         -0.541779         -0.923684   \n",
              "unpaved             -0.017823         -0.090419         -0.064278   \n",
              "dirt                 0.360583         -0.348698          0.087464   \n",
              "\n",
              "             temp_dashboard      speed  \n",
              "road                                    \n",
              "asphalt           32.726167  13.838838  \n",
              "paved             32.833376  11.743367  \n",
              "cobblestone       33.128025   6.569799  \n",
              "unpaved           32.823100   4.741807  \n",
              "dirt              32.814889   4.689771  "
            ],
            "text/html": [
              "\n",
              "  <div id=\"df-546f5110-1483-4141-9d89-fb909a953bf6\">\n",
              "    <div class=\"colab-df-container\">\n",
              "      <div>\n",
              "<style scoped>\n",
              "    .dataframe tbody tr th:only-of-type {\n",
              "        vertical-align: middle;\n",
              "    }\n",
              "\n",
              "    .dataframe tbody tr th {\n",
              "        vertical-align: top;\n",
              "    }\n",
              "\n",
              "    .dataframe thead th {\n",
              "        text-align: right;\n",
              "    }\n",
              "</style>\n",
              "<table border=\"1\" class=\"dataframe\">\n",
              "  <thead>\n",
              "    <tr style=\"text-align: right;\">\n",
              "      <th></th>\n",
              "      <th>acc_x_dashboard</th>\n",
              "      <th>acc_y_dashboard</th>\n",
              "      <th>acc_z_dashboard</th>\n",
              "      <th>gyro_x_dashboard</th>\n",
              "      <th>gyro_y_dashboard</th>\n",
              "      <th>gyro_z_dashboard</th>\n",
              "      <th>temp_dashboard</th>\n",
              "      <th>speed</th>\n",
              "    </tr>\n",
              "    <tr>\n",
              "      <th>road</th>\n",
              "      <th></th>\n",
              "      <th></th>\n",
              "      <th></th>\n",
              "      <th></th>\n",
              "      <th></th>\n",
              "      <th></th>\n",
              "      <th></th>\n",
              "      <th></th>\n",
              "    </tr>\n",
              "  </thead>\n",
              "  <tbody>\n",
              "    <tr>\n",
              "      <th>asphalt</th>\n",
              "      <td>0.514057</td>\n",
              "      <td>-0.263484</td>\n",
              "      <td>9.824061</td>\n",
              "      <td>0.037510</td>\n",
              "      <td>-0.052077</td>\n",
              "      <td>-0.120960</td>\n",
              "      <td>32.726167</td>\n",
              "      <td>13.838838</td>\n",
              "    </tr>\n",
              "    <tr>\n",
              "      <th>paved</th>\n",
              "      <td>0.501764</td>\n",
              "      <td>-0.172332</td>\n",
              "      <td>9.827872</td>\n",
              "      <td>0.036566</td>\n",
              "      <td>-0.063805</td>\n",
              "      <td>-0.271413</td>\n",
              "      <td>32.833376</td>\n",
              "      <td>11.743367</td>\n",
              "    </tr>\n",
              "    <tr>\n",
              "      <th>cobblestone</th>\n",
              "      <td>0.458877</td>\n",
              "      <td>0.139804</td>\n",
              "      <td>9.786915</td>\n",
              "      <td>0.173588</td>\n",
              "      <td>-0.541779</td>\n",
              "      <td>-0.923684</td>\n",
              "      <td>33.128025</td>\n",
              "      <td>6.569799</td>\n",
              "    </tr>\n",
              "    <tr>\n",
              "      <th>unpaved</th>\n",
              "      <td>0.825555</td>\n",
              "      <td>-0.361434</td>\n",
              "      <td>9.831771</td>\n",
              "      <td>-0.017823</td>\n",
              "      <td>-0.090419</td>\n",
              "      <td>-0.064278</td>\n",
              "      <td>32.823100</td>\n",
              "      <td>4.741807</td>\n",
              "    </tr>\n",
              "    <tr>\n",
              "      <th>dirt</th>\n",
              "      <td>0.835397</td>\n",
              "      <td>-0.498504</td>\n",
              "      <td>9.671255</td>\n",
              "      <td>0.360583</td>\n",
              "      <td>-0.348698</td>\n",
              "      <td>0.087464</td>\n",
              "      <td>32.814889</td>\n",
              "      <td>4.689771</td>\n",
              "    </tr>\n",
              "  </tbody>\n",
              "</table>\n",
              "</div>\n",
              "      <button class=\"colab-df-convert\" onclick=\"convertToInteractive('df-546f5110-1483-4141-9d89-fb909a953bf6')\"\n",
              "              title=\"Convert this dataframe to an interactive table.\"\n",
              "              style=\"display:none;\">\n",
              "        \n",
              "  <svg xmlns=\"http://www.w3.org/2000/svg\" height=\"24px\"viewBox=\"0 0 24 24\"\n",
              "       width=\"24px\">\n",
              "    <path d=\"M0 0h24v24H0V0z\" fill=\"none\"/>\n",
              "    <path d=\"M18.56 5.44l.94 2.06.94-2.06 2.06-.94-2.06-.94-.94-2.06-.94 2.06-2.06.94zm-11 1L8.5 8.5l.94-2.06 2.06-.94-2.06-.94L8.5 2.5l-.94 2.06-2.06.94zm10 10l.94 2.06.94-2.06 2.06-.94-2.06-.94-.94-2.06-.94 2.06-2.06.94z\"/><path d=\"M17.41 7.96l-1.37-1.37c-.4-.4-.92-.59-1.43-.59-.52 0-1.04.2-1.43.59L10.3 9.45l-7.72 7.72c-.78.78-.78 2.05 0 2.83L4 21.41c.39.39.9.59 1.41.59.51 0 1.02-.2 1.41-.59l7.78-7.78 2.81-2.81c.8-.78.8-2.07 0-2.86zM5.41 20L4 18.59l7.72-7.72 1.47 1.35L5.41 20z\"/>\n",
              "  </svg>\n",
              "      </button>\n",
              "      \n",
              "  <style>\n",
              "    .colab-df-container {\n",
              "      display:flex;\n",
              "      flex-wrap:wrap;\n",
              "      gap: 12px;\n",
              "    }\n",
              "\n",
              "    .colab-df-convert {\n",
              "      background-color: #E8F0FE;\n",
              "      border: none;\n",
              "      border-radius: 50%;\n",
              "      cursor: pointer;\n",
              "      display: none;\n",
              "      fill: #1967D2;\n",
              "      height: 32px;\n",
              "      padding: 0 0 0 0;\n",
              "      width: 32px;\n",
              "    }\n",
              "\n",
              "    .colab-df-convert:hover {\n",
              "      background-color: #E2EBFA;\n",
              "      box-shadow: 0px 1px 2px rgba(60, 64, 67, 0.3), 0px 1px 3px 1px rgba(60, 64, 67, 0.15);\n",
              "      fill: #174EA6;\n",
              "    }\n",
              "\n",
              "    [theme=dark] .colab-df-convert {\n",
              "      background-color: #3B4455;\n",
              "      fill: #D2E3FC;\n",
              "    }\n",
              "\n",
              "    [theme=dark] .colab-df-convert:hover {\n",
              "      background-color: #434B5C;\n",
              "      box-shadow: 0px 1px 3px 1px rgba(0, 0, 0, 0.15);\n",
              "      filter: drop-shadow(0px 1px 2px rgba(0, 0, 0, 0.3));\n",
              "      fill: #FFFFFF;\n",
              "    }\n",
              "  </style>\n",
              "\n",
              "      <script>\n",
              "        const buttonEl =\n",
              "          document.querySelector('#df-546f5110-1483-4141-9d89-fb909a953bf6 button.colab-df-convert');\n",
              "        buttonEl.style.display =\n",
              "          google.colab.kernel.accessAllowed ? 'block' : 'none';\n",
              "\n",
              "        async function convertToInteractive(key) {\n",
              "          const element = document.querySelector('#df-546f5110-1483-4141-9d89-fb909a953bf6');\n",
              "          const dataTable =\n",
              "            await google.colab.kernel.invokeFunction('convertToInteractive',\n",
              "                                                     [key], {});\n",
              "          if (!dataTable) return;\n",
              "\n",
              "          const docLinkHtml = 'Like what you see? Visit the ' +\n",
              "            '<a target=\"_blank\" href=https://colab.research.google.com/notebooks/data_table.ipynb>data table notebook</a>'\n",
              "            + ' to learn more about interactive tables.';\n",
              "          element.innerHTML = '';\n",
              "          dataTable['output_type'] = 'display_data';\n",
              "          await google.colab.output.renderOutput(dataTable, element);\n",
              "          const docLink = document.createElement('div');\n",
              "          docLink.innerHTML = docLinkHtml;\n",
              "          element.appendChild(docLink);\n",
              "        }\n",
              "      </script>\n",
              "    </div>\n",
              "  </div>\n",
              "  "
            ]
          },
          "metadata": {},
          "execution_count": 33
        }
      ],
      "source": [
        "road_raw_mean.head()"
      ]
    },
    {
      "cell_type": "code",
      "execution_count": null,
      "metadata": {
        "id": "NwpumorF5Zve",
        "colab": {
          "base_uri": "https://localhost:8080/",
          "height": 302
        },
        "outputId": "0d25d3f3-ceca-4e1a-fcca-473bb8a88226"
      },
      "outputs": [
        {
          "output_type": "execute_result",
          "data": {
            "text/plain": [
              "             acc_x_dashboard  acc_y_dashboard  acc_z_dashboard  \\\n",
              "road                                                             \n",
              "asphalt             0.514081        -0.267705         9.823624   \n",
              "paved               0.500617        -0.173956         9.827977   \n",
              "cobblestone         0.458877         0.139804         9.786915   \n",
              "unpaved             0.822248        -0.365296         9.834216   \n",
              "dirt                0.839155        -0.499057         9.673727   \n",
              "\n",
              "             gyro_x_dashboard  gyro_y_dashboard  gyro_z_dashboard  \\\n",
              "road                                                                \n",
              "asphalt              0.037276         -0.046973         -0.120960   \n",
              "paved                0.036478         -0.064159         -0.271413   \n",
              "cobblestone          0.173588         -0.541779         -0.923684   \n",
              "unpaved             -0.022003         -0.099361         -0.064278   \n",
              "dirt                 0.303414         -0.512060          0.087464   \n",
              "\n",
              "             temp_dashboard      speed  \n",
              "road                                    \n",
              "asphalt           32.726167  13.838838  \n",
              "paved             32.833376  11.743663  \n",
              "cobblestone       33.128025   6.569799  \n",
              "unpaved           32.823133   4.741972  \n",
              "dirt              32.814889   4.691964  "
            ],
            "text/html": [
              "\n",
              "  <div id=\"df-1f0a0364-e285-4e2b-9a39-1a9a9223dec0\">\n",
              "    <div class=\"colab-df-container\">\n",
              "      <div>\n",
              "<style scoped>\n",
              "    .dataframe tbody tr th:only-of-type {\n",
              "        vertical-align: middle;\n",
              "    }\n",
              "\n",
              "    .dataframe tbody tr th {\n",
              "        vertical-align: top;\n",
              "    }\n",
              "\n",
              "    .dataframe thead th {\n",
              "        text-align: right;\n",
              "    }\n",
              "</style>\n",
              "<table border=\"1\" class=\"dataframe\">\n",
              "  <thead>\n",
              "    <tr style=\"text-align: right;\">\n",
              "      <th></th>\n",
              "      <th>acc_x_dashboard</th>\n",
              "      <th>acc_y_dashboard</th>\n",
              "      <th>acc_z_dashboard</th>\n",
              "      <th>gyro_x_dashboard</th>\n",
              "      <th>gyro_y_dashboard</th>\n",
              "      <th>gyro_z_dashboard</th>\n",
              "      <th>temp_dashboard</th>\n",
              "      <th>speed</th>\n",
              "    </tr>\n",
              "    <tr>\n",
              "      <th>road</th>\n",
              "      <th></th>\n",
              "      <th></th>\n",
              "      <th></th>\n",
              "      <th></th>\n",
              "      <th></th>\n",
              "      <th></th>\n",
              "      <th></th>\n",
              "      <th></th>\n",
              "    </tr>\n",
              "  </thead>\n",
              "  <tbody>\n",
              "    <tr>\n",
              "      <th>asphalt</th>\n",
              "      <td>0.514081</td>\n",
              "      <td>-0.267705</td>\n",
              "      <td>9.823624</td>\n",
              "      <td>0.037276</td>\n",
              "      <td>-0.046973</td>\n",
              "      <td>-0.120960</td>\n",
              "      <td>32.726167</td>\n",
              "      <td>13.838838</td>\n",
              "    </tr>\n",
              "    <tr>\n",
              "      <th>paved</th>\n",
              "      <td>0.500617</td>\n",
              "      <td>-0.173956</td>\n",
              "      <td>9.827977</td>\n",
              "      <td>0.036478</td>\n",
              "      <td>-0.064159</td>\n",
              "      <td>-0.271413</td>\n",
              "      <td>32.833376</td>\n",
              "      <td>11.743663</td>\n",
              "    </tr>\n",
              "    <tr>\n",
              "      <th>cobblestone</th>\n",
              "      <td>0.458877</td>\n",
              "      <td>0.139804</td>\n",
              "      <td>9.786915</td>\n",
              "      <td>0.173588</td>\n",
              "      <td>-0.541779</td>\n",
              "      <td>-0.923684</td>\n",
              "      <td>33.128025</td>\n",
              "      <td>6.569799</td>\n",
              "    </tr>\n",
              "    <tr>\n",
              "      <th>unpaved</th>\n",
              "      <td>0.822248</td>\n",
              "      <td>-0.365296</td>\n",
              "      <td>9.834216</td>\n",
              "      <td>-0.022003</td>\n",
              "      <td>-0.099361</td>\n",
              "      <td>-0.064278</td>\n",
              "      <td>32.823133</td>\n",
              "      <td>4.741972</td>\n",
              "    </tr>\n",
              "    <tr>\n",
              "      <th>dirt</th>\n",
              "      <td>0.839155</td>\n",
              "      <td>-0.499057</td>\n",
              "      <td>9.673727</td>\n",
              "      <td>0.303414</td>\n",
              "      <td>-0.512060</td>\n",
              "      <td>0.087464</td>\n",
              "      <td>32.814889</td>\n",
              "      <td>4.691964</td>\n",
              "    </tr>\n",
              "  </tbody>\n",
              "</table>\n",
              "</div>\n",
              "      <button class=\"colab-df-convert\" onclick=\"convertToInteractive('df-1f0a0364-e285-4e2b-9a39-1a9a9223dec0')\"\n",
              "              title=\"Convert this dataframe to an interactive table.\"\n",
              "              style=\"display:none;\">\n",
              "        \n",
              "  <svg xmlns=\"http://www.w3.org/2000/svg\" height=\"24px\"viewBox=\"0 0 24 24\"\n",
              "       width=\"24px\">\n",
              "    <path d=\"M0 0h24v24H0V0z\" fill=\"none\"/>\n",
              "    <path d=\"M18.56 5.44l.94 2.06.94-2.06 2.06-.94-2.06-.94-.94-2.06-.94 2.06-2.06.94zm-11 1L8.5 8.5l.94-2.06 2.06-.94-2.06-.94L8.5 2.5l-.94 2.06-2.06.94zm10 10l.94 2.06.94-2.06 2.06-.94-2.06-.94-.94-2.06-.94 2.06-2.06.94z\"/><path d=\"M17.41 7.96l-1.37-1.37c-.4-.4-.92-.59-1.43-.59-.52 0-1.04.2-1.43.59L10.3 9.45l-7.72 7.72c-.78.78-.78 2.05 0 2.83L4 21.41c.39.39.9.59 1.41.59.51 0 1.02-.2 1.41-.59l7.78-7.78 2.81-2.81c.8-.78.8-2.07 0-2.86zM5.41 20L4 18.59l7.72-7.72 1.47 1.35L5.41 20z\"/>\n",
              "  </svg>\n",
              "      </button>\n",
              "      \n",
              "  <style>\n",
              "    .colab-df-container {\n",
              "      display:flex;\n",
              "      flex-wrap:wrap;\n",
              "      gap: 12px;\n",
              "    }\n",
              "\n",
              "    .colab-df-convert {\n",
              "      background-color: #E8F0FE;\n",
              "      border: none;\n",
              "      border-radius: 50%;\n",
              "      cursor: pointer;\n",
              "      display: none;\n",
              "      fill: #1967D2;\n",
              "      height: 32px;\n",
              "      padding: 0 0 0 0;\n",
              "      width: 32px;\n",
              "    }\n",
              "\n",
              "    .colab-df-convert:hover {\n",
              "      background-color: #E2EBFA;\n",
              "      box-shadow: 0px 1px 2px rgba(60, 64, 67, 0.3), 0px 1px 3px 1px rgba(60, 64, 67, 0.15);\n",
              "      fill: #174EA6;\n",
              "    }\n",
              "\n",
              "    [theme=dark] .colab-df-convert {\n",
              "      background-color: #3B4455;\n",
              "      fill: #D2E3FC;\n",
              "    }\n",
              "\n",
              "    [theme=dark] .colab-df-convert:hover {\n",
              "      background-color: #434B5C;\n",
              "      box-shadow: 0px 1px 3px 1px rgba(0, 0, 0, 0.15);\n",
              "      filter: drop-shadow(0px 1px 2px rgba(0, 0, 0, 0.3));\n",
              "      fill: #FFFFFF;\n",
              "    }\n",
              "  </style>\n",
              "\n",
              "      <script>\n",
              "        const buttonEl =\n",
              "          document.querySelector('#df-1f0a0364-e285-4e2b-9a39-1a9a9223dec0 button.colab-df-convert');\n",
              "        buttonEl.style.display =\n",
              "          google.colab.kernel.accessAllowed ? 'block' : 'none';\n",
              "\n",
              "        async function convertToInteractive(key) {\n",
              "          const element = document.querySelector('#df-1f0a0364-e285-4e2b-9a39-1a9a9223dec0');\n",
              "          const dataTable =\n",
              "            await google.colab.kernel.invokeFunction('convertToInteractive',\n",
              "                                                     [key], {});\n",
              "          if (!dataTable) return;\n",
              "\n",
              "          const docLinkHtml = 'Like what you see? Visit the ' +\n",
              "            '<a target=\"_blank\" href=https://colab.research.google.com/notebooks/data_table.ipynb>data table notebook</a>'\n",
              "            + ' to learn more about interactive tables.';\n",
              "          element.innerHTML = '';\n",
              "          dataTable['output_type'] = 'display_data';\n",
              "          await google.colab.output.renderOutput(dataTable, element);\n",
              "          const docLink = document.createElement('div');\n",
              "          docLink.innerHTML = docLinkHtml;\n",
              "          element.appendChild(docLink);\n",
              "        }\n",
              "      </script>\n",
              "    </div>\n",
              "  </div>\n",
              "  "
            ]
          },
          "metadata": {},
          "execution_count": 34
        }
      ],
      "source": [
        "road_v2_mean = df_v2.drop(columns=['no_speed_bump']).groupby('road').mean().sort_values(by = 'speed', ascending=False)\n",
        "road_v2_mean"
      ]
    },
    {
      "cell_type": "markdown",
      "source": [
        "Como podemos ver, não teve drásticas mudanças no dataset com todo o tratamento dos outliers. Mas como havia dito, é uma boa prática. Pelo menos temos uma certeza de que, se usarmos um modelo de Machine Learning e a acurácia estiver baixa, dificilmente vai ser problema de outliers. "
      ],
      "metadata": {
        "id": "oQ46AZ09ddaC"
      }
    },
    {
      "cell_type": "code",
      "execution_count": null,
      "metadata": {
        "id": "5jYT2vlw6fJK"
      },
      "outputs": [],
      "source": [
        "# quase o mesmo codigo para substituir os NaN pelas suas medias em cada tipo de rua\n",
        "numbers = []\n",
        "\n",
        "df_v3 = df_v2.copy()\n",
        "\n",
        "for idx, rows in road_v2_mean.iterrows():\n",
        "  my_list = [rows.acc_x_dashboard, rows.acc_y_dashboard, rows.acc_z_dashboard,\n",
        "             rows.gyro_x_dashboard, rows.gyro_y_dashboard, rows.gyro_z_dashboard,\n",
        "             rows.temp_dashboard, rows.speed]\n",
        "  numbers.append(my_list)\n",
        "\n",
        "for i in roads_type:\n",
        "    for k in numbers:\n",
        "        for j in columns_name:\n",
        "            for w in k:\n",
        "                df_v3.update(df_v3[df_v3['road']==i][j].fillna(w))\n",
        "                del k[0]\n",
        "                break\n",
        "        if not k:\n",
        "            numbers = [x for x in numbers if x]\n",
        "            break"
      ]
    },
    {
      "cell_type": "code",
      "execution_count": null,
      "metadata": {
        "id": "g9_zffdA7Adm",
        "colab": {
          "base_uri": "https://localhost:8080/"
        },
        "outputId": "210a3880-eaf4-4972-a723-e4d6738c3939"
      },
      "outputs": [
        {
          "output_type": "execute_result",
          "data": {
            "text/plain": [
              "no_speed_bump       0\n",
              "acc_x_dashboard     0\n",
              "acc_y_dashboard     0\n",
              "acc_z_dashboard     0\n",
              "gyro_x_dashboard    0\n",
              "gyro_y_dashboard    0\n",
              "gyro_z_dashboard    0\n",
              "temp_dashboard      0\n",
              "speed               0\n",
              "road                0\n",
              "dtype: int64"
            ]
          },
          "metadata": {},
          "execution_count": 36
        }
      ],
      "source": [
        "# conferindo novamente se o comando anterior deu certo\n",
        "df_v3.isna().sum()"
      ]
    },
    {
      "cell_type": "markdown",
      "metadata": {
        "id": "wjKvO-X8Cr4t"
      },
      "source": [
        "# 3) Aprendizado de máquina usando regressão"
      ]
    },
    {
      "cell_type": "markdown",
      "source": [
        "Nessa parte, após todos os tratamentos feitos no dataset, vamos começar a botar em prática o machine learning."
      ],
      "metadata": {
        "id": "b62wbaswhdu6"
      }
    },
    {
      "cell_type": "markdown",
      "source": [
        "Como diz no comando da questão, precisamos prever a velocidade do veículo de acordo com a sua movimentação. O primeiro passo para isso é escolher o melhor modelo de ML para tentar fazer as previsões."
      ],
      "metadata": {
        "id": "taA3jgkFml5H"
      }
    },
    {
      "cell_type": "code",
      "source": [
        "#sns.pairplot(df_v3) # esse comando foi usado para ver se havia alguns agrupamentos e ver se o clustering seria uma boa opcao,\n",
        "                     # com o tanto de dataset e organização estar todas quase juntas isso nao foi possivel de seguir"
      ],
      "metadata": {
        "id": "LjPoyPXKLc_h"
      },
      "execution_count": null,
      "outputs": []
    },
    {
      "cell_type": "markdown",
      "source": [
        "Para prosseguir com o treinamento, ainda precisamos organizar algumas coisas."
      ],
      "metadata": {
        "id": "qTjAa1StoIEv"
      }
    },
    {
      "cell_type": "code",
      "execution_count": null,
      "metadata": {
        "id": "hoIHzl6DYAmp"
      },
      "outputs": [],
      "source": [
        "from sklearn.preprocessing import OneHotEncoder\n",
        "\n",
        "df_v4 = df_v3.copy()\n",
        "\n",
        "hot_enc = OneHotEncoder()\n",
        "\n",
        "enc_data = pd.DataFrame(hot_enc.fit_transform(df_v3[['road']]).toarray())\n",
        "\n",
        "df_v4 = df_v3.join(enc_data)\n",
        "df_v4.columns = ['no_speed_bump', 'acc_x_dashboard', 'acc_y_dashboard', 'acc_z_dashboard',\n",
        "                 'gyro_x_dashboard', 'gyro_y_dashboard', 'gyro_z_dashboard',\n",
        "                 'temp_dashboard', 'speed', 'road',\n",
        "                 'type_asphalt', 'type_cobblestone', 'type_dirt', 'type_paved', 'type_unpaved']\n"
      ]
    },
    {
      "cell_type": "markdown",
      "source": [
        "Foi usado o one hot encoder ao inves do label, porque, embora crie mais colunas, a quantidade (5) é pouca quando comparado ao risco de o algoritmo de aprendizado confundir os números (0 a 4) com algum tipo de nível ao invés de números categóricos."
      ],
      "metadata": {
        "id": "Gsn6uBPVjKNh"
      }
    },
    {
      "cell_type": "code",
      "execution_count": null,
      "metadata": {
        "id": "bXzx1q_YBHgk",
        "colab": {
          "base_uri": "https://localhost:8080/",
          "height": 488
        },
        "outputId": "8d3938dc-ed09-4519-b4c9-b9df2cfbbb3b"
      },
      "outputs": [
        {
          "output_type": "execute_result",
          "data": {
            "text/plain": [
              "        no_speed_bump  acc_x_dashboard  acc_y_dashboard  acc_z_dashboard  \\\n",
              "0                 1.0        -0.029431        -0.019621         9.781015   \n",
              "1                 1.0        -0.039008         0.009110         9.819322   \n",
              "2                 1.0         0.010073         0.005518         9.777423   \n",
              "3                 1.0         0.020847         0.028263         9.785803   \n",
              "4                 1.0        -0.003095        -0.017227         9.800168   \n",
              "...               ...              ...              ...              ...   \n",
              "124679            1.0         0.427861        -0.261435         9.958185   \n",
              "124680            1.0         0.466169        -0.316502         9.867206   \n",
              "124681            1.0         0.332093        -0.555922         9.646939   \n",
              "124682            1.0         0.339276        -0.570287         9.824110   \n",
              "124683            1.0         0.439832        -0.201580        10.101838   \n",
              "\n",
              "        gyro_x_dashboard  gyro_y_dashboard  gyro_z_dashboard  temp_dashboard  \\\n",
              "0              -0.122070         -0.064159         -0.112208       32.166023   \n",
              "1              -0.030518         -0.064159         -0.051173       32.453560   \n",
              "2              -0.122070         -0.064159         -0.020655       32.405637   \n",
              "3               0.061035         -0.064159         -0.112208       32.453560   \n",
              "4              -0.091553         -0.064159         -0.112208       32.309791   \n",
              "...                  ...               ...               ...             ...   \n",
              "124679          0.030518         -0.006327          0.070898       32.070177   \n",
              "124680         -0.122070         -0.082621         -0.020655       32.094138   \n",
              "124681         -0.183105         -0.067362          0.101415       32.261868   \n",
              "124682         -0.122070         -0.006327         -0.173243       32.070177   \n",
              "124683          0.000000          0.176779         -0.234278       32.070177   \n",
              "\n",
              "            speed   road  type_asphalt  type_cobblestone  type_dirt  \\\n",
              "0       11.743663  paved           0.0               0.0        0.0   \n",
              "1       11.743663  paved           0.0               0.0        0.0   \n",
              "2        0.010822  paved           0.0               0.0        0.0   \n",
              "3        0.010822  paved           0.0               0.0        0.0   \n",
              "4        0.010822  paved           0.0               0.0        0.0   \n",
              "...           ...    ...           ...               ...        ...   \n",
              "124679   0.023570  paved           0.0               0.0        0.0   \n",
              "124680   0.023570  paved           0.0               0.0        0.0   \n",
              "124681   0.023570  paved           0.0               0.0        0.0   \n",
              "124682   0.023570  paved           0.0               0.0        0.0   \n",
              "124683   0.023570  paved           0.0               0.0        0.0   \n",
              "\n",
              "        type_paved  type_unpaved  \n",
              "0              1.0           0.0  \n",
              "1              1.0           0.0  \n",
              "2              1.0           0.0  \n",
              "3              1.0           0.0  \n",
              "4              1.0           0.0  \n",
              "...            ...           ...  \n",
              "124679         1.0           0.0  \n",
              "124680         1.0           0.0  \n",
              "124681         1.0           0.0  \n",
              "124682         1.0           0.0  \n",
              "124683         1.0           0.0  \n",
              "\n",
              "[124684 rows x 15 columns]"
            ],
            "text/html": [
              "\n",
              "  <div id=\"df-8bb0bd4d-191e-4d38-ac27-53b4b1dbbd53\">\n",
              "    <div class=\"colab-df-container\">\n",
              "      <div>\n",
              "<style scoped>\n",
              "    .dataframe tbody tr th:only-of-type {\n",
              "        vertical-align: middle;\n",
              "    }\n",
              "\n",
              "    .dataframe tbody tr th {\n",
              "        vertical-align: top;\n",
              "    }\n",
              "\n",
              "    .dataframe thead th {\n",
              "        text-align: right;\n",
              "    }\n",
              "</style>\n",
              "<table border=\"1\" class=\"dataframe\">\n",
              "  <thead>\n",
              "    <tr style=\"text-align: right;\">\n",
              "      <th></th>\n",
              "      <th>no_speed_bump</th>\n",
              "      <th>acc_x_dashboard</th>\n",
              "      <th>acc_y_dashboard</th>\n",
              "      <th>acc_z_dashboard</th>\n",
              "      <th>gyro_x_dashboard</th>\n",
              "      <th>gyro_y_dashboard</th>\n",
              "      <th>gyro_z_dashboard</th>\n",
              "      <th>temp_dashboard</th>\n",
              "      <th>speed</th>\n",
              "      <th>road</th>\n",
              "      <th>type_asphalt</th>\n",
              "      <th>type_cobblestone</th>\n",
              "      <th>type_dirt</th>\n",
              "      <th>type_paved</th>\n",
              "      <th>type_unpaved</th>\n",
              "    </tr>\n",
              "  </thead>\n",
              "  <tbody>\n",
              "    <tr>\n",
              "      <th>0</th>\n",
              "      <td>1.0</td>\n",
              "      <td>-0.029431</td>\n",
              "      <td>-0.019621</td>\n",
              "      <td>9.781015</td>\n",
              "      <td>-0.122070</td>\n",
              "      <td>-0.064159</td>\n",
              "      <td>-0.112208</td>\n",
              "      <td>32.166023</td>\n",
              "      <td>11.743663</td>\n",
              "      <td>paved</td>\n",
              "      <td>0.0</td>\n",
              "      <td>0.0</td>\n",
              "      <td>0.0</td>\n",
              "      <td>1.0</td>\n",
              "      <td>0.0</td>\n",
              "    </tr>\n",
              "    <tr>\n",
              "      <th>1</th>\n",
              "      <td>1.0</td>\n",
              "      <td>-0.039008</td>\n",
              "      <td>0.009110</td>\n",
              "      <td>9.819322</td>\n",
              "      <td>-0.030518</td>\n",
              "      <td>-0.064159</td>\n",
              "      <td>-0.051173</td>\n",
              "      <td>32.453560</td>\n",
              "      <td>11.743663</td>\n",
              "      <td>paved</td>\n",
              "      <td>0.0</td>\n",
              "      <td>0.0</td>\n",
              "      <td>0.0</td>\n",
              "      <td>1.0</td>\n",
              "      <td>0.0</td>\n",
              "    </tr>\n",
              "    <tr>\n",
              "      <th>2</th>\n",
              "      <td>1.0</td>\n",
              "      <td>0.010073</td>\n",
              "      <td>0.005518</td>\n",
              "      <td>9.777423</td>\n",
              "      <td>-0.122070</td>\n",
              "      <td>-0.064159</td>\n",
              "      <td>-0.020655</td>\n",
              "      <td>32.405637</td>\n",
              "      <td>0.010822</td>\n",
              "      <td>paved</td>\n",
              "      <td>0.0</td>\n",
              "      <td>0.0</td>\n",
              "      <td>0.0</td>\n",
              "      <td>1.0</td>\n",
              "      <td>0.0</td>\n",
              "    </tr>\n",
              "    <tr>\n",
              "      <th>3</th>\n",
              "      <td>1.0</td>\n",
              "      <td>0.020847</td>\n",
              "      <td>0.028263</td>\n",
              "      <td>9.785803</td>\n",
              "      <td>0.061035</td>\n",
              "      <td>-0.064159</td>\n",
              "      <td>-0.112208</td>\n",
              "      <td>32.453560</td>\n",
              "      <td>0.010822</td>\n",
              "      <td>paved</td>\n",
              "      <td>0.0</td>\n",
              "      <td>0.0</td>\n",
              "      <td>0.0</td>\n",
              "      <td>1.0</td>\n",
              "      <td>0.0</td>\n",
              "    </tr>\n",
              "    <tr>\n",
              "      <th>4</th>\n",
              "      <td>1.0</td>\n",
              "      <td>-0.003095</td>\n",
              "      <td>-0.017227</td>\n",
              "      <td>9.800168</td>\n",
              "      <td>-0.091553</td>\n",
              "      <td>-0.064159</td>\n",
              "      <td>-0.112208</td>\n",
              "      <td>32.309791</td>\n",
              "      <td>0.010822</td>\n",
              "      <td>paved</td>\n",
              "      <td>0.0</td>\n",
              "      <td>0.0</td>\n",
              "      <td>0.0</td>\n",
              "      <td>1.0</td>\n",
              "      <td>0.0</td>\n",
              "    </tr>\n",
              "    <tr>\n",
              "      <th>...</th>\n",
              "      <td>...</td>\n",
              "      <td>...</td>\n",
              "      <td>...</td>\n",
              "      <td>...</td>\n",
              "      <td>...</td>\n",
              "      <td>...</td>\n",
              "      <td>...</td>\n",
              "      <td>...</td>\n",
              "      <td>...</td>\n",
              "      <td>...</td>\n",
              "      <td>...</td>\n",
              "      <td>...</td>\n",
              "      <td>...</td>\n",
              "      <td>...</td>\n",
              "      <td>...</td>\n",
              "    </tr>\n",
              "    <tr>\n",
              "      <th>124679</th>\n",
              "      <td>1.0</td>\n",
              "      <td>0.427861</td>\n",
              "      <td>-0.261435</td>\n",
              "      <td>9.958185</td>\n",
              "      <td>0.030518</td>\n",
              "      <td>-0.006327</td>\n",
              "      <td>0.070898</td>\n",
              "      <td>32.070177</td>\n",
              "      <td>0.023570</td>\n",
              "      <td>paved</td>\n",
              "      <td>0.0</td>\n",
              "      <td>0.0</td>\n",
              "      <td>0.0</td>\n",
              "      <td>1.0</td>\n",
              "      <td>0.0</td>\n",
              "    </tr>\n",
              "    <tr>\n",
              "      <th>124680</th>\n",
              "      <td>1.0</td>\n",
              "      <td>0.466169</td>\n",
              "      <td>-0.316502</td>\n",
              "      <td>9.867206</td>\n",
              "      <td>-0.122070</td>\n",
              "      <td>-0.082621</td>\n",
              "      <td>-0.020655</td>\n",
              "      <td>32.094138</td>\n",
              "      <td>0.023570</td>\n",
              "      <td>paved</td>\n",
              "      <td>0.0</td>\n",
              "      <td>0.0</td>\n",
              "      <td>0.0</td>\n",
              "      <td>1.0</td>\n",
              "      <td>0.0</td>\n",
              "    </tr>\n",
              "    <tr>\n",
              "      <th>124681</th>\n",
              "      <td>1.0</td>\n",
              "      <td>0.332093</td>\n",
              "      <td>-0.555922</td>\n",
              "      <td>9.646939</td>\n",
              "      <td>-0.183105</td>\n",
              "      <td>-0.067362</td>\n",
              "      <td>0.101415</td>\n",
              "      <td>32.261868</td>\n",
              "      <td>0.023570</td>\n",
              "      <td>paved</td>\n",
              "      <td>0.0</td>\n",
              "      <td>0.0</td>\n",
              "      <td>0.0</td>\n",
              "      <td>1.0</td>\n",
              "      <td>0.0</td>\n",
              "    </tr>\n",
              "    <tr>\n",
              "      <th>124682</th>\n",
              "      <td>1.0</td>\n",
              "      <td>0.339276</td>\n",
              "      <td>-0.570287</td>\n",
              "      <td>9.824110</td>\n",
              "      <td>-0.122070</td>\n",
              "      <td>-0.006327</td>\n",
              "      <td>-0.173243</td>\n",
              "      <td>32.070177</td>\n",
              "      <td>0.023570</td>\n",
              "      <td>paved</td>\n",
              "      <td>0.0</td>\n",
              "      <td>0.0</td>\n",
              "      <td>0.0</td>\n",
              "      <td>1.0</td>\n",
              "      <td>0.0</td>\n",
              "    </tr>\n",
              "    <tr>\n",
              "      <th>124683</th>\n",
              "      <td>1.0</td>\n",
              "      <td>0.439832</td>\n",
              "      <td>-0.201580</td>\n",
              "      <td>10.101838</td>\n",
              "      <td>0.000000</td>\n",
              "      <td>0.176779</td>\n",
              "      <td>-0.234278</td>\n",
              "      <td>32.070177</td>\n",
              "      <td>0.023570</td>\n",
              "      <td>paved</td>\n",
              "      <td>0.0</td>\n",
              "      <td>0.0</td>\n",
              "      <td>0.0</td>\n",
              "      <td>1.0</td>\n",
              "      <td>0.0</td>\n",
              "    </tr>\n",
              "  </tbody>\n",
              "</table>\n",
              "<p>124684 rows × 15 columns</p>\n",
              "</div>\n",
              "      <button class=\"colab-df-convert\" onclick=\"convertToInteractive('df-8bb0bd4d-191e-4d38-ac27-53b4b1dbbd53')\"\n",
              "              title=\"Convert this dataframe to an interactive table.\"\n",
              "              style=\"display:none;\">\n",
              "        \n",
              "  <svg xmlns=\"http://www.w3.org/2000/svg\" height=\"24px\"viewBox=\"0 0 24 24\"\n",
              "       width=\"24px\">\n",
              "    <path d=\"M0 0h24v24H0V0z\" fill=\"none\"/>\n",
              "    <path d=\"M18.56 5.44l.94 2.06.94-2.06 2.06-.94-2.06-.94-.94-2.06-.94 2.06-2.06.94zm-11 1L8.5 8.5l.94-2.06 2.06-.94-2.06-.94L8.5 2.5l-.94 2.06-2.06.94zm10 10l.94 2.06.94-2.06 2.06-.94-2.06-.94-.94-2.06-.94 2.06-2.06.94z\"/><path d=\"M17.41 7.96l-1.37-1.37c-.4-.4-.92-.59-1.43-.59-.52 0-1.04.2-1.43.59L10.3 9.45l-7.72 7.72c-.78.78-.78 2.05 0 2.83L4 21.41c.39.39.9.59 1.41.59.51 0 1.02-.2 1.41-.59l7.78-7.78 2.81-2.81c.8-.78.8-2.07 0-2.86zM5.41 20L4 18.59l7.72-7.72 1.47 1.35L5.41 20z\"/>\n",
              "  </svg>\n",
              "      </button>\n",
              "      \n",
              "  <style>\n",
              "    .colab-df-container {\n",
              "      display:flex;\n",
              "      flex-wrap:wrap;\n",
              "      gap: 12px;\n",
              "    }\n",
              "\n",
              "    .colab-df-convert {\n",
              "      background-color: #E8F0FE;\n",
              "      border: none;\n",
              "      border-radius: 50%;\n",
              "      cursor: pointer;\n",
              "      display: none;\n",
              "      fill: #1967D2;\n",
              "      height: 32px;\n",
              "      padding: 0 0 0 0;\n",
              "      width: 32px;\n",
              "    }\n",
              "\n",
              "    .colab-df-convert:hover {\n",
              "      background-color: #E2EBFA;\n",
              "      box-shadow: 0px 1px 2px rgba(60, 64, 67, 0.3), 0px 1px 3px 1px rgba(60, 64, 67, 0.15);\n",
              "      fill: #174EA6;\n",
              "    }\n",
              "\n",
              "    [theme=dark] .colab-df-convert {\n",
              "      background-color: #3B4455;\n",
              "      fill: #D2E3FC;\n",
              "    }\n",
              "\n",
              "    [theme=dark] .colab-df-convert:hover {\n",
              "      background-color: #434B5C;\n",
              "      box-shadow: 0px 1px 3px 1px rgba(0, 0, 0, 0.15);\n",
              "      filter: drop-shadow(0px 1px 2px rgba(0, 0, 0, 0.3));\n",
              "      fill: #FFFFFF;\n",
              "    }\n",
              "  </style>\n",
              "\n",
              "      <script>\n",
              "        const buttonEl =\n",
              "          document.querySelector('#df-8bb0bd4d-191e-4d38-ac27-53b4b1dbbd53 button.colab-df-convert');\n",
              "        buttonEl.style.display =\n",
              "          google.colab.kernel.accessAllowed ? 'block' : 'none';\n",
              "\n",
              "        async function convertToInteractive(key) {\n",
              "          const element = document.querySelector('#df-8bb0bd4d-191e-4d38-ac27-53b4b1dbbd53');\n",
              "          const dataTable =\n",
              "            await google.colab.kernel.invokeFunction('convertToInteractive',\n",
              "                                                     [key], {});\n",
              "          if (!dataTable) return;\n",
              "\n",
              "          const docLinkHtml = 'Like what you see? Visit the ' +\n",
              "            '<a target=\"_blank\" href=https://colab.research.google.com/notebooks/data_table.ipynb>data table notebook</a>'\n",
              "            + ' to learn more about interactive tables.';\n",
              "          element.innerHTML = '';\n",
              "          dataTable['output_type'] = 'display_data';\n",
              "          await google.colab.output.renderOutput(dataTable, element);\n",
              "          const docLink = document.createElement('div');\n",
              "          docLink.innerHTML = docLinkHtml;\n",
              "          element.appendChild(docLink);\n",
              "        }\n",
              "      </script>\n",
              "    </div>\n",
              "  </div>\n",
              "  "
            ]
          },
          "metadata": {},
          "execution_count": 39
        }
      ],
      "source": [
        "df_v4"
      ]
    },
    {
      "cell_type": "markdown",
      "source": [
        "Agora que já inserimos o OneHotEncoding, vamos definir as features e labels dos treinamentos. A coluna \"speed\" vai ser a que queremos prever, e utilizaremos as outras colunas como features."
      ],
      "metadata": {
        "id": "DiIuIjyL0XFH"
      }
    },
    {
      "cell_type": "code",
      "execution_count": null,
      "metadata": {
        "id": "PpMhNF6dcq61"
      },
      "outputs": [],
      "source": [
        "from sklearn.model_selection import train_test_split\n",
        "\n",
        "a = df_v4[['type_asphalt', 'type_paved', 'type_cobblestone', 'type_unpaved', 'type_dirt',\n",
        "           'acc_x_dashboard', 'acc_y_dashboard', 'acc_z_dashboard', 'no_speed_bump',\n",
        "           'gyro_x_dashboard', 'gyro_y_dashboard', 'gyro_z_dashboard', 'temp_dashboard']]\n",
        "b = df_v4['speed']\n",
        "\n",
        "a_train, a_test, b_train, b_test = train_test_split(a, b, test_size = 0.2, random_state = 100)\n"
      ]
    },
    {
      "cell_type": "markdown",
      "source": [
        "Como boa prática, vamos escalonar os dados usando o MinMaxScaler."
      ],
      "metadata": {
        "id": "GDNroLfOo3ej"
      }
    },
    {
      "cell_type": "markdown",
      "source": [
        "A ideia de usar esse procedimento foi porque já melhoramos os outliers anteriormente e, dessa maneira, usar a técnica do StandardScale não faria muito sentido. Além desse motivo, usar o minmax altera os valores das colunas numéricas para uma escala comum, sem distorcer as diferenças nos intervalos de valores."
      ],
      "metadata": {
        "id": "sRsC7a8_zW_j"
      }
    },
    {
      "cell_type": "code",
      "execution_count": null,
      "metadata": {
        "id": "Ghwzq6KtfPax"
      },
      "outputs": [],
      "source": [
        "from sklearn.preprocessing import MinMaxScaler\n",
        "\n",
        "#scaler = StandardScaler()\n",
        "scaler = MinMaxScaler()\n",
        "scaler.fit(a_train)\n",
        "\n",
        "a_train_scaled = scaler.transform(a_train)\n",
        "a_test_scaled = scaler.transform(a_test)"
      ]
    },
    {
      "cell_type": "code",
      "execution_count": null,
      "metadata": {
        "id": "Y-b2XaeceslI",
        "colab": {
          "base_uri": "https://localhost:8080/"
        },
        "outputId": "8176899e-cf58-4690-92d8-59f3cc514202"
      },
      "outputs": [
        {
          "output_type": "execute_result",
          "data": {
            "text/plain": [
              "RandomForestRegressor()"
            ]
          },
          "metadata": {},
          "execution_count": 42
        }
      ],
      "source": [
        "from sklearn.ensemble import RandomForestRegressor\n",
        "\n",
        "rfr = RandomForestRegressor()\n",
        "\n",
        "rfr.fit(a_train_scaled,b_train)"
      ]
    },
    {
      "cell_type": "code",
      "execution_count": null,
      "metadata": {
        "id": "zOWwa01jHiPk",
        "colab": {
          "base_uri": "https://localhost:8080/"
        },
        "outputId": "bd8004f4-913d-4bcd-b667-36f6a0bba96e"
      },
      "outputs": [
        {
          "output_type": "execute_result",
          "data": {
            "text/plain": [
              "array([ 5.36191151,  4.88732459, 12.74162974, ..., 20.42035508,\n",
              "        5.4403744 ,  5.60160617])"
            ]
          },
          "metadata": {},
          "execution_count": 43
        }
      ],
      "source": [
        "# salvando as predicoes numa outra variavel\n",
        "b_predictions = rfr.predict(a_test_scaled)\n",
        "b_predictions"
      ]
    },
    {
      "cell_type": "code",
      "execution_count": null,
      "metadata": {
        "id": "ZhJonXOedGz7",
        "colab": {
          "base_uri": "https://localhost:8080/"
        },
        "outputId": "6147e6e7-7440-4286-d06a-5573e8add807"
      },
      "outputs": [
        {
          "output_type": "stream",
          "name": "stdout",
          "text": [
            "R2:  0.84249561213291\n",
            "MAE:  1.5936751161824576\n",
            "MSE:  6.21957402508507\n",
            "raiz MSE:  2.493907381015797\n",
            "ρ: 0.9180120166567836\n"
          ]
        }
      ],
      "source": [
        "from sklearn.metrics import mean_squared_error, mean_absolute_error, r2_score\n",
        "from scipy.stats import pearsonr\n",
        "\n",
        "R2 = r2_score(y_true = b_test,      # Gabarito\n",
        "              y_pred = b_predictions) # Respostas do algoritmo ao teste realizado\n",
        "print('R2: ', R2)  # Quanto mais próximos de 1 melhor\n",
        "\n",
        "MAE = mean_absolute_error(y_true = b_test,      # Gabarito\n",
        "                          y_pred = b_predictions) # Respostas do algoritmo ao teste realizado\n",
        "print('MAE: ', MAE)\n",
        "\n",
        "MSE = mean_squared_error(y_true = b_test,      # Gabarito\n",
        "                         y_pred = b_predictions) # Respostas do algoritmo ao teste realizado\n",
        "print('MSE: ', MSE)\n",
        "print('raiz MSE: ', MSE**0.5)\n",
        "\n",
        "rho = pearsonr(b_test, b_predictions)\n",
        "print('\\u03C1:', rho[0]) # Quanto mais próximo de 1, melhor"
      ]
    },
    {
      "cell_type": "markdown",
      "source": [
        "Ao final das análises, pode-se ver que o R² deu aproximadamente 83%. Há outros valores de saída no código anterior, mas vamos nos concentrar no R² que é o mais compreensível."
      ],
      "metadata": {
        "id": "qAD75wNQ2ACW"
      }
    },
    {
      "cell_type": "markdown",
      "source": [
        "Grande parte da acurácia nesse modelo, foi majoritariamente devido a inserção de todas as colunas, exceto a \"speed\" (porque foi a label), nas features e à biblioteca usada: RandomForestRegressor. "
      ],
      "metadata": {
        "id": "489wmTLj3uZJ"
      }
    },
    {
      "cell_type": "markdown",
      "source": [
        "Foi testado também LinearRegressor, DecisionTreeRegressor e até redes neurais MLP Regressor, mas nenhuma delas obteve um valor satisfatório, igual ou superior ao de RandomForest."
      ],
      "metadata": {
        "id": "3YPXmWai5yD1"
      }
    },
    {
      "cell_type": "markdown",
      "source": [
        "Limpeza de outliers, por incrivel que pareça, não aumentou muito o score final (menos de 1%). Ao trocar o random state no training, a normalização aumentou uma pequena porcentagem, diferente da padronização que não surtiu muito efeito."
      ],
      "metadata": {
        "id": "IiLJiOg29R0b"
      }
    },
    {
      "cell_type": "markdown",
      "source": [
        "Vamos tentar visualizar melhor onde a máquina está tendo dificuldades em prever."
      ],
      "metadata": {
        "id": "RGJKMOErBJDI"
      }
    },
    {
      "cell_type": "code",
      "execution_count": null,
      "metadata": {
        "id": "IV90OBteXFyi",
        "colab": {
          "base_uri": "https://localhost:8080/",
          "height": 108
        },
        "outputId": "6834050d-3c9d-43f4-f350-c430d4b8cfbe"
      },
      "outputs": [
        {
          "output_type": "execute_result",
          "data": {
            "text/plain": [
              "<matplotlib.legend.Legend at 0x7efebde77950>"
            ]
          },
          "metadata": {},
          "execution_count": 45
        },
        {
          "output_type": "display_data",
          "data": {
            "text/plain": [
              "<Figure size 432x288 with 1 Axes>"
            ],
            "image/png": "[encoded data removed]"
          },
          "metadata": {
            "needs_background": "light"
          }
        }
      ],
      "source": [
        "import seaborn as sns\n",
        "\n",
        "# visao geral dos acertos da maquina\n",
        "ax1 = sns.regplot(x = b_test,y = b_predictions,\n",
        "                 color=\"g\", scatter_kws={'alpha':0.3}, label='Previsao')\n",
        "ax1.plot(b_test, b_test, 'r--', linewidth = 2, label='Correto')\n",
        "ax1.set(xlabel='y_test (gabarito)', ylabel='y_pred (respostas do teste)') \n",
        "ax1.legend()"
      ]
    },
    {
      "cell_type": "code",
      "source": [
        "# dando um zoom na parte que a inteligencia acertou menos\n",
        "ax = sns.regplot(x = b_test,y = b_predictions,\n",
        "                 color=\"g\", scatter_kws={'alpha':0.3}, label='Previsao')\n",
        "ax.plot(b_test, b_test, 'r--', linewidth = 2, label='Correto')\n",
        "ax.set(xlabel='y_test (gabarito)', ylabel='y_pred (respostas do teste)') \n",
        "ax.legend()\n",
        "ax.set_xscale('log'), ax.set_yscale('log')"
      ],
      "metadata": {
        "id": "eYxwneA95Cht",
        "colab": {
          "base_uri": "https://localhost:8080/",
          "height": 90
        },
        "outputId": "16464dd3-3ed1-4264-8f94-02e92686bf0a"
      },
      "execution_count": null,
      "outputs": [
        {
          "output_type": "execute_result",
          "data": {
            "text/plain": [
              "(None, None)"
            ]
          },
          "metadata": {},
          "execution_count": 46
        },
        {
          "output_type": "display_data",
          "data": {
            "text/plain": [
              "<Figure size 432x288 with 1 Axes>"
            ],
            "image/png": "[encoded data removed]"
          },
          "metadata": {
            "needs_background": "light"
          }
        }
      ]
    },
    {
      "cell_type": "markdown",
      "source": [
        "Notamos que grande parte dos erros de previsões da máquina se concentram no início dos eixos do gráfico. "
      ],
      "metadata": {
        "id": "--H0UcOaBHjx"
      }
    },
    {
      "cell_type": "markdown",
      "source": [
        "A suposição é que isso pode ser do próprio funcionamento do RandomForest que trabalha criando árvores de decisões com base numa seleção inicial e aleatória de dados e, assim, junto com inconstâncias ou faltas de dados no dataset, acaba criando uma lacuna nessa parte do gráfico, prejudicando o seu desempenho."
      ],
      "metadata": {
        "id": "2zG3VLJzFN5n"
      }
    },
    {
      "cell_type": "markdown",
      "metadata": {
        "id": "-QO6MxMNCyQL"
      },
      "source": [
        "# 4) Aprendizado de máquina usando classificação"
      ]
    },
    {
      "cell_type": "markdown",
      "source": [
        "Mais um modelo ML que vai usar método de classificação. Entretanto, esse modelo não tem muita relação ao que se pede no comando do trabalho, mas ainda assim é interessante avaliar."
      ],
      "metadata": {
        "id": "oVAaQgDagfM0"
      }
    },
    {
      "cell_type": "code",
      "source": [
        "# tirar a media de cada coluna de acordo com o tipo de estrada\n",
        "df_v4.drop(columns=['no_speed_bump', 'type_asphalt', 'type_cobblestone', 'type_dirt', 'type_paved', 'type_unpaved']).groupby('road').mean().sort_values(by = 'speed', ascending=False)"
      ],
      "metadata": {
        "id": "2uYAnyAJKYBy",
        "colab": {
          "base_uri": "https://localhost:8080/",
          "height": 302
        },
        "outputId": "05e7cf9b-00a8-4ccc-b81a-322f26bcd40e"
      },
      "execution_count": null,
      "outputs": [
        {
          "output_type": "execute_result",
          "data": {
            "text/plain": [
              "             acc_x_dashboard  acc_y_dashboard  acc_z_dashboard  \\\n",
              "road                                                             \n",
              "asphalt             0.514081        -0.267705         9.823624   \n",
              "paved               0.500617        -0.173956         9.827977   \n",
              "cobblestone         0.458877         0.139804         9.786915   \n",
              "unpaved             0.822248        -0.365296         9.834216   \n",
              "dirt                0.839155        -0.499057         9.673727   \n",
              "\n",
              "             gyro_x_dashboard  gyro_y_dashboard  gyro_z_dashboard  \\\n",
              "road                                                                \n",
              "asphalt              0.037276         -0.046973         -0.120960   \n",
              "paved                0.036478         -0.064159         -0.271413   \n",
              "cobblestone          0.173588         -0.541779         -0.923684   \n",
              "unpaved             -0.022003         -0.099361         -0.064278   \n",
              "dirt                 0.303414         -0.512060          0.087464   \n",
              "\n",
              "             temp_dashboard      speed  \n",
              "road                                    \n",
              "asphalt           32.726167  13.838838  \n",
              "paved             32.833376  11.743663  \n",
              "cobblestone       33.128025   6.569799  \n",
              "unpaved           32.823133   4.741972  \n",
              "dirt              32.814889   4.691964  "
            ],
            "text/html": [
              "\n",
              "  <div id=\"df-69f72b05-602d-431e-80aa-094ab81c3c92\">\n",
              "    <div class=\"colab-df-container\">\n",
              "      <div>\n",
              "<style scoped>\n",
              "    .dataframe tbody tr th:only-of-type {\n",
              "        vertical-align: middle;\n",
              "    }\n",
              "\n",
              "    .dataframe tbody tr th {\n",
              "        vertical-align: top;\n",
              "    }\n",
              "\n",
              "    .dataframe thead th {\n",
              "        text-align: right;\n",
              "    }\n",
              "</style>\n",
              "<table border=\"1\" class=\"dataframe\">\n",
              "  <thead>\n",
              "    <tr style=\"text-align: right;\">\n",
              "      <th></th>\n",
              "      <th>acc_x_dashboard</th>\n",
              "      <th>acc_y_dashboard</th>\n",
              "      <th>acc_z_dashboard</th>\n",
              "      <th>gyro_x_dashboard</th>\n",
              "      <th>gyro_y_dashboard</th>\n",
              "      <th>gyro_z_dashboard</th>\n",
              "      <th>temp_dashboard</th>\n",
              "      <th>speed</th>\n",
              "    </tr>\n",
              "    <tr>\n",
              "      <th>road</th>\n",
              "      <th></th>\n",
              "      <th></th>\n",
              "      <th></th>\n",
              "      <th></th>\n",
              "      <th></th>\n",
              "      <th></th>\n",
              "      <th></th>\n",
              "      <th></th>\n",
              "    </tr>\n",
              "  </thead>\n",
              "  <tbody>\n",
              "    <tr>\n",
              "      <th>asphalt</th>\n",
              "      <td>0.514081</td>\n",
              "      <td>-0.267705</td>\n",
              "      <td>9.823624</td>\n",
              "      <td>0.037276</td>\n",
              "      <td>-0.046973</td>\n",
              "      <td>-0.120960</td>\n",
              "      <td>32.726167</td>\n",
              "      <td>13.838838</td>\n",
              "    </tr>\n",
              "    <tr>\n",
              "      <th>paved</th>\n",
              "      <td>0.500617</td>\n",
              "      <td>-0.173956</td>\n",
              "      <td>9.827977</td>\n",
              "      <td>0.036478</td>\n",
              "      <td>-0.064159</td>\n",
              "      <td>-0.271413</td>\n",
              "      <td>32.833376</td>\n",
              "      <td>11.743663</td>\n",
              "    </tr>\n",
              "    <tr>\n",
              "      <th>cobblestone</th>\n",
              "      <td>0.458877</td>\n",
              "      <td>0.139804</td>\n",
              "      <td>9.786915</td>\n",
              "      <td>0.173588</td>\n",
              "      <td>-0.541779</td>\n",
              "      <td>-0.923684</td>\n",
              "      <td>33.128025</td>\n",
              "      <td>6.569799</td>\n",
              "    </tr>\n",
              "    <tr>\n",
              "      <th>unpaved</th>\n",
              "      <td>0.822248</td>\n",
              "      <td>-0.365296</td>\n",
              "      <td>9.834216</td>\n",
              "      <td>-0.022003</td>\n",
              "      <td>-0.099361</td>\n",
              "      <td>-0.064278</td>\n",
              "      <td>32.823133</td>\n",
              "      <td>4.741972</td>\n",
              "    </tr>\n",
              "    <tr>\n",
              "      <th>dirt</th>\n",
              "      <td>0.839155</td>\n",
              "      <td>-0.499057</td>\n",
              "      <td>9.673727</td>\n",
              "      <td>0.303414</td>\n",
              "      <td>-0.512060</td>\n",
              "      <td>0.087464</td>\n",
              "      <td>32.814889</td>\n",
              "      <td>4.691964</td>\n",
              "    </tr>\n",
              "  </tbody>\n",
              "</table>\n",
              "</div>\n",
              "      <button class=\"colab-df-convert\" onclick=\"convertToInteractive('df-69f72b05-602d-431e-80aa-094ab81c3c92')\"\n",
              "              title=\"Convert this dataframe to an interactive table.\"\n",
              "              style=\"display:none;\">\n",
              "        \n",
              "  <svg xmlns=\"http://www.w3.org/2000/svg\" height=\"24px\"viewBox=\"0 0 24 24\"\n",
              "       width=\"24px\">\n",
              "    <path d=\"M0 0h24v24H0V0z\" fill=\"none\"/>\n",
              "    <path d=\"M18.56 5.44l.94 2.06.94-2.06 2.06-.94-2.06-.94-.94-2.06-.94 2.06-2.06.94zm-11 1L8.5 8.5l.94-2.06 2.06-.94-2.06-.94L8.5 2.5l-.94 2.06-2.06.94zm10 10l.94 2.06.94-2.06 2.06-.94-2.06-.94-.94-2.06-.94 2.06-2.06.94z\"/><path d=\"M17.41 7.96l-1.37-1.37c-.4-.4-.92-.59-1.43-.59-.52 0-1.04.2-1.43.59L10.3 9.45l-7.72 7.72c-.78.78-.78 2.05 0 2.83L4 21.41c.39.39.9.59 1.41.59.51 0 1.02-.2 1.41-.59l7.78-7.78 2.81-2.81c.8-.78.8-2.07 0-2.86zM5.41 20L4 18.59l7.72-7.72 1.47 1.35L5.41 20z\"/>\n",
              "  </svg>\n",
              "      </button>\n",
              "      \n",
              "  <style>\n",
              "    .colab-df-container {\n",
              "      display:flex;\n",
              "      flex-wrap:wrap;\n",
              "      gap: 12px;\n",
              "    }\n",
              "\n",
              "    .colab-df-convert {\n",
              "      background-color: #E8F0FE;\n",
              "      border: none;\n",
              "      border-radius: 50%;\n",
              "      cursor: pointer;\n",
              "      display: none;\n",
              "      fill: #1967D2;\n",
              "      height: 32px;\n",
              "      padding: 0 0 0 0;\n",
              "      width: 32px;\n",
              "    }\n",
              "\n",
              "    .colab-df-convert:hover {\n",
              "      background-color: #E2EBFA;\n",
              "      box-shadow: 0px 1px 2px rgba(60, 64, 67, 0.3), 0px 1px 3px 1px rgba(60, 64, 67, 0.15);\n",
              "      fill: #174EA6;\n",
              "    }\n",
              "\n",
              "    [theme=dark] .colab-df-convert {\n",
              "      background-color: #3B4455;\n",
              "      fill: #D2E3FC;\n",
              "    }\n",
              "\n",
              "    [theme=dark] .colab-df-convert:hover {\n",
              "      background-color: #434B5C;\n",
              "      box-shadow: 0px 1px 3px 1px rgba(0, 0, 0, 0.15);\n",
              "      filter: drop-shadow(0px 1px 2px rgba(0, 0, 0, 0.3));\n",
              "      fill: #FFFFFF;\n",
              "    }\n",
              "  </style>\n",
              "\n",
              "      <script>\n",
              "        const buttonEl =\n",
              "          document.querySelector('#df-69f72b05-602d-431e-80aa-094ab81c3c92 button.colab-df-convert');\n",
              "        buttonEl.style.display =\n",
              "          google.colab.kernel.accessAllowed ? 'block' : 'none';\n",
              "\n",
              "        async function convertToInteractive(key) {\n",
              "          const element = document.querySelector('#df-69f72b05-602d-431e-80aa-094ab81c3c92');\n",
              "          const dataTable =\n",
              "            await google.colab.kernel.invokeFunction('convertToInteractive',\n",
              "                                                     [key], {});\n",
              "          if (!dataTable) return;\n",
              "\n",
              "          const docLinkHtml = 'Like what you see? Visit the ' +\n",
              "            '<a target=\"_blank\" href=https://colab.research.google.com/notebooks/data_table.ipynb>data table notebook</a>'\n",
              "            + ' to learn more about interactive tables.';\n",
              "          element.innerHTML = '';\n",
              "          dataTable['output_type'] = 'display_data';\n",
              "          await google.colab.output.renderOutput(dataTable, element);\n",
              "          const docLink = document.createElement('div');\n",
              "          docLink.innerHTML = docLinkHtml;\n",
              "          element.appendChild(docLink);\n",
              "        }\n",
              "      </script>\n",
              "    </div>\n",
              "  </div>\n",
              "  "
            ]
          },
          "metadata": {},
          "execution_count": 47
        }
      ]
    },
    {
      "cell_type": "markdown",
      "source": [
        "Após os resultados do último código, há uma certa relação da média de velocidade com o tipo de estrada. Iremos plotar um gráfico logo logo a respeito disso."
      ],
      "metadata": {
        "id": "Fk9JZE3lhNp0"
      }
    },
    {
      "cell_type": "code",
      "source": [
        "# comando para ver a quantidade de registros dentro de cada tipo de pavimentacao\n",
        "df_v4['road'].value_counts()"
      ],
      "metadata": {
        "id": "qs8HulXNK62z",
        "colab": {
          "base_uri": "https://localhost:8080/"
        },
        "outputId": "0dd32bce-497d-4bf2-acde-f7a87437e054"
      },
      "execution_count": null,
      "outputs": [
        {
          "output_type": "execute_result",
          "data": {
            "text/plain": [
              "paved          79263\n",
              "unpaved        44177\n",
              "asphalt          594\n",
              "dirt             451\n",
              "cobblestone      199\n",
              "Name: road, dtype: int64"
            ]
          },
          "metadata": {},
          "execution_count": 48
        }
      ]
    },
    {
      "cell_type": "code",
      "source": [
        "road = ['Asfalto', 'Pavimentado', 'Pedregulho', 'Não pavimentado', 'Terra']\n",
        "speed = [13.838838, 11.743663, 6.569799, 4.741972, 4.691964]\n",
        "counts = [594, 79263, 199, 44177, 451]\n",
        "\n",
        "\n",
        "fig, ([ax1, ax2]) = plt.subplots(1, 2, figsize=(20,8))\n",
        "\n",
        "ax1.bar(road, speed, color=['#5eda54', '#5eda54', '#F5C000', '#FA4900', '#FA4900'])\n",
        "ax1.set_ylabel('Velocidade (m/s)', fontsize = 12)\n",
        "ax1.set_xlabel('Tipo de estrada', fontsize = 12)\n",
        "ax1.set_title('Média da velocidade em relação ao tipo de estrada', fontsize = 15)\n",
        "\n",
        "ax2.bar(road, counts, color=['#8FA8BF', '#F0D63E', '#8FA8BF', '#2345F0', '#8FA8BF'])\n",
        "ax2.set_ylabel('Quantidade', fontsize = 12)\n",
        "ax2.set_xlabel('Tipo de estrada', fontsize = 12)\n",
        "ax2.set_title('Quantidade por tipo de estrada', fontsize = 15)\n",
        "\n",
        "plt.show()"
      ],
      "metadata": {
        "id": "0746v2YcKW7w",
        "colab": {
          "base_uri": "https://localhost:8080/",
          "height": 54
        },
        "outputId": "2cff5edb-175e-4c33-b9f1-da6d68be710d"
      },
      "execution_count": null,
      "outputs": [
        {
          "output_type": "display_data",
          "data": {
            "text/plain": [
              "<Figure size 1440x576 with 2 Axes>"
            ],
            "image/png": "[encoded data removed]"
          },
          "metadata": {
            "needs_background": "light"
          }
        }
      ]
    },
    {
      "cell_type": "markdown",
      "source": [
        "1) De acordo com o primeiro gráfico, demonstra uma maior média de velocidade em estradas com uma pavimentação mais moderna. Isso se deve justamente pelo tipo da rua, pois em estradas de terra ou não pavimentadas, por exemplo, além de terem relevos inconstantes, o nível de aderência na de terra é menor, fazendo o carro perder muita velocidade."
      ],
      "metadata": {
        "id": "VjlmUYzahMY8"
      }
    },
    {
      "cell_type": "markdown",
      "source": [
        "2)Com esse segundo gráfico, infere-se que, embora as estradas pavimentadas sejam a de maior número, a não pavimentada apenas perde por metade. Isso é preocupante, pois se relacionarmos os dois gráficos, observamos que a grande quantidade de estradas não pavimentadas pode implicar diretamente no próprio engarrafamento no trânsito por ser mais lenta. Não só isso, mas com esse tipo de pavimentação, deteriora mais as peças de movimentação do carro por causa de seu relevo inconstante, podendo aumentar os índices de acidentes\n",
        "."
      ],
      "metadata": {
        "id": "e8ludU55ivzr"
      }
    },
    {
      "cell_type": "markdown",
      "source": [
        "Apesar de relacionarmos o tipo de estrada com a sua respectiva velocidade média, ainda surge uma dúvida: será que as lombadas realmente são eficazes para conter velocidade e evitar possíveis acidentes?"
      ],
      "metadata": {
        "id": "p6aNnsZOjz-X"
      }
    },
    {
      "cell_type": "code",
      "source": [
        "# trocando os valores numericos da coluna \"no_speed_bump\" por categóricos\n",
        "df_v4['no_speed_bump'] = df_v4['no_speed_bump'].replace([1], 'no_bump')\n",
        "df_v4['no_speed_bump'] = df_v4['no_speed_bump'].replace([0], 'bump')\n",
        "print(df_v4)"
      ],
      "metadata": {
        "id": "HktEGP7VJVh7",
        "colab": {
          "base_uri": "https://localhost:8080/"
        },
        "outputId": "af8e1b20-164e-4115-cbb2-78999d80bd7d"
      },
      "execution_count": null,
      "outputs": [
        {
          "output_type": "stream",
          "name": "stdout",
          "text": [
            "       no_speed_bump  acc_x_dashboard  acc_y_dashboard  acc_z_dashboard  \\\n",
            "0            no_bump        -0.029431        -0.019621         9.781015   \n",
            "1            no_bump        -0.039008         0.009110         9.819322   \n",
            "2            no_bump         0.010073         0.005518         9.777423   \n",
            "3            no_bump         0.020847         0.028263         9.785803   \n",
            "4            no_bump        -0.003095        -0.017227         9.800168   \n",
            "...              ...              ...              ...              ...   \n",
            "124679       no_bump         0.427861        -0.261435         9.958185   \n",
            "124680       no_bump         0.466169        -0.316502         9.867206   \n",
            "124681       no_bump         0.332093        -0.555922         9.646939   \n",
            "124682       no_bump         0.339276        -0.570287         9.824110   \n",
            "124683       no_bump         0.439832        -0.201580        10.101838   \n",
            "\n",
            "        gyro_x_dashboard  gyro_y_dashboard  gyro_z_dashboard  temp_dashboard  \\\n",
            "0              -0.122070         -0.064159         -0.112208       32.166023   \n",
            "1              -0.030518         -0.064159         -0.051173       32.453560   \n",
            "2              -0.122070         -0.064159         -0.020655       32.405637   \n",
            "3               0.061035         -0.064159         -0.112208       32.453560   \n",
            "4              -0.091553         -0.064159         -0.112208       32.309791   \n",
            "...                  ...               ...               ...             ...   \n",
            "124679          0.030518         -0.006327          0.070898       32.070177   \n",
            "124680         -0.122070         -0.082621         -0.020655       32.094138   \n",
            "124681         -0.183105         -0.067362          0.101415       32.261868   \n",
            "124682         -0.122070         -0.006327         -0.173243       32.070177   \n",
            "124683          0.000000          0.176779         -0.234278       32.070177   \n",
            "\n",
            "            speed   road  type_asphalt  type_cobblestone  type_dirt  \\\n",
            "0       11.743663  paved           0.0               0.0        0.0   \n",
            "1       11.743663  paved           0.0               0.0        0.0   \n",
            "2        0.010822  paved           0.0               0.0        0.0   \n",
            "3        0.010822  paved           0.0               0.0        0.0   \n",
            "4        0.010822  paved           0.0               0.0        0.0   \n",
            "...           ...    ...           ...               ...        ...   \n",
            "124679   0.023570  paved           0.0               0.0        0.0   \n",
            "124680   0.023570  paved           0.0               0.0        0.0   \n",
            "124681   0.023570  paved           0.0               0.0        0.0   \n",
            "124682   0.023570  paved           0.0               0.0        0.0   \n",
            "124683   0.023570  paved           0.0               0.0        0.0   \n",
            "\n",
            "        type_paved  type_unpaved  \n",
            "0              1.0           0.0  \n",
            "1              1.0           0.0  \n",
            "2              1.0           0.0  \n",
            "3              1.0           0.0  \n",
            "4              1.0           0.0  \n",
            "...            ...           ...  \n",
            "124679         1.0           0.0  \n",
            "124680         1.0           0.0  \n",
            "124681         1.0           0.0  \n",
            "124682         1.0           0.0  \n",
            "124683         1.0           0.0  \n",
            "\n",
            "[124684 rows x 15 columns]\n"
          ]
        }
      ]
    },
    {
      "cell_type": "markdown",
      "source": [
        "no_bump significa \"sem lombada\" e bump, \"com lombada\". Essa alteração foi necessária para usarmos o modelo de classificação no aprendizado de máquina a fim de tentar relacionar e prever valores com e sem lombada."
      ],
      "metadata": {
        "id": "-VYSJmX0kFV2"
      }
    },
    {
      "cell_type": "code",
      "execution_count": null,
      "metadata": {
        "id": "raloGZJn92J_"
      },
      "outputs": [],
      "source": [
        "x = df_v4[['speed', 'acc_x_dashboard', 'acc_y_dashboard', 'acc_z_dashboard']] #colunas preditivas\n",
        "y = df_v4['no_speed_bump'] #coluna alvo\n",
        "\n",
        "x_train, x_test, y_train, y_test = train_test_split(x, y, test_size = 0.2, random_state = 42)"
      ]
    },
    {
      "cell_type": "code",
      "execution_count": null,
      "metadata": {
        "id": "yMukTRXR97W-"
      },
      "outputs": [],
      "source": [
        "scaler = MinMaxScaler()\n",
        "\n",
        "scaler.fit(x_train)\n",
        "\n",
        "x_train_scaled = scaler.transform(x_train)\n",
        "x_test_scaled = scaler.transform(x_test)"
      ]
    },
    {
      "cell_type": "markdown",
      "source": [
        "A mesma lógica descrita no modelo de regressão: MinMaxScaler foi usado porque já tinhamos tratado os outliers, visto que o StandardScaler faz muito bem essa função."
      ],
      "metadata": {
        "id": "FB563N8Bk0f7"
      }
    },
    {
      "cell_type": "code",
      "execution_count": null,
      "metadata": {
        "id": "yEsg6K-jcrFr",
        "colab": {
          "base_uri": "https://localhost:8080/"
        },
        "outputId": "5c448ec5-a678-44b9-af2e-5455bc1d67d9"
      },
      "outputs": [
        {
          "output_type": "execute_result",
          "data": {
            "text/plain": [
              "RandomForestClassifier()"
            ]
          },
          "metadata": {},
          "execution_count": 53
        }
      ],
      "source": [
        "from sklearn.ensemble import  RandomForestClassifier\n",
        "\n",
        "rfc = RandomForestClassifier()  # criamos o objeto do classificador\n",
        "\n",
        "rfc.fit(x_train_scaled,y_train) # treinamos o classificador passando apenas o conjunto de dados de treinamento "
      ]
    },
    {
      "cell_type": "code",
      "execution_count": null,
      "metadata": {
        "id": "uFofrrNCcupP",
        "colab": {
          "base_uri": "https://localhost:8080/"
        },
        "outputId": "e5e949d3-8928-4667-ac29-3bea1a3b9a24"
      },
      "outputs": [
        {
          "output_type": "execute_result",
          "data": {
            "text/plain": [
              "array(['no_bump', 'no_bump', 'no_bump', ..., 'no_bump', 'no_bump',\n",
              "       'no_bump'], dtype=object)"
            ]
          },
          "metadata": {},
          "execution_count": 54
        }
      ],
      "source": [
        "y_predictions = rfc.predict(x_test_scaled)\n",
        "\n",
        "y_predictions"
      ]
    },
    {
      "cell_type": "code",
      "execution_count": null,
      "metadata": {
        "id": "pmPqwrADcw9Y",
        "colab": {
          "base_uri": "https://localhost:8080/"
        },
        "outputId": "221ca78d-e8eb-435d-d437-ef808565da32"
      },
      "outputs": [
        {
          "output_type": "stream",
          "name": "stdout",
          "text": [
            "              precision    recall  f1-score   support\n",
            "\n",
            "        bump       0.94      0.67      0.78       415\n",
            "     no_bump       0.99      1.00      1.00     24522\n",
            "\n",
            "    accuracy                           0.99     24937\n",
            "   macro avg       0.96      0.83      0.89     24937\n",
            "weighted avg       0.99      0.99      0.99     24937\n",
            "\n"
          ]
        }
      ],
      "source": [
        "from sklearn.metrics import classification_report\n",
        "# Metricas de precisão, revocação, f1-score e acurácia.\n",
        "print(classification_report(y_test, y_predictions))"
      ]
    },
    {
      "cell_type": "markdown",
      "source": [
        "Essa precisão alta pode ser explicada por duas coisas: pelo próprio método usado, RandomForestClassifier, pois esse algoritmo funciona melhor quando a coluna alvo é categórica; já o outro é porque de fato, a lombada tem relação direta com a velocidade nos veículos."
      ],
      "metadata": {
        "id": "rLy3j2jflGeo"
      }
    },
    {
      "cell_type": "code",
      "source": [
        "bump_mean = df_v4[['speed', 'no_speed_bump']].groupby('no_speed_bump').mean().sort_values(by = 'speed', ascending=False)\n",
        "bump_mean"
      ],
      "metadata": {
        "id": "kmJIkhpdlzPR",
        "colab": {
          "base_uri": "https://localhost:8080/",
          "height": 207
        },
        "outputId": "9912561a-80b9-436f-d5be-808b8eb10008"
      },
      "execution_count": null,
      "outputs": [
        {
          "output_type": "execute_result",
          "data": {
            "text/plain": [
              "                  speed\n",
              "no_speed_bump          \n",
              "no_bump        9.307923\n",
              "bump           4.989216"
            ],
            "text/html": [
              "\n",
              "  <div id=\"df-fabc5e92-50c3-4d6e-bad2-1ec0fd014fa1\">\n",
              "    <div class=\"colab-df-container\">\n",
              "      <div>\n",
              "<style scoped>\n",
              "    .dataframe tbody tr th:only-of-type {\n",
              "        vertical-align: middle;\n",
              "    }\n",
              "\n",
              "    .dataframe tbody tr th {\n",
              "        vertical-align: top;\n",
              "    }\n",
              "\n",
              "    .dataframe thead th {\n",
              "        text-align: right;\n",
              "    }\n",
              "</style>\n",
              "<table border=\"1\" class=\"dataframe\">\n",
              "  <thead>\n",
              "    <tr style=\"text-align: right;\">\n",
              "      <th></th>\n",
              "      <th>speed</th>\n",
              "    </tr>\n",
              "    <tr>\n",
              "      <th>no_speed_bump</th>\n",
              "      <th></th>\n",
              "    </tr>\n",
              "  </thead>\n",
              "  <tbody>\n",
              "    <tr>\n",
              "      <th>no_bump</th>\n",
              "      <td>9.307923</td>\n",
              "    </tr>\n",
              "    <tr>\n",
              "      <th>bump</th>\n",
              "      <td>4.989216</td>\n",
              "    </tr>\n",
              "  </tbody>\n",
              "</table>\n",
              "</div>\n",
              "      <button class=\"colab-df-convert\" onclick=\"convertToInteractive('df-fabc5e92-50c3-4d6e-bad2-1ec0fd014fa1')\"\n",
              "              title=\"Convert this dataframe to an interactive table.\"\n",
              "              style=\"display:none;\">\n",
              "        \n",
              "  <svg xmlns=\"http://www.w3.org/2000/svg\" height=\"24px\"viewBox=\"0 0 24 24\"\n",
              "       width=\"24px\">\n",
              "    <path d=\"M0 0h24v24H0V0z\" fill=\"none\"/>\n",
              "    <path d=\"M18.56 5.44l.94 2.06.94-2.06 2.06-.94-2.06-.94-.94-2.06-.94 2.06-2.06.94zm-11 1L8.5 8.5l.94-2.06 2.06-.94-2.06-.94L8.5 2.5l-.94 2.06-2.06.94zm10 10l.94 2.06.94-2.06 2.06-.94-2.06-.94-.94-2.06-.94 2.06-2.06.94z\"/><path d=\"M17.41 7.96l-1.37-1.37c-.4-.4-.92-.59-1.43-.59-.52 0-1.04.2-1.43.59L10.3 9.45l-7.72 7.72c-.78.78-.78 2.05 0 2.83L4 21.41c.39.39.9.59 1.41.59.51 0 1.02-.2 1.41-.59l7.78-7.78 2.81-2.81c.8-.78.8-2.07 0-2.86zM5.41 20L4 18.59l7.72-7.72 1.47 1.35L5.41 20z\"/>\n",
              "  </svg>\n",
              "      </button>\n",
              "      \n",
              "  <style>\n",
              "    .colab-df-container {\n",
              "      display:flex;\n",
              "      flex-wrap:wrap;\n",
              "      gap: 12px;\n",
              "    }\n",
              "\n",
              "    .colab-df-convert {\n",
              "      background-color: #E8F0FE;\n",
              "      border: none;\n",
              "      border-radius: 50%;\n",
              "      cursor: pointer;\n",
              "      display: none;\n",
              "      fill: #1967D2;\n",
              "      height: 32px;\n",
              "      padding: 0 0 0 0;\n",
              "      width: 32px;\n",
              "    }\n",
              "\n",
              "    .colab-df-convert:hover {\n",
              "      background-color: #E2EBFA;\n",
              "      box-shadow: 0px 1px 2px rgba(60, 64, 67, 0.3), 0px 1px 3px 1px rgba(60, 64, 67, 0.15);\n",
              "      fill: #174EA6;\n",
              "    }\n",
              "\n",
              "    [theme=dark] .colab-df-convert {\n",
              "      background-color: #3B4455;\n",
              "      fill: #D2E3FC;\n",
              "    }\n",
              "\n",
              "    [theme=dark] .colab-df-convert:hover {\n",
              "      background-color: #434B5C;\n",
              "      box-shadow: 0px 1px 3px 1px rgba(0, 0, 0, 0.15);\n",
              "      filter: drop-shadow(0px 1px 2px rgba(0, 0, 0, 0.3));\n",
              "      fill: #FFFFFF;\n",
              "    }\n",
              "  </style>\n",
              "\n",
              "      <script>\n",
              "        const buttonEl =\n",
              "          document.querySelector('#df-fabc5e92-50c3-4d6e-bad2-1ec0fd014fa1 button.colab-df-convert');\n",
              "        buttonEl.style.display =\n",
              "          google.colab.kernel.accessAllowed ? 'block' : 'none';\n",
              "\n",
              "        async function convertToInteractive(key) {\n",
              "          const element = document.querySelector('#df-fabc5e92-50c3-4d6e-bad2-1ec0fd014fa1');\n",
              "          const dataTable =\n",
              "            await google.colab.kernel.invokeFunction('convertToInteractive',\n",
              "                                                     [key], {});\n",
              "          if (!dataTable) return;\n",
              "\n",
              "          const docLinkHtml = 'Like what you see? Visit the ' +\n",
              "            '<a target=\"_blank\" href=https://colab.research.google.com/notebooks/data_table.ipynb>data table notebook</a>'\n",
              "            + ' to learn more about interactive tables.';\n",
              "          element.innerHTML = '';\n",
              "          dataTable['output_type'] = 'display_data';\n",
              "          await google.colab.output.renderOutput(dataTable, element);\n",
              "          const docLink = document.createElement('div');\n",
              "          docLink.innerHTML = docLinkHtml;\n",
              "          element.appendChild(docLink);\n",
              "        }\n",
              "      </script>\n",
              "    </div>\n",
              "  </div>\n",
              "  "
            ]
          },
          "metadata": {},
          "execution_count": 56
        }
      ]
    },
    {
      "cell_type": "markdown",
      "source": [
        "# sensor_readings_24.csv\n",
        "\n",
        "O robô SCITOS G5 foi objeto de estudo de um modelo de um robô que\n",
        "segue parede de forma autônoma. Nesse estudo foram coletados dados dos\n",
        "24 sensores ultrassônicos instalados ao redor do robô (ver Figura 1)\n",
        "O objetivo do robô era conseguir seguir uma parede evitando eventuais\n",
        "colisões. Esse robô foi testado com diversos algoritmos e os dados dos valores\n",
        "desses sensores, assim como o movimento que o robô deveria fazer, foram armazenados em um conjunto de dados. A imagem a seguir ilustra as rotas\n",
        "realizadas pelo robô.\n",
        "\n",
        "A seguir temos uma descrição dos diversos sensores do robô instalados no\n",
        "robô:\n",
        "1. US1: Sensor ultrassônico na parte frontal do robô (ângulo de referência:\n",
        "180°) - (numeric: real)\n",
        "2. US2: Leitura do sensor ultrassônico (ângulo de referência: -165°) -\n",
        "(numeric: real)\n",
        "3. US3: Leitura do sensor ultrassônico (ângulo de referência: -150°) -\n",
        "(numeric: real)\n",
        "4. US4: Leitura do sensor ultrassônico (ângulo de referência: -135°) -\n",
        "(numeric: real)\n",
        "5. US5: Leitura do sensor ultrassônico (ângulo de referência: -120°) -\n",
        "(numeric: real)\n",
        "6. US6: Leitura do sensor ultrassônico (ângulo de referência: -105°) -\n",
        "(numeric: real)\n",
        "7. US7: Leitura do sensor ultrassônico (ângulo de referência: -90°) - (numeric:\n",
        "real)\n",
        "8. US8: Leitura do sensor ultrassônico (ângulo de referência: -75°) - (numeric:\n",
        "real)\n",
        "9. US9: Leitura do sensor ultrassônico (ângulo de referência: -60°) - (numeric:\n",
        "real)\n",
        "10. US10: Leitura do sensor ultrassônico (ângulo de referência: -45°) -\n",
        "(numeric: real)\n",
        "11. US11: Leitura do sensor ultrassônico (ângulo de referência: -30°) -\n",
        "(numeric: real)\n",
        "12. US12: Leitura do sensor ultrassônico (ângulo de referência: -15°) -\n",
        "(numeric: real)\n",
        "13. US13: Sensor ultrassônico na parte traseira do robô t (ângulo de\n",
        "referência: 0°) - (numeric: real)\n",
        "14. US14: Leitura do sensor ultrassônico (ângulo de referência: 15°) -\n",
        "(numeric: real)\n",
        "15. US15: Leitura do sensor ultrassônico (ângulo de referência: 30°) -\n",
        "(numeric: real)\n",
        "16. US16: Leitura do sensor ultrassônico (ângulo de referência: 45°) -\n",
        "(numeric: real)\n",
        "17. US17: Leitura do sensor ultrassônico (ângulo de referência: 60°) -\n",
        "(numeric: real)\n",
        "18. US18: Leitura do sensor ultrassônico (ângulo de referência: 75°) -\n",
        "(numeric: real)\n",
        "19. US19: Leitura do sensor ultrassônico (ângulo de referência: 90°) -\n",
        "(numeric: real)\n",
        "20. US20: Leitura do sensor ultrassônico (ângulo de referência: 105°) -\n",
        "(numeric: real)\n",
        "21. US21: Leitura do sensor ultrassônico (ângulo de referência: 120°) -\n",
        "(numeric: real)\n",
        "22. US22: Leitura do sensor ultrassônico (ângulo de referência: 135°) -\n",
        "(numeric: real)\n",
        "23. US23: Leitura do sensor ultrassônico (ângulo de referência: 150°) -\n",
        "(numeric: real)\n",
        "24. US24: Leitura do sensor ultrassônico (ângulo de referência: 165°) -\n",
        "(numeric: real)\n",
        "25. Classes (target):\n",
        "-- Move-Forward - Mover para frente\n",
        "-- Slight-Right-Turn - Curva leve à direita\n",
        "-- Sharp-Right-Turn - Curva acentuada à direita\n",
        "-- Slight-Left-Turn - Curva leve à direita\n",
        "Sua equipe deve criar um modelo que possa estimar as classes de\n",
        "movimentos dos robôs (Move-Foward, Slight-Right-Turn, Sharp-Right-Turn e Slight-Left-Turn) para verificar se podemos usar uma IA para resolver o mesmo\n",
        "problema do carro autônomo."
      ],
      "metadata": {
        "id": "UAKeFEsWnGVK"
      }
    },
    {
      "cell_type": "markdown",
      "source": [
        "# 1) Tratamento e análise exploratória"
      ],
      "metadata": {
        "id": "PeKqN6jqLzCW"
      }
    },
    {
      "cell_type": "code",
      "execution_count": null,
      "metadata": {
        "id": "4Hw0cfhHu8ES"
      },
      "outputs": [],
      "source": [
        "import pandas as pd\n",
        "import numpy as np"
      ]
    },
    {
      "cell_type": "code",
      "source": [
        "# abrindo o dataframe\n",
        "df_sensor = pd.read_csv('/content/sensor_readings_24.csv', encoding='UTF-8', sep=',')\n",
        "df_sensor.head(54809)"
      ],
      "metadata": {
        "id": "xrf7h_z4pcwk",
        "colab": {
          "base_uri": "https://localhost:8080/",
          "height": 661
        },
        "outputId": "715dc33e-b340-4202-c275-e35e7a97fcaa"
      },
      "execution_count": null,
      "outputs": [
        {
          "output_type": "execute_result",
          "data": {
            "text/plain": [
              "      sensor_1  sensor_2  sensor_3  sensor_4  sensor_5  sensor_6  sensor_7  \\\n",
              "0        0.438     0.498     3.625     3.645     5.000     2.918     5.000   \n",
              "1        0.438     0.498     3.625     3.648     5.000     2.918     5.000   \n",
              "2        0.438     0.498     3.625     3.629     5.000     2.918     5.000   \n",
              "3        0.437     0.501     3.625     3.626     5.000     2.918     5.000   \n",
              "4        0.438     0.498     3.626     3.629     5.000     2.918     5.000   \n",
              "...        ...       ...       ...       ...       ...       ...       ...   \n",
              "5451     0.910     5.000     3.997     2.785     2.770     2.572     2.433   \n",
              "5452     0.926     5.000     4.015     2.792     2.777     2.571     1.768   \n",
              "5453     0.937     5.000     4.034     2.799     2.784     2.571     1.754   \n",
              "5454     0.945     4.052     4.052     2.809     2.791     2.441     1.757   \n",
              "5455     0.950     4.066     5.000     2.819     2.798     2.570     2.422   \n",
              "\n",
              "      sensor_8  sensor_9  sensor_10  ...  sensor_16  sensor_17  sensor_18  \\\n",
              "0        2.351     2.332      2.643  ...      0.593      0.502      0.493   \n",
              "1        2.637     2.332      2.649  ...      0.592      0.502      0.493   \n",
              "2        2.637     2.334      2.643  ...      0.593      0.502      0.493   \n",
              "3        2.353     2.334      2.642  ...      0.593      0.502      0.493   \n",
              "4        2.640     2.334      2.639  ...      0.592      0.502      0.493   \n",
              "...        ...       ...        ...  ...        ...        ...        ...   \n",
              "5451     1.087     1.772      1.040  ...      0.660      0.648      0.657   \n",
              "5452     1.071     1.762      1.021  ...      0.652      0.640      0.649   \n",
              "5453     1.053     1.752      1.002  ...      0.648      0.633      0.642   \n",
              "5454     1.034     1.743      0.983  ...      0.641      0.626      0.635   \n",
              "5455     1.016     1.739      0.964  ...      0.635      0.618      0.628   \n",
              "\n",
              "      sensor_19  sensor_20  sensor_21  sensor_22  sensor_23  sensor_24  \\\n",
              "0         0.504      0.445      0.431      0.444      0.440      0.429   \n",
              "1         0.504      0.449      0.431      0.444      0.443      0.429   \n",
              "2         0.504      0.449      0.431      0.444      0.446      0.429   \n",
              "3         0.504      0.449      0.431      0.444      0.444      0.429   \n",
              "4         0.504      0.449      0.431      0.444      0.441      0.429   \n",
              "...         ...        ...        ...        ...        ...        ...   \n",
              "5451      0.686      5.000      1.045      5.000      5.000      1.562   \n",
              "5452      1.593      1.616      1.058      5.000      5.000      1.085   \n",
              "5453      0.741      5.000      1.065      5.000      5.000      1.105   \n",
              "5454      0.754      5.000      1.076      5.000      5.000      1.118   \n",
              "5455      0.776      5.000      1.083      5.000      5.000      1.168   \n",
              "\n",
              "            funcao_robo  \n",
              "0     Slight-Right-Turn  \n",
              "1     Slight-Right-Turn  \n",
              "2     Slight-Right-Turn  \n",
              "3     Slight-Right-Turn  \n",
              "4     Slight-Right-Turn  \n",
              "...                 ...  \n",
              "5451       Move-Forward  \n",
              "5452   Sharp-Right-Turn  \n",
              "5453   Sharp-Right-Turn  \n",
              "5454       Move-Forward  \n",
              "5455   Sharp-Right-Turn  \n",
              "\n",
              "[5456 rows x 25 columns]"
            ],
            "text/html": [
              "\n",
              "  <div id=\"df-0afd1d21-8424-462d-a483-0d27740947f2\">\n",
              "    <div class=\"colab-df-container\">\n",
              "      <div>\n",
              "<style scoped>\n",
              "    .dataframe tbody tr th:only-of-type {\n",
              "        vertical-align: middle;\n",
              "    }\n",
              "\n",
              "    .dataframe tbody tr th {\n",
              "        vertical-align: top;\n",
              "    }\n",
              "\n",
              "    .dataframe thead th {\n",
              "        text-align: right;\n",
              "    }\n",
              "</style>\n",
              "<table border=\"1\" class=\"dataframe\">\n",
              "  <thead>\n",
              "    <tr style=\"text-align: right;\">\n",
              "      <th></th>\n",
              "      <th>sensor_1</th>\n",
              "      <th>sensor_2</th>\n",
              "      <th>sensor_3</th>\n",
              "      <th>sensor_4</th>\n",
              "      <th>sensor_5</th>\n",
              "      <th>sensor_6</th>\n",
              "      <th>sensor_7</th>\n",
              "      <th>sensor_8</th>\n",
              "      <th>sensor_9</th>\n",
              "      <th>sensor_10</th>\n",
              "      <th>...</th>\n",
              "      <th>sensor_16</th>\n",
              "      <th>sensor_17</th>\n",
              "      <th>sensor_18</th>\n",
              "      <th>sensor_19</th>\n",
              "      <th>sensor_20</th>\n",
              "      <th>sensor_21</th>\n",
              "      <th>sensor_22</th>\n",
              "      <th>sensor_23</th>\n",
              "      <th>sensor_24</th>\n",
              "      <th>funcao_robo</th>\n",
              "    </tr>\n",
              "  </thead>\n",
              "  <tbody>\n",
              "    <tr>\n",
              "      <th>0</th>\n",
              "      <td>0.438</td>\n",
              "      <td>0.498</td>\n",
              "      <td>3.625</td>\n",
              "      <td>3.645</td>\n",
              "      <td>5.000</td>\n",
              "      <td>2.918</td>\n",
              "      <td>5.000</td>\n",
              "      <td>2.351</td>\n",
              "      <td>2.332</td>\n",
              "      <td>2.643</td>\n",
              "      <td>...</td>\n",
              "      <td>0.593</td>\n",
              "      <td>0.502</td>\n",
              "      <td>0.493</td>\n",
              "      <td>0.504</td>\n",
              "      <td>0.445</td>\n",
              "      <td>0.431</td>\n",
              "      <td>0.444</td>\n",
              "      <td>0.440</td>\n",
              "      <td>0.429</td>\n",
              "      <td>Slight-Right-Turn</td>\n",
              "    </tr>\n",
              "    <tr>\n",
              "      <th>1</th>\n",
              "      <td>0.438</td>\n",
              "      <td>0.498</td>\n",
              "      <td>3.625</td>\n",
              "      <td>3.648</td>\n",
              "      <td>5.000</td>\n",
              "      <td>2.918</td>\n",
              "      <td>5.000</td>\n",
              "      <td>2.637</td>\n",
              "      <td>2.332</td>\n",
              "      <td>2.649</td>\n",
              "      <td>...</td>\n",
              "      <td>0.592</td>\n",
              "      <td>0.502</td>\n",
              "      <td>0.493</td>\n",
              "      <td>0.504</td>\n",
              "      <td>0.449</td>\n",
              "      <td>0.431</td>\n",
              "      <td>0.444</td>\n",
              "      <td>0.443</td>\n",
              "      <td>0.429</td>\n",
              "      <td>Slight-Right-Turn</td>\n",
              "    </tr>\n",
              "    <tr>\n",
              "      <th>2</th>\n",
              "      <td>0.438</td>\n",
              "      <td>0.498</td>\n",
              "      <td>3.625</td>\n",
              "      <td>3.629</td>\n",
              "      <td>5.000</td>\n",
              "      <td>2.918</td>\n",
              "      <td>5.000</td>\n",
              "      <td>2.637</td>\n",
              "      <td>2.334</td>\n",
              "      <td>2.643</td>\n",
              "      <td>...</td>\n",
              "      <td>0.593</td>\n",
              "      <td>0.502</td>\n",
              "      <td>0.493</td>\n",
              "      <td>0.504</td>\n",
              "      <td>0.449</td>\n",
              "      <td>0.431</td>\n",
              "      <td>0.444</td>\n",
              "      <td>0.446</td>\n",
              "      <td>0.429</td>\n",
              "      <td>Slight-Right-Turn</td>\n",
              "    </tr>\n",
              "    <tr>\n",
              "      <th>3</th>\n",
              "      <td>0.437</td>\n",
              "      <td>0.501</td>\n",
              "      <td>3.625</td>\n",
              "      <td>3.626</td>\n",
              "      <td>5.000</td>\n",
              "      <td>2.918</td>\n",
              "      <td>5.000</td>\n",
              "      <td>2.353</td>\n",
              "      <td>2.334</td>\n",
              "      <td>2.642</td>\n",
              "      <td>...</td>\n",
              "      <td>0.593</td>\n",
              "      <td>0.502</td>\n",
              "      <td>0.493</td>\n",
              "      <td>0.504</td>\n",
              "      <td>0.449</td>\n",
              "      <td>0.431</td>\n",
              "      <td>0.444</td>\n",
              "      <td>0.444</td>\n",
              "      <td>0.429</td>\n",
              "      <td>Slight-Right-Turn</td>\n",
              "    </tr>\n",
              "    <tr>\n",
              "      <th>4</th>\n",
              "      <td>0.438</td>\n",
              "      <td>0.498</td>\n",
              "      <td>3.626</td>\n",
              "      <td>3.629</td>\n",
              "      <td>5.000</td>\n",
              "      <td>2.918</td>\n",
              "      <td>5.000</td>\n",
              "      <td>2.640</td>\n",
              "      <td>2.334</td>\n",
              "      <td>2.639</td>\n",
              "      <td>...</td>\n",
              "      <td>0.592</td>\n",
              "      <td>0.502</td>\n",
              "      <td>0.493</td>\n",
              "      <td>0.504</td>\n",
              "      <td>0.449</td>\n",
              "      <td>0.431</td>\n",
              "      <td>0.444</td>\n",
              "      <td>0.441</td>\n",
              "      <td>0.429</td>\n",
              "      <td>Slight-Right-Turn</td>\n",
              "    </tr>\n",
              "    <tr>\n",
              "      <th>...</th>\n",
              "      <td>...</td>\n",
              "      <td>...</td>\n",
              "      <td>...</td>\n",
              "      <td>...</td>\n",
              "      <td>...</td>\n",
              "      <td>...</td>\n",
              "      <td>...</td>\n",
              "      <td>...</td>\n",
              "      <td>...</td>\n",
              "      <td>...</td>\n",
              "      <td>...</td>\n",
              "      <td>...</td>\n",
              "      <td>...</td>\n",
              "      <td>...</td>\n",
              "      <td>...</td>\n",
              "      <td>...</td>\n",
              "      <td>...</td>\n",
              "      <td>...</td>\n",
              "      <td>...</td>\n",
              "      <td>...</td>\n",
              "      <td>...</td>\n",
              "    </tr>\n",
              "    <tr>\n",
              "      <th>5451</th>\n",
              "      <td>0.910</td>\n",
              "      <td>5.000</td>\n",
              "      <td>3.997</td>\n",
              "      <td>2.785</td>\n",
              "      <td>2.770</td>\n",
              "      <td>2.572</td>\n",
              "      <td>2.433</td>\n",
              "      <td>1.087</td>\n",
              "      <td>1.772</td>\n",
              "      <td>1.040</td>\n",
              "      <td>...</td>\n",
              "      <td>0.660</td>\n",
              "      <td>0.648</td>\n",
              "      <td>0.657</td>\n",
              "      <td>0.686</td>\n",
              "      <td>5.000</td>\n",
              "      <td>1.045</td>\n",
              "      <td>5.000</td>\n",
              "      <td>5.000</td>\n",
              "      <td>1.562</td>\n",
              "      <td>Move-Forward</td>\n",
              "    </tr>\n",
              "    <tr>\n",
              "      <th>5452</th>\n",
              "      <td>0.926</td>\n",
              "      <td>5.000</td>\n",
              "      <td>4.015</td>\n",
              "      <td>2.792</td>\n",
              "      <td>2.777</td>\n",
              "      <td>2.571</td>\n",
              "      <td>1.768</td>\n",
              "      <td>1.071</td>\n",
              "      <td>1.762</td>\n",
              "      <td>1.021</td>\n",
              "      <td>...</td>\n",
              "      <td>0.652</td>\n",
              "      <td>0.640</td>\n",
              "      <td>0.649</td>\n",
              "      <td>1.593</td>\n",
              "      <td>1.616</td>\n",
              "      <td>1.058</td>\n",
              "      <td>5.000</td>\n",
              "      <td>5.000</td>\n",
              "      <td>1.085</td>\n",
              "      <td>Sharp-Right-Turn</td>\n",
              "    </tr>\n",
              "    <tr>\n",
              "      <th>5453</th>\n",
              "      <td>0.937</td>\n",
              "      <td>5.000</td>\n",
              "      <td>4.034</td>\n",
              "      <td>2.799</td>\n",
              "      <td>2.784</td>\n",
              "      <td>2.571</td>\n",
              "      <td>1.754</td>\n",
              "      <td>1.053</td>\n",
              "      <td>1.752</td>\n",
              "      <td>1.002</td>\n",
              "      <td>...</td>\n",
              "      <td>0.648</td>\n",
              "      <td>0.633</td>\n",
              "      <td>0.642</td>\n",
              "      <td>0.741</td>\n",
              "      <td>5.000</td>\n",
              "      <td>1.065</td>\n",
              "      <td>5.000</td>\n",
              "      <td>5.000</td>\n",
              "      <td>1.105</td>\n",
              "      <td>Sharp-Right-Turn</td>\n",
              "    </tr>\n",
              "    <tr>\n",
              "      <th>5454</th>\n",
              "      <td>0.945</td>\n",
              "      <td>4.052</td>\n",
              "      <td>4.052</td>\n",
              "      <td>2.809</td>\n",
              "      <td>2.791</td>\n",
              "      <td>2.441</td>\n",
              "      <td>1.757</td>\n",
              "      <td>1.034</td>\n",
              "      <td>1.743</td>\n",
              "      <td>0.983</td>\n",
              "      <td>...</td>\n",
              "      <td>0.641</td>\n",
              "      <td>0.626</td>\n",
              "      <td>0.635</td>\n",
              "      <td>0.754</td>\n",
              "      <td>5.000</td>\n",
              "      <td>1.076</td>\n",
              "      <td>5.000</td>\n",
              "      <td>5.000</td>\n",
              "      <td>1.118</td>\n",
              "      <td>Move-Forward</td>\n",
              "    </tr>\n",
              "    <tr>\n",
              "      <th>5455</th>\n",
              "      <td>0.950</td>\n",
              "      <td>4.066</td>\n",
              "      <td>5.000</td>\n",
              "      <td>2.819</td>\n",
              "      <td>2.798</td>\n",
              "      <td>2.570</td>\n",
              "      <td>2.422</td>\n",
              "      <td>1.016</td>\n",
              "      <td>1.739</td>\n",
              "      <td>0.964</td>\n",
              "      <td>...</td>\n",
              "      <td>0.635</td>\n",
              "      <td>0.618</td>\n",
              "      <td>0.628</td>\n",
              "      <td>0.776</td>\n",
              "      <td>5.000</td>\n",
              "      <td>1.083</td>\n",
              "      <td>5.000</td>\n",
              "      <td>5.000</td>\n",
              "      <td>1.168</td>\n",
              "      <td>Sharp-Right-Turn</td>\n",
              "    </tr>\n",
              "  </tbody>\n",
              "</table>\n",
              "<p>5456 rows × 25 columns</p>\n",
              "</div>\n",
              "      <button class=\"colab-df-convert\" onclick=\"convertToInteractive('df-0afd1d21-8424-462d-a483-0d27740947f2')\"\n",
              "              title=\"Convert this dataframe to an interactive table.\"\n",
              "              style=\"display:none;\">\n",
              "        \n",
              "  <svg xmlns=\"http://www.w3.org/2000/svg\" height=\"24px\"viewBox=\"0 0 24 24\"\n",
              "       width=\"24px\">\n",
              "    <path d=\"M0 0h24v24H0V0z\" fill=\"none\"/>\n",
              "    <path d=\"M18.56 5.44l.94 2.06.94-2.06 2.06-.94-2.06-.94-.94-2.06-.94 2.06-2.06.94zm-11 1L8.5 8.5l.94-2.06 2.06-.94-2.06-.94L8.5 2.5l-.94 2.06-2.06.94zm10 10l.94 2.06.94-2.06 2.06-.94-2.06-.94-.94-2.06-.94 2.06-2.06.94z\"/><path d=\"M17.41 7.96l-1.37-1.37c-.4-.4-.92-.59-1.43-.59-.52 0-1.04.2-1.43.59L10.3 9.45l-7.72 7.72c-.78.78-.78 2.05 0 2.83L4 21.41c.39.39.9.59 1.41.59.51 0 1.02-.2 1.41-.59l7.78-7.78 2.81-2.81c.8-.78.8-2.07 0-2.86zM5.41 20L4 18.59l7.72-7.72 1.47 1.35L5.41 20z\"/>\n",
              "  </svg>\n",
              "      </button>\n",
              "      \n",
              "  <style>\n",
              "    .colab-df-container {\n",
              "      display:flex;\n",
              "      flex-wrap:wrap;\n",
              "      gap: 12px;\n",
              "    }\n",
              "\n",
              "    .colab-df-convert {\n",
              "      background-color: #E8F0FE;\n",
              "      border: none;\n",
              "      border-radius: 50%;\n",
              "      cursor: pointer;\n",
              "      display: none;\n",
              "      fill: #1967D2;\n",
              "      height: 32px;\n",
              "      padding: 0 0 0 0;\n",
              "      width: 32px;\n",
              "    }\n",
              "\n",
              "    .colab-df-convert:hover {\n",
              "      background-color: #E2EBFA;\n",
              "      box-shadow: 0px 1px 2px rgba(60, 64, 67, 0.3), 0px 1px 3px 1px rgba(60, 64, 67, 0.15);\n",
              "      fill: #174EA6;\n",
              "    }\n",
              "\n",
              "    [theme=dark] .colab-df-convert {\n",
              "      background-color: #3B4455;\n",
              "      fill: #D2E3FC;\n",
              "    }\n",
              "\n",
              "    [theme=dark] .colab-df-convert:hover {\n",
              "      background-color: #434B5C;\n",
              "      box-shadow: 0px 1px 3px 1px rgba(0, 0, 0, 0.15);\n",
              "      filter: drop-shadow(0px 1px 2px rgba(0, 0, 0, 0.3));\n",
              "      fill: #FFFFFF;\n",
              "    }\n",
              "  </style>\n",
              "\n",
              "      <script>\n",
              "        const buttonEl =\n",
              "          document.querySelector('#df-0afd1d21-8424-462d-a483-0d27740947f2 button.colab-df-convert');\n",
              "        buttonEl.style.display =\n",
              "          google.colab.kernel.accessAllowed ? 'block' : 'none';\n",
              "\n",
              "        async function convertToInteractive(key) {\n",
              "          const element = document.querySelector('#df-0afd1d21-8424-462d-a483-0d27740947f2');\n",
              "          const dataTable =\n",
              "            await google.colab.kernel.invokeFunction('convertToInteractive',\n",
              "                                                     [key], {});\n",
              "          if (!dataTable) return;\n",
              "\n",
              "          const docLinkHtml = 'Like what you see? Visit the ' +\n",
              "            '<a target=\"_blank\" href=https://colab.research.google.com/notebooks/data_table.ipynb>data table notebook</a>'\n",
              "            + ' to learn more about interactive tables.';\n",
              "          element.innerHTML = '';\n",
              "          dataTable['output_type'] = 'display_data';\n",
              "          await google.colab.output.renderOutput(dataTable, element);\n",
              "          const docLink = document.createElement('div');\n",
              "          docLink.innerHTML = docLinkHtml;\n",
              "          element.appendChild(docLink);\n",
              "        }\n",
              "      </script>\n",
              "    </div>\n",
              "  </div>\n",
              "  "
            ]
          },
          "metadata": {},
          "execution_count": 58
        }
      ]
    },
    {
      "cell_type": "markdown",
      "source": [
        "Antes de tudo, vamos analisar o dataframe acima e ver se realmente os registros possuem algum tipo de outlier."
      ],
      "metadata": {
        "id": "fUuV3TlB8F4J"
      }
    },
    {
      "cell_type": "markdown",
      "source": [
        "Pode-se perceber que os valores dos sensores aumentam e diminuem gradativamente, variando numa escala de 0 a 5. O tratamento de outliers vai acontecer na hora da padronização dos dados."
      ],
      "metadata": {
        "id": "1VrTe2zx9PUj"
      }
    },
    {
      "cell_type": "code",
      "source": [
        "# comando para conferir se tem valores faltantes\n",
        "df_sensor.isnull().sum()"
      ],
      "metadata": {
        "id": "KJPba5PjpcuE",
        "colab": {
          "base_uri": "https://localhost:8080/"
        },
        "outputId": "78ddea14-3873-4889-cac6-224f7652de90"
      },
      "execution_count": null,
      "outputs": [
        {
          "output_type": "execute_result",
          "data": {
            "text/plain": [
              "sensor_1       14\n",
              "sensor_2       14\n",
              "sensor_3       14\n",
              "sensor_4       14\n",
              "sensor_5       14\n",
              "sensor_6       14\n",
              "sensor_7       14\n",
              "sensor_8       14\n",
              "sensor_9       14\n",
              "sensor_10      14\n",
              "sensor_11      14\n",
              "sensor_12      14\n",
              "sensor_13      14\n",
              "sensor_14      14\n",
              "sensor_15      14\n",
              "sensor_16      14\n",
              "sensor_17      14\n",
              "sensor_18      14\n",
              "sensor_19      14\n",
              "sensor_20      14\n",
              "sensor_21      14\n",
              "sensor_22      14\n",
              "sensor_23      14\n",
              "sensor_24      14\n",
              "funcao_robo    14\n",
              "dtype: int64"
            ]
          },
          "metadata": {},
          "execution_count": 59
        }
      ]
    },
    {
      "cell_type": "markdown",
      "source": [
        "Vamos tentar olhar mais de perto se tem algum padrão nos dados NaN"
      ],
      "metadata": {
        "id": "-AFwtGJ172Dp"
      }
    },
    {
      "cell_type": "code",
      "source": [
        "# comando para ver somente as linhas e colunas com algum dado faltante\n",
        "df_sensor_nan = df_sensor[df_sensor.isnull().any(axis=1)]\n",
        "df_sensor_nan"
      ],
      "metadata": {
        "id": "M7aRRD8r1-mv",
        "colab": {
          "base_uri": "https://localhost:8080/",
          "height": 644
        },
        "outputId": "a1429088-2080-409e-8982-4ec618262690"
      },
      "execution_count": null,
      "outputs": [
        {
          "output_type": "execute_result",
          "data": {
            "text/plain": [
              "      sensor_1  sensor_2  sensor_3  sensor_4  sensor_5  sensor_6  sensor_7  \\\n",
              "27       0.481     0.511     5.023     3.665     2.954     2.937     2.941   \n",
              "30       0.482     0.525     0.524     3.665     2.953     2.940     2.940   \n",
              "94       1.213     1.246     1.271     4.666     4.075     5.000     2.776   \n",
              "95       1.227     1.263       NaN     4.668     4.098     5.000     2.769   \n",
              "107      1.249     1.269     1.318     1.335     4.896     4.763     5.000   \n",
              "...        ...       ...       ...       ...       ...       ...       ...   \n",
              "5381     2.227     1.817     1.803     1.501     1.274     1.266       NaN   \n",
              "5399     2.617     2.608     2.252     1.853     1.839     1.547     1.315   \n",
              "5423     4.847     3.620     5.000     2.646     2.642       NaN     1.917   \n",
              "5436     4.454     3.705     3.741     2.683     2.673     2.717     2.497   \n",
              "5443     4.540     5.000       NaN     2.731     2.720     2.689     2.463   \n",
              "\n",
              "      sensor_8  sensor_9  sensor_10  ...  sensor_16  sensor_17  sensor_18  \\\n",
              "27       2.627     1.707      2.312  ...      0.687      0.545      0.475   \n",
              "30       2.630     1.709      2.311  ...      0.563      0.542      0.475   \n",
              "94       2.750     2.499      1.650  ...      0.893      1.165      0.828   \n",
              "95       2.743     2.487      1.634  ...      0.876      0.906      0.823   \n",
              "107      2.733     2.467      2.453  ...      0.851      1.127      1.127   \n",
              "...        ...       ...        ...  ...        ...        ...        ...   \n",
              "5381     1.323     1.185      0.931  ...      0.982      0.857      0.849   \n",
              "5399     1.303     1.314      1.601  ...      0.857      0.873      0.940   \n",
              "5423     1.891     4.857      1.386  ...      0.793      0.790      0.798   \n",
              "5436     1.341     1.317      1.293  ...      0.760      0.749      0.759   \n",
              "5443     1.232     5.000      1.180  ...      0.714      0.703      0.712   \n",
              "\n",
              "      sensor_19  sensor_20  sensor_21  sensor_22  sensor_23  sensor_24  \\\n",
              "27        0.475      0.504      0.463      0.458      0.470      0.477   \n",
              "30        0.476      0.488      0.464      0.459      0.468      0.478   \n",
              "94        0.661      0.652      0.662      5.000      1.176      1.172   \n",
              "95        0.671      0.658      0.669      0.829      1.197      1.193   \n",
              "107       0.687      0.664      0.696      0.777      5.000      1.239   \n",
              "...         ...        ...        ...        ...        ...        ...   \n",
              "5381      5.000      4.408      3.647      5.000      2.608      2.599   \n",
              "5399      0.820      0.810      0.868      4.403      3.627      5.000   \n",
              "5423      0.884      0.849      0.885      5.000      0.703      5.000   \n",
              "5436      5.000      0.903      5.000      2.799      2.005        NaN   \n",
              "5443      5.000      1.000      1.000      5.000      5.000      0.898   \n",
              "\n",
              "            funcao_robo  \n",
              "27    Slight-Right-Turn  \n",
              "30    Slight-Right-Turn  \n",
              "94     Sharp-Right-Turn  \n",
              "95     Sharp-Right-Turn  \n",
              "107    Sharp-Right-Turn  \n",
              "...                 ...  \n",
              "5381   Sharp-Right-Turn  \n",
              "5399                NaN  \n",
              "5423   Sharp-Right-Turn  \n",
              "5436       Move-Forward  \n",
              "5443       Move-Forward  \n",
              "\n",
              "[341 rows x 25 columns]"
            ],
            "text/html": [
              "\n",
              "  <div id=\"df-b931b14f-bae3-4bcb-9c11-be35c46a39eb\">\n",
              "    <div class=\"colab-df-container\">\n",
              "      <div>\n",
              "<style scoped>\n",
              "    .dataframe tbody tr th:only-of-type {\n",
              "        vertical-align: middle;\n",
              "    }\n",
              "\n",
              "    .dataframe tbody tr th {\n",
              "        vertical-align: top;\n",
              "    }\n",
              "\n",
              "    .dataframe thead th {\n",
              "        text-align: right;\n",
              "    }\n",
              "</style>\n",
              "<table border=\"1\" class=\"dataframe\">\n",
              "  <thead>\n",
              "    <tr style=\"text-align: right;\">\n",
              "      <th></th>\n",
              "      <th>sensor_1</th>\n",
              "      <th>sensor_2</th>\n",
              "      <th>sensor_3</th>\n",
              "      <th>sensor_4</th>\n",
              "      <th>sensor_5</th>\n",
              "      <th>sensor_6</th>\n",
              "      <th>sensor_7</th>\n",
              "      <th>sensor_8</th>\n",
              "      <th>sensor_9</th>\n",
              "      <th>sensor_10</th>\n",
              "      <th>...</th>\n",
              "      <th>sensor_16</th>\n",
              "      <th>sensor_17</th>\n",
              "      <th>sensor_18</th>\n",
              "      <th>sensor_19</th>\n",
              "      <th>sensor_20</th>\n",
              "      <th>sensor_21</th>\n",
              "      <th>sensor_22</th>\n",
              "      <th>sensor_23</th>\n",
              "      <th>sensor_24</th>\n",
              "      <th>funcao_robo</th>\n",
              "    </tr>\n",
              "  </thead>\n",
              "  <tbody>\n",
              "    <tr>\n",
              "      <th>27</th>\n",
              "      <td>0.481</td>\n",
              "      <td>0.511</td>\n",
              "      <td>5.023</td>\n",
              "      <td>3.665</td>\n",
              "      <td>2.954</td>\n",
              "      <td>2.937</td>\n",
              "      <td>2.941</td>\n",
              "      <td>2.627</td>\n",
              "      <td>1.707</td>\n",
              "      <td>2.312</td>\n",
              "      <td>...</td>\n",
              "      <td>0.687</td>\n",
              "      <td>0.545</td>\n",
              "      <td>0.475</td>\n",
              "      <td>0.475</td>\n",
              "      <td>0.504</td>\n",
              "      <td>0.463</td>\n",
              "      <td>0.458</td>\n",
              "      <td>0.470</td>\n",
              "      <td>0.477</td>\n",
              "      <td>Slight-Right-Turn</td>\n",
              "    </tr>\n",
              "    <tr>\n",
              "      <th>30</th>\n",
              "      <td>0.482</td>\n",
              "      <td>0.525</td>\n",
              "      <td>0.524</td>\n",
              "      <td>3.665</td>\n",
              "      <td>2.953</td>\n",
              "      <td>2.940</td>\n",
              "      <td>2.940</td>\n",
              "      <td>2.630</td>\n",
              "      <td>1.709</td>\n",
              "      <td>2.311</td>\n",
              "      <td>...</td>\n",
              "      <td>0.563</td>\n",
              "      <td>0.542</td>\n",
              "      <td>0.475</td>\n",
              "      <td>0.476</td>\n",
              "      <td>0.488</td>\n",
              "      <td>0.464</td>\n",
              "      <td>0.459</td>\n",
              "      <td>0.468</td>\n",
              "      <td>0.478</td>\n",
              "      <td>Slight-Right-Turn</td>\n",
              "    </tr>\n",
              "    <tr>\n",
              "      <th>94</th>\n",
              "      <td>1.213</td>\n",
              "      <td>1.246</td>\n",
              "      <td>1.271</td>\n",
              "      <td>4.666</td>\n",
              "      <td>4.075</td>\n",
              "      <td>5.000</td>\n",
              "      <td>2.776</td>\n",
              "      <td>2.750</td>\n",
              "      <td>2.499</td>\n",
              "      <td>1.650</td>\n",
              "      <td>...</td>\n",
              "      <td>0.893</td>\n",
              "      <td>1.165</td>\n",
              "      <td>0.828</td>\n",
              "      <td>0.661</td>\n",
              "      <td>0.652</td>\n",
              "      <td>0.662</td>\n",
              "      <td>5.000</td>\n",
              "      <td>1.176</td>\n",
              "      <td>1.172</td>\n",
              "      <td>Sharp-Right-Turn</td>\n",
              "    </tr>\n",
              "    <tr>\n",
              "      <th>95</th>\n",
              "      <td>1.227</td>\n",
              "      <td>1.263</td>\n",
              "      <td>NaN</td>\n",
              "      <td>4.668</td>\n",
              "      <td>4.098</td>\n",
              "      <td>5.000</td>\n",
              "      <td>2.769</td>\n",
              "      <td>2.743</td>\n",
              "      <td>2.487</td>\n",
              "      <td>1.634</td>\n",
              "      <td>...</td>\n",
              "      <td>0.876</td>\n",
              "      <td>0.906</td>\n",
              "      <td>0.823</td>\n",
              "      <td>0.671</td>\n",
              "      <td>0.658</td>\n",
              "      <td>0.669</td>\n",
              "      <td>0.829</td>\n",
              "      <td>1.197</td>\n",
              "      <td>1.193</td>\n",
              "      <td>Sharp-Right-Turn</td>\n",
              "    </tr>\n",
              "    <tr>\n",
              "      <th>107</th>\n",
              "      <td>1.249</td>\n",
              "      <td>1.269</td>\n",
              "      <td>1.318</td>\n",
              "      <td>1.335</td>\n",
              "      <td>4.896</td>\n",
              "      <td>4.763</td>\n",
              "      <td>5.000</td>\n",
              "      <td>2.733</td>\n",
              "      <td>2.467</td>\n",
              "      <td>2.453</td>\n",
              "      <td>...</td>\n",
              "      <td>0.851</td>\n",
              "      <td>1.127</td>\n",
              "      <td>1.127</td>\n",
              "      <td>0.687</td>\n",
              "      <td>0.664</td>\n",
              "      <td>0.696</td>\n",
              "      <td>0.777</td>\n",
              "      <td>5.000</td>\n",
              "      <td>1.239</td>\n",
              "      <td>Sharp-Right-Turn</td>\n",
              "    </tr>\n",
              "    <tr>\n",
              "      <th>...</th>\n",
              "      <td>...</td>\n",
              "      <td>...</td>\n",
              "      <td>...</td>\n",
              "      <td>...</td>\n",
              "      <td>...</td>\n",
              "      <td>...</td>\n",
              "      <td>...</td>\n",
              "      <td>...</td>\n",
              "      <td>...</td>\n",
              "      <td>...</td>\n",
              "      <td>...</td>\n",
              "      <td>...</td>\n",
              "      <td>...</td>\n",
              "      <td>...</td>\n",
              "      <td>...</td>\n",
              "      <td>...</td>\n",
              "      <td>...</td>\n",
              "      <td>...</td>\n",
              "      <td>...</td>\n",
              "      <td>...</td>\n",
              "      <td>...</td>\n",
              "    </tr>\n",
              "    <tr>\n",
              "      <th>5381</th>\n",
              "      <td>2.227</td>\n",
              "      <td>1.817</td>\n",
              "      <td>1.803</td>\n",
              "      <td>1.501</td>\n",
              "      <td>1.274</td>\n",
              "      <td>1.266</td>\n",
              "      <td>NaN</td>\n",
              "      <td>1.323</td>\n",
              "      <td>1.185</td>\n",
              "      <td>0.931</td>\n",
              "      <td>...</td>\n",
              "      <td>0.982</td>\n",
              "      <td>0.857</td>\n",
              "      <td>0.849</td>\n",
              "      <td>5.000</td>\n",
              "      <td>4.408</td>\n",
              "      <td>3.647</td>\n",
              "      <td>5.000</td>\n",
              "      <td>2.608</td>\n",
              "      <td>2.599</td>\n",
              "      <td>Sharp-Right-Turn</td>\n",
              "    </tr>\n",
              "    <tr>\n",
              "      <th>5399</th>\n",
              "      <td>2.617</td>\n",
              "      <td>2.608</td>\n",
              "      <td>2.252</td>\n",
              "      <td>1.853</td>\n",
              "      <td>1.839</td>\n",
              "      <td>1.547</td>\n",
              "      <td>1.315</td>\n",
              "      <td>1.303</td>\n",
              "      <td>1.314</td>\n",
              "      <td>1.601</td>\n",
              "      <td>...</td>\n",
              "      <td>0.857</td>\n",
              "      <td>0.873</td>\n",
              "      <td>0.940</td>\n",
              "      <td>0.820</td>\n",
              "      <td>0.810</td>\n",
              "      <td>0.868</td>\n",
              "      <td>4.403</td>\n",
              "      <td>3.627</td>\n",
              "      <td>5.000</td>\n",
              "      <td>NaN</td>\n",
              "    </tr>\n",
              "    <tr>\n",
              "      <th>5423</th>\n",
              "      <td>4.847</td>\n",
              "      <td>3.620</td>\n",
              "      <td>5.000</td>\n",
              "      <td>2.646</td>\n",
              "      <td>2.642</td>\n",
              "      <td>NaN</td>\n",
              "      <td>1.917</td>\n",
              "      <td>1.891</td>\n",
              "      <td>4.857</td>\n",
              "      <td>1.386</td>\n",
              "      <td>...</td>\n",
              "      <td>0.793</td>\n",
              "      <td>0.790</td>\n",
              "      <td>0.798</td>\n",
              "      <td>0.884</td>\n",
              "      <td>0.849</td>\n",
              "      <td>0.885</td>\n",
              "      <td>5.000</td>\n",
              "      <td>0.703</td>\n",
              "      <td>5.000</td>\n",
              "      <td>Sharp-Right-Turn</td>\n",
              "    </tr>\n",
              "    <tr>\n",
              "      <th>5436</th>\n",
              "      <td>4.454</td>\n",
              "      <td>3.705</td>\n",
              "      <td>3.741</td>\n",
              "      <td>2.683</td>\n",
              "      <td>2.673</td>\n",
              "      <td>2.717</td>\n",
              "      <td>2.497</td>\n",
              "      <td>1.341</td>\n",
              "      <td>1.317</td>\n",
              "      <td>1.293</td>\n",
              "      <td>...</td>\n",
              "      <td>0.760</td>\n",
              "      <td>0.749</td>\n",
              "      <td>0.759</td>\n",
              "      <td>5.000</td>\n",
              "      <td>0.903</td>\n",
              "      <td>5.000</td>\n",
              "      <td>2.799</td>\n",
              "      <td>2.005</td>\n",
              "      <td>NaN</td>\n",
              "      <td>Move-Forward</td>\n",
              "    </tr>\n",
              "    <tr>\n",
              "      <th>5443</th>\n",
              "      <td>4.540</td>\n",
              "      <td>5.000</td>\n",
              "      <td>NaN</td>\n",
              "      <td>2.731</td>\n",
              "      <td>2.720</td>\n",
              "      <td>2.689</td>\n",
              "      <td>2.463</td>\n",
              "      <td>1.232</td>\n",
              "      <td>5.000</td>\n",
              "      <td>1.180</td>\n",
              "      <td>...</td>\n",
              "      <td>0.714</td>\n",
              "      <td>0.703</td>\n",
              "      <td>0.712</td>\n",
              "      <td>5.000</td>\n",
              "      <td>1.000</td>\n",
              "      <td>1.000</td>\n",
              "      <td>5.000</td>\n",
              "      <td>5.000</td>\n",
              "      <td>0.898</td>\n",
              "      <td>Move-Forward</td>\n",
              "    </tr>\n",
              "  </tbody>\n",
              "</table>\n",
              "<p>341 rows × 25 columns</p>\n",
              "</div>\n",
              "      <button class=\"colab-df-convert\" onclick=\"convertToInteractive('df-b931b14f-bae3-4bcb-9c11-be35c46a39eb')\"\n",
              "              title=\"Convert this dataframe to an interactive table.\"\n",
              "              style=\"display:none;\">\n",
              "        \n",
              "  <svg xmlns=\"http://www.w3.org/2000/svg\" height=\"24px\"viewBox=\"0 0 24 24\"\n",
              "       width=\"24px\">\n",
              "    <path d=\"M0 0h24v24H0V0z\" fill=\"none\"/>\n",
              "    <path d=\"M18.56 5.44l.94 2.06.94-2.06 2.06-.94-2.06-.94-.94-2.06-.94 2.06-2.06.94zm-11 1L8.5 8.5l.94-2.06 2.06-.94-2.06-.94L8.5 2.5l-.94 2.06-2.06.94zm10 10l.94 2.06.94-2.06 2.06-.94-2.06-.94-.94-2.06-.94 2.06-2.06.94z\"/><path d=\"M17.41 7.96l-1.37-1.37c-.4-.4-.92-.59-1.43-.59-.52 0-1.04.2-1.43.59L10.3 9.45l-7.72 7.72c-.78.78-.78 2.05 0 2.83L4 21.41c.39.39.9.59 1.41.59.51 0 1.02-.2 1.41-.59l7.78-7.78 2.81-2.81c.8-.78.8-2.07 0-2.86zM5.41 20L4 18.59l7.72-7.72 1.47 1.35L5.41 20z\"/>\n",
              "  </svg>\n",
              "      </button>\n",
              "      \n",
              "  <style>\n",
              "    .colab-df-container {\n",
              "      display:flex;\n",
              "      flex-wrap:wrap;\n",
              "      gap: 12px;\n",
              "    }\n",
              "\n",
              "    .colab-df-convert {\n",
              "      background-color: #E8F0FE;\n",
              "      border: none;\n",
              "      border-radius: 50%;\n",
              "      cursor: pointer;\n",
              "      display: none;\n",
              "      fill: #1967D2;\n",
              "      height: 32px;\n",
              "      padding: 0 0 0 0;\n",
              "      width: 32px;\n",
              "    }\n",
              "\n",
              "    .colab-df-convert:hover {\n",
              "      background-color: #E2EBFA;\n",
              "      box-shadow: 0px 1px 2px rgba(60, 64, 67, 0.3), 0px 1px 3px 1px rgba(60, 64, 67, 0.15);\n",
              "      fill: #174EA6;\n",
              "    }\n",
              "\n",
              "    [theme=dark] .colab-df-convert {\n",
              "      background-color: #3B4455;\n",
              "      fill: #D2E3FC;\n",
              "    }\n",
              "\n",
              "    [theme=dark] .colab-df-convert:hover {\n",
              "      background-color: #434B5C;\n",
              "      box-shadow: 0px 1px 3px 1px rgba(0, 0, 0, 0.15);\n",
              "      filter: drop-shadow(0px 1px 2px rgba(0, 0, 0, 0.3));\n",
              "      fill: #FFFFFF;\n",
              "    }\n",
              "  </style>\n",
              "\n",
              "      <script>\n",
              "        const buttonEl =\n",
              "          document.querySelector('#df-b931b14f-bae3-4bcb-9c11-be35c46a39eb button.colab-df-convert');\n",
              "        buttonEl.style.display =\n",
              "          google.colab.kernel.accessAllowed ? 'block' : 'none';\n",
              "\n",
              "        async function convertToInteractive(key) {\n",
              "          const element = document.querySelector('#df-b931b14f-bae3-4bcb-9c11-be35c46a39eb');\n",
              "          const dataTable =\n",
              "            await google.colab.kernel.invokeFunction('convertToInteractive',\n",
              "                                                     [key], {});\n",
              "          if (!dataTable) return;\n",
              "\n",
              "          const docLinkHtml = 'Like what you see? Visit the ' +\n",
              "            '<a target=\"_blank\" href=https://colab.research.google.com/notebooks/data_table.ipynb>data table notebook</a>'\n",
              "            + ' to learn more about interactive tables.';\n",
              "          element.innerHTML = '';\n",
              "          dataTable['output_type'] = 'display_data';\n",
              "          await google.colab.output.renderOutput(dataTable, element);\n",
              "          const docLink = document.createElement('div');\n",
              "          docLink.innerHTML = docLinkHtml;\n",
              "          element.appendChild(docLink);\n",
              "        }\n",
              "      </script>\n",
              "    </div>\n",
              "  </div>\n",
              "  "
            ]
          },
          "metadata": {},
          "execution_count": 60
        }
      ]
    },
    {
      "cell_type": "markdown",
      "source": [
        "Se repararmos, vemos que, conforme vai descendo as linhas, os números dos sensores aumentam ou diminuem gradualmente. Sendo assim, eliminar os valores faltantes não afetará muito os resultados finais"
      ],
      "metadata": {
        "id": "AADZTjvH7Z5N"
      }
    },
    {
      "cell_type": "code",
      "source": [
        "df_sensor_nan.shape"
      ],
      "metadata": {
        "id": "KWsJdbCL52yf",
        "colab": {
          "base_uri": "https://localhost:8080/"
        },
        "outputId": "d22589eb-49c4-443d-e573-832b98437329"
      },
      "execution_count": null,
      "outputs": [
        {
          "output_type": "execute_result",
          "data": {
            "text/plain": [
              "(341, 25)"
            ]
          },
          "metadata": {},
          "execution_count": 61
        }
      ]
    },
    {
      "cell_type": "markdown",
      "source": [
        "De um total de 5400 linhas, eliminar 341 não vai afetar muito os resultados finais (visto que mesmo perdendo uma linha inteira de dados, ainda temos uma linha antes e depois da eliminada para a máquina não se perder nos valores)."
      ],
      "metadata": {
        "id": "HwVAyxO_8QBw"
      }
    },
    {
      "cell_type": "code",
      "source": [
        "df_sensor_v1 = df_sensor.dropna()"
      ],
      "metadata": {
        "id": "D1-P06Uv21Jm"
      },
      "execution_count": null,
      "outputs": []
    },
    {
      "cell_type": "code",
      "source": [
        "# conferir se há algum dado faltante\n",
        "df_sensor_v1.isna().sum()"
      ],
      "metadata": {
        "id": "EXkfaokI3aQ0",
        "colab": {
          "base_uri": "https://localhost:8080/"
        },
        "outputId": "56cc54be-f0c1-4979-88f6-daa4ac81bca0"
      },
      "execution_count": null,
      "outputs": [
        {
          "output_type": "execute_result",
          "data": {
            "text/plain": [
              "sensor_1       0\n",
              "sensor_2       0\n",
              "sensor_3       0\n",
              "sensor_4       0\n",
              "sensor_5       0\n",
              "sensor_6       0\n",
              "sensor_7       0\n",
              "sensor_8       0\n",
              "sensor_9       0\n",
              "sensor_10      0\n",
              "sensor_11      0\n",
              "sensor_12      0\n",
              "sensor_13      0\n",
              "sensor_14      0\n",
              "sensor_15      0\n",
              "sensor_16      0\n",
              "sensor_17      0\n",
              "sensor_18      0\n",
              "sensor_19      0\n",
              "sensor_20      0\n",
              "sensor_21      0\n",
              "sensor_22      0\n",
              "sensor_23      0\n",
              "sensor_24      0\n",
              "funcao_robo    0\n",
              "dtype: int64"
            ]
          },
          "metadata": {},
          "execution_count": 63
        }
      ]
    },
    {
      "cell_type": "markdown",
      "source": [
        "# 2) Aprendizado de máquina usando regressão"
      ],
      "metadata": {
        "id": "Q5tY2Mx4ABS7"
      }
    },
    {
      "cell_type": "markdown",
      "source": [
        "O correto seria recorrer logo de começo no de classificação, mas vamos ver qual vai ser a precisão usando o de regressão?"
      ],
      "metadata": {
        "id": "05wsqVYLArV9"
      }
    },
    {
      "cell_type": "code",
      "source": [
        "df_sensor_v2 = df_sensor_v1"
      ],
      "metadata": {
        "id": "sAUnwm99JGF_"
      },
      "execution_count": null,
      "outputs": []
    },
    {
      "cell_type": "markdown",
      "source": [
        "Nessa parte, houve uma tentativa de usar o OneHotEncoding para separar entre colunas os tipos de funcao_robo. Porém, o resultado disso aparentou acrescentar alguns dados faltantes e, assim sendo, foi preferido fazer o LabelEncoding, mas o fiz de uma maneira mais manual. "
      ],
      "metadata": {
        "id": "iEy8iZyNKIL2"
      }
    },
    {
      "cell_type": "code",
      "source": [
        "df_sensor_v2['funcao_robo'] = df_sensor_v2['funcao_robo'].replace(['Slight-Right-Turn'], 0)\n",
        "df_sensor_v2['funcao_robo'] = df_sensor_v2['funcao_robo'].replace(['Move-Forward'], 1)\n",
        "df_sensor_v2['funcao_robo'] = df_sensor_v2['funcao_robo'].replace(['Sharp-Right-Turn'], 2)\n",
        "df_sensor_v2['funcao_robo'] = df_sensor_v2['funcao_robo'].replace(['Slight-Left-Turn'], 3)"
      ],
      "metadata": {
        "id": "0keNq4fMGx9Y",
        "colab": {
          "base_uri": "https://localhost:8080/"
        },
        "outputId": "47f6225b-3378-48b1-b4bf-ec8b5b6e25b2"
      },
      "execution_count": null,
      "outputs": [
        {
          "output_type": "stream",
          "name": "stderr",
          "text": [
            "/usr/local/lib/python3.7/dist-packages/ipykernel_launcher.py:1: SettingWithCopyWarning: \n",
            "A value is trying to be set on a copy of a slice from a DataFrame.\n",
            "Try using .loc[row_indexer,col_indexer] = value instead\n",
            "\n",
            "See the caveats in the documentation: https://pandas.pydata.org/pandas-docs/stable/user_guide/indexing.html#returning-a-view-versus-a-copy\n",
            "  \"\"\"Entry point for launching an IPython kernel.\n",
            "/usr/local/lib/python3.7/dist-packages/ipykernel_launcher.py:2: SettingWithCopyWarning: \n",
            "A value is trying to be set on a copy of a slice from a DataFrame.\n",
            "Try using .loc[row_indexer,col_indexer] = value instead\n",
            "\n",
            "See the caveats in the documentation: https://pandas.pydata.org/pandas-docs/stable/user_guide/indexing.html#returning-a-view-versus-a-copy\n",
            "  \n",
            "/usr/local/lib/python3.7/dist-packages/ipykernel_launcher.py:3: SettingWithCopyWarning: \n",
            "A value is trying to be set on a copy of a slice from a DataFrame.\n",
            "Try using .loc[row_indexer,col_indexer] = value instead\n",
            "\n",
            "See the caveats in the documentation: https://pandas.pydata.org/pandas-docs/stable/user_guide/indexing.html#returning-a-view-versus-a-copy\n",
            "  This is separate from the ipykernel package so we can avoid doing imports until\n",
            "/usr/local/lib/python3.7/dist-packages/ipykernel_launcher.py:4: SettingWithCopyWarning: \n",
            "A value is trying to be set on a copy of a slice from a DataFrame.\n",
            "Try using .loc[row_indexer,col_indexer] = value instead\n",
            "\n",
            "See the caveats in the documentation: https://pandas.pydata.org/pandas-docs/stable/user_guide/indexing.html#returning-a-view-versus-a-copy\n",
            "  after removing the cwd from sys.path.\n"
          ]
        }
      ]
    },
    {
      "cell_type": "code",
      "source": [
        "df_sensor_v2"
      ],
      "metadata": {
        "id": "gU0WBoLAKo5s",
        "colab": {
          "base_uri": "https://localhost:8080/",
          "height": 488
        },
        "outputId": "535b64aa-09fa-4dac-ca53-d7935975b206"
      },
      "execution_count": null,
      "outputs": [
        {
          "output_type": "execute_result",
          "data": {
            "text/plain": [
              "      sensor_1  sensor_2  sensor_3  sensor_4  sensor_5  sensor_6  sensor_7  \\\n",
              "0        0.438     0.498     3.625     3.645     5.000     2.918     5.000   \n",
              "1        0.438     0.498     3.625     3.648     5.000     2.918     5.000   \n",
              "2        0.438     0.498     3.625     3.629     5.000     2.918     5.000   \n",
              "3        0.437     0.501     3.625     3.626     5.000     2.918     5.000   \n",
              "4        0.438     0.498     3.626     3.629     5.000     2.918     5.000   \n",
              "...        ...       ...       ...       ...       ...       ...       ...   \n",
              "5451     0.910     5.000     3.997     2.785     2.770     2.572     2.433   \n",
              "5452     0.926     5.000     4.015     2.792     2.777     2.571     1.768   \n",
              "5453     0.937     5.000     4.034     2.799     2.784     2.571     1.754   \n",
              "5454     0.945     4.052     4.052     2.809     2.791     2.441     1.757   \n",
              "5455     0.950     4.066     5.000     2.819     2.798     2.570     2.422   \n",
              "\n",
              "      sensor_8  sensor_9  sensor_10  ...  sensor_16  sensor_17  sensor_18  \\\n",
              "0        2.351     2.332      2.643  ...      0.593      0.502      0.493   \n",
              "1        2.637     2.332      2.649  ...      0.592      0.502      0.493   \n",
              "2        2.637     2.334      2.643  ...      0.593      0.502      0.493   \n",
              "3        2.353     2.334      2.642  ...      0.593      0.502      0.493   \n",
              "4        2.640     2.334      2.639  ...      0.592      0.502      0.493   \n",
              "...        ...       ...        ...  ...        ...        ...        ...   \n",
              "5451     1.087     1.772      1.040  ...      0.660      0.648      0.657   \n",
              "5452     1.071     1.762      1.021  ...      0.652      0.640      0.649   \n",
              "5453     1.053     1.752      1.002  ...      0.648      0.633      0.642   \n",
              "5454     1.034     1.743      0.983  ...      0.641      0.626      0.635   \n",
              "5455     1.016     1.739      0.964  ...      0.635      0.618      0.628   \n",
              "\n",
              "      sensor_19  sensor_20  sensor_21  sensor_22  sensor_23  sensor_24  \\\n",
              "0         0.504      0.445      0.431      0.444      0.440      0.429   \n",
              "1         0.504      0.449      0.431      0.444      0.443      0.429   \n",
              "2         0.504      0.449      0.431      0.444      0.446      0.429   \n",
              "3         0.504      0.449      0.431      0.444      0.444      0.429   \n",
              "4         0.504      0.449      0.431      0.444      0.441      0.429   \n",
              "...         ...        ...        ...        ...        ...        ...   \n",
              "5451      0.686      5.000      1.045      5.000      5.000      1.562   \n",
              "5452      1.593      1.616      1.058      5.000      5.000      1.085   \n",
              "5453      0.741      5.000      1.065      5.000      5.000      1.105   \n",
              "5454      0.754      5.000      1.076      5.000      5.000      1.118   \n",
              "5455      0.776      5.000      1.083      5.000      5.000      1.168   \n",
              "\n",
              "      funcao_robo  \n",
              "0               0  \n",
              "1               0  \n",
              "2               0  \n",
              "3               0  \n",
              "4               0  \n",
              "...           ...  \n",
              "5451            1  \n",
              "5452            2  \n",
              "5453            2  \n",
              "5454            1  \n",
              "5455            2  \n",
              "\n",
              "[5115 rows x 25 columns]"
            ],
            "text/html": [
              "\n",
              "  <div id=\"df-7d1f625f-6631-49cb-8ea6-06dfd2c33bd1\">\n",
              "    <div class=\"colab-df-container\">\n",
              "      <div>\n",
              "<style scoped>\n",
              "    .dataframe tbody tr th:only-of-type {\n",
              "        vertical-align: middle;\n",
              "    }\n",
              "\n",
              "    .dataframe tbody tr th {\n",
              "        vertical-align: top;\n",
              "    }\n",
              "\n",
              "    .dataframe thead th {\n",
              "        text-align: right;\n",
              "    }\n",
              "</style>\n",
              "<table border=\"1\" class=\"dataframe\">\n",
              "  <thead>\n",
              "    <tr style=\"text-align: right;\">\n",
              "      <th></th>\n",
              "      <th>sensor_1</th>\n",
              "      <th>sensor_2</th>\n",
              "      <th>sensor_3</th>\n",
              "      <th>sensor_4</th>\n",
              "      <th>sensor_5</th>\n",
              "      <th>sensor_6</th>\n",
              "      <th>sensor_7</th>\n",
              "      <th>sensor_8</th>\n",
              "      <th>sensor_9</th>\n",
              "      <th>sensor_10</th>\n",
              "      <th>...</th>\n",
              "      <th>sensor_16</th>\n",
              "      <th>sensor_17</th>\n",
              "      <th>sensor_18</th>\n",
              "      <th>sensor_19</th>\n",
              "      <th>sensor_20</th>\n",
              "      <th>sensor_21</th>\n",
              "      <th>sensor_22</th>\n",
              "      <th>sensor_23</th>\n",
              "      <th>sensor_24</th>\n",
              "      <th>funcao_robo</th>\n",
              "    </tr>\n",
              "  </thead>\n",
              "  <tbody>\n",
              "    <tr>\n",
              "      <th>0</th>\n",
              "      <td>0.438</td>\n",
              "      <td>0.498</td>\n",
              "      <td>3.625</td>\n",
              "      <td>3.645</td>\n",
              "      <td>5.000</td>\n",
              "      <td>2.918</td>\n",
              "      <td>5.000</td>\n",
              "      <td>2.351</td>\n",
              "      <td>2.332</td>\n",
              "      <td>2.643</td>\n",
              "      <td>...</td>\n",
              "      <td>0.593</td>\n",
              "      <td>0.502</td>\n",
              "      <td>0.493</td>\n",
              "      <td>0.504</td>\n",
              "      <td>0.445</td>\n",
              "      <td>0.431</td>\n",
              "      <td>0.444</td>\n",
              "      <td>0.440</td>\n",
              "      <td>0.429</td>\n",
              "      <td>0</td>\n",
              "    </tr>\n",
              "    <tr>\n",
              "      <th>1</th>\n",
              "      <td>0.438</td>\n",
              "      <td>0.498</td>\n",
              "      <td>3.625</td>\n",
              "      <td>3.648</td>\n",
              "      <td>5.000</td>\n",
              "      <td>2.918</td>\n",
              "      <td>5.000</td>\n",
              "      <td>2.637</td>\n",
              "      <td>2.332</td>\n",
              "      <td>2.649</td>\n",
              "      <td>...</td>\n",
              "      <td>0.592</td>\n",
              "      <td>0.502</td>\n",
              "      <td>0.493</td>\n",
              "      <td>0.504</td>\n",
              "      <td>0.449</td>\n",
              "      <td>0.431</td>\n",
              "      <td>0.444</td>\n",
              "      <td>0.443</td>\n",
              "      <td>0.429</td>\n",
              "      <td>0</td>\n",
              "    </tr>\n",
              "    <tr>\n",
              "      <th>2</th>\n",
              "      <td>0.438</td>\n",
              "      <td>0.498</td>\n",
              "      <td>3.625</td>\n",
              "      <td>3.629</td>\n",
              "      <td>5.000</td>\n",
              "      <td>2.918</td>\n",
              "      <td>5.000</td>\n",
              "      <td>2.637</td>\n",
              "      <td>2.334</td>\n",
              "      <td>2.643</td>\n",
              "      <td>...</td>\n",
              "      <td>0.593</td>\n",
              "      <td>0.502</td>\n",
              "      <td>0.493</td>\n",
              "      <td>0.504</td>\n",
              "      <td>0.449</td>\n",
              "      <td>0.431</td>\n",
              "      <td>0.444</td>\n",
              "      <td>0.446</td>\n",
              "      <td>0.429</td>\n",
              "      <td>0</td>\n",
              "    </tr>\n",
              "    <tr>\n",
              "      <th>3</th>\n",
              "      <td>0.437</td>\n",
              "      <td>0.501</td>\n",
              "      <td>3.625</td>\n",
              "      <td>3.626</td>\n",
              "      <td>5.000</td>\n",
              "      <td>2.918</td>\n",
              "      <td>5.000</td>\n",
              "      <td>2.353</td>\n",
              "      <td>2.334</td>\n",
              "      <td>2.642</td>\n",
              "      <td>...</td>\n",
              "      <td>0.593</td>\n",
              "      <td>0.502</td>\n",
              "      <td>0.493</td>\n",
              "      <td>0.504</td>\n",
              "      <td>0.449</td>\n",
              "      <td>0.431</td>\n",
              "      <td>0.444</td>\n",
              "      <td>0.444</td>\n",
              "      <td>0.429</td>\n",
              "      <td>0</td>\n",
              "    </tr>\n",
              "    <tr>\n",
              "      <th>4</th>\n",
              "      <td>0.438</td>\n",
              "      <td>0.498</td>\n",
              "      <td>3.626</td>\n",
              "      <td>3.629</td>\n",
              "      <td>5.000</td>\n",
              "      <td>2.918</td>\n",
              "      <td>5.000</td>\n",
              "      <td>2.640</td>\n",
              "      <td>2.334</td>\n",
              "      <td>2.639</td>\n",
              "      <td>...</td>\n",
              "      <td>0.592</td>\n",
              "      <td>0.502</td>\n",
              "      <td>0.493</td>\n",
              "      <td>0.504</td>\n",
              "      <td>0.449</td>\n",
              "      <td>0.431</td>\n",
              "      <td>0.444</td>\n",
              "      <td>0.441</td>\n",
              "      <td>0.429</td>\n",
              "      <td>0</td>\n",
              "    </tr>\n",
              "    <tr>\n",
              "      <th>...</th>\n",
              "      <td>...</td>\n",
              "      <td>...</td>\n",
              "      <td>...</td>\n",
              "      <td>...</td>\n",
              "      <td>...</td>\n",
              "      <td>...</td>\n",
              "      <td>...</td>\n",
              "      <td>...</td>\n",
              "      <td>...</td>\n",
              "      <td>...</td>\n",
              "      <td>...</td>\n",
              "      <td>...</td>\n",
              "      <td>...</td>\n",
              "      <td>...</td>\n",
              "      <td>...</td>\n",
              "      <td>...</td>\n",
              "      <td>...</td>\n",
              "      <td>...</td>\n",
              "      <td>...</td>\n",
              "      <td>...</td>\n",
              "      <td>...</td>\n",
              "    </tr>\n",
              "    <tr>\n",
              "      <th>5451</th>\n",
              "      <td>0.910</td>\n",
              "      <td>5.000</td>\n",
              "      <td>3.997</td>\n",
              "      <td>2.785</td>\n",
              "      <td>2.770</td>\n",
              "      <td>2.572</td>\n",
              "      <td>2.433</td>\n",
              "      <td>1.087</td>\n",
              "      <td>1.772</td>\n",
              "      <td>1.040</td>\n",
              "      <td>...</td>\n",
              "      <td>0.660</td>\n",
              "      <td>0.648</td>\n",
              "      <td>0.657</td>\n",
              "      <td>0.686</td>\n",
              "      <td>5.000</td>\n",
              "      <td>1.045</td>\n",
              "      <td>5.000</td>\n",
              "      <td>5.000</td>\n",
              "      <td>1.562</td>\n",
              "      <td>1</td>\n",
              "    </tr>\n",
              "    <tr>\n",
              "      <th>5452</th>\n",
              "      <td>0.926</td>\n",
              "      <td>5.000</td>\n",
              "      <td>4.015</td>\n",
              "      <td>2.792</td>\n",
              "      <td>2.777</td>\n",
              "      <td>2.571</td>\n",
              "      <td>1.768</td>\n",
              "      <td>1.071</td>\n",
              "      <td>1.762</td>\n",
              "      <td>1.021</td>\n",
              "      <td>...</td>\n",
              "      <td>0.652</td>\n",
              "      <td>0.640</td>\n",
              "      <td>0.649</td>\n",
              "      <td>1.593</td>\n",
              "      <td>1.616</td>\n",
              "      <td>1.058</td>\n",
              "      <td>5.000</td>\n",
              "      <td>5.000</td>\n",
              "      <td>1.085</td>\n",
              "      <td>2</td>\n",
              "    </tr>\n",
              "    <tr>\n",
              "      <th>5453</th>\n",
              "      <td>0.937</td>\n",
              "      <td>5.000</td>\n",
              "      <td>4.034</td>\n",
              "      <td>2.799</td>\n",
              "      <td>2.784</td>\n",
              "      <td>2.571</td>\n",
              "      <td>1.754</td>\n",
              "      <td>1.053</td>\n",
              "      <td>1.752</td>\n",
              "      <td>1.002</td>\n",
              "      <td>...</td>\n",
              "      <td>0.648</td>\n",
              "      <td>0.633</td>\n",
              "      <td>0.642</td>\n",
              "      <td>0.741</td>\n",
              "      <td>5.000</td>\n",
              "      <td>1.065</td>\n",
              "      <td>5.000</td>\n",
              "      <td>5.000</td>\n",
              "      <td>1.105</td>\n",
              "      <td>2</td>\n",
              "    </tr>\n",
              "    <tr>\n",
              "      <th>5454</th>\n",
              "      <td>0.945</td>\n",
              "      <td>4.052</td>\n",
              "      <td>4.052</td>\n",
              "      <td>2.809</td>\n",
              "      <td>2.791</td>\n",
              "      <td>2.441</td>\n",
              "      <td>1.757</td>\n",
              "      <td>1.034</td>\n",
              "      <td>1.743</td>\n",
              "      <td>0.983</td>\n",
              "      <td>...</td>\n",
              "      <td>0.641</td>\n",
              "      <td>0.626</td>\n",
              "      <td>0.635</td>\n",
              "      <td>0.754</td>\n",
              "      <td>5.000</td>\n",
              "      <td>1.076</td>\n",
              "      <td>5.000</td>\n",
              "      <td>5.000</td>\n",
              "      <td>1.118</td>\n",
              "      <td>1</td>\n",
              "    </tr>\n",
              "    <tr>\n",
              "      <th>5455</th>\n",
              "      <td>0.950</td>\n",
              "      <td>4.066</td>\n",
              "      <td>5.000</td>\n",
              "      <td>2.819</td>\n",
              "      <td>2.798</td>\n",
              "      <td>2.570</td>\n",
              "      <td>2.422</td>\n",
              "      <td>1.016</td>\n",
              "      <td>1.739</td>\n",
              "      <td>0.964</td>\n",
              "      <td>...</td>\n",
              "      <td>0.635</td>\n",
              "      <td>0.618</td>\n",
              "      <td>0.628</td>\n",
              "      <td>0.776</td>\n",
              "      <td>5.000</td>\n",
              "      <td>1.083</td>\n",
              "      <td>5.000</td>\n",
              "      <td>5.000</td>\n",
              "      <td>1.168</td>\n",
              "      <td>2</td>\n",
              "    </tr>\n",
              "  </tbody>\n",
              "</table>\n",
              "<p>5115 rows × 25 columns</p>\n",
              "</div>\n",
              "      <button class=\"colab-df-convert\" onclick=\"convertToInteractive('df-7d1f625f-6631-49cb-8ea6-06dfd2c33bd1')\"\n",
              "              title=\"Convert this dataframe to an interactive table.\"\n",
              "              style=\"display:none;\">\n",
              "        \n",
              "  <svg xmlns=\"http://www.w3.org/2000/svg\" height=\"24px\"viewBox=\"0 0 24 24\"\n",
              "       width=\"24px\">\n",
              "    <path d=\"M0 0h24v24H0V0z\" fill=\"none\"/>\n",
              "    <path d=\"M18.56 5.44l.94 2.06.94-2.06 2.06-.94-2.06-.94-.94-2.06-.94 2.06-2.06.94zm-11 1L8.5 8.5l.94-2.06 2.06-.94-2.06-.94L8.5 2.5l-.94 2.06-2.06.94zm10 10l.94 2.06.94-2.06 2.06-.94-2.06-.94-.94-2.06-.94 2.06-2.06.94z\"/><path d=\"M17.41 7.96l-1.37-1.37c-.4-.4-.92-.59-1.43-.59-.52 0-1.04.2-1.43.59L10.3 9.45l-7.72 7.72c-.78.78-.78 2.05 0 2.83L4 21.41c.39.39.9.59 1.41.59.51 0 1.02-.2 1.41-.59l7.78-7.78 2.81-2.81c.8-.78.8-2.07 0-2.86zM5.41 20L4 18.59l7.72-7.72 1.47 1.35L5.41 20z\"/>\n",
              "  </svg>\n",
              "      </button>\n",
              "      \n",
              "  <style>\n",
              "    .colab-df-container {\n",
              "      display:flex;\n",
              "      flex-wrap:wrap;\n",
              "      gap: 12px;\n",
              "    }\n",
              "\n",
              "    .colab-df-convert {\n",
              "      background-color: #E8F0FE;\n",
              "      border: none;\n",
              "      border-radius: 50%;\n",
              "      cursor: pointer;\n",
              "      display: none;\n",
              "      fill: #1967D2;\n",
              "      height: 32px;\n",
              "      padding: 0 0 0 0;\n",
              "      width: 32px;\n",
              "    }\n",
              "\n",
              "    .colab-df-convert:hover {\n",
              "      background-color: #E2EBFA;\n",
              "      box-shadow: 0px 1px 2px rgba(60, 64, 67, 0.3), 0px 1px 3px 1px rgba(60, 64, 67, 0.15);\n",
              "      fill: #174EA6;\n",
              "    }\n",
              "\n",
              "    [theme=dark] .colab-df-convert {\n",
              "      background-color: #3B4455;\n",
              "      fill: #D2E3FC;\n",
              "    }\n",
              "\n",
              "    [theme=dark] .colab-df-convert:hover {\n",
              "      background-color: #434B5C;\n",
              "      box-shadow: 0px 1px 3px 1px rgba(0, 0, 0, 0.15);\n",
              "      filter: drop-shadow(0px 1px 2px rgba(0, 0, 0, 0.3));\n",
              "      fill: #FFFFFF;\n",
              "    }\n",
              "  </style>\n",
              "\n",
              "      <script>\n",
              "        const buttonEl =\n",
              "          document.querySelector('#df-7d1f625f-6631-49cb-8ea6-06dfd2c33bd1 button.colab-df-convert');\n",
              "        buttonEl.style.display =\n",
              "          google.colab.kernel.accessAllowed ? 'block' : 'none';\n",
              "\n",
              "        async function convertToInteractive(key) {\n",
              "          const element = document.querySelector('#df-7d1f625f-6631-49cb-8ea6-06dfd2c33bd1');\n",
              "          const dataTable =\n",
              "            await google.colab.kernel.invokeFunction('convertToInteractive',\n",
              "                                                     [key], {});\n",
              "          if (!dataTable) return;\n",
              "\n",
              "          const docLinkHtml = 'Like what you see? Visit the ' +\n",
              "            '<a target=\"_blank\" href=https://colab.research.google.com/notebooks/data_table.ipynb>data table notebook</a>'\n",
              "            + ' to learn more about interactive tables.';\n",
              "          element.innerHTML = '';\n",
              "          dataTable['output_type'] = 'display_data';\n",
              "          await google.colab.output.renderOutput(dataTable, element);\n",
              "          const docLink = document.createElement('div');\n",
              "          docLink.innerHTML = docLinkHtml;\n",
              "          element.appendChild(docLink);\n",
              "        }\n",
              "      </script>\n",
              "    </div>\n",
              "  </div>\n",
              "  "
            ]
          },
          "metadata": {},
          "execution_count": 66
        }
      ]
    },
    {
      "cell_type": "code",
      "source": [
        "l = df_sensor_v2.drop(columns=['funcao_robo']) #colunas preditivas\n",
        "m = df_sensor_v2['funcao_robo'] #coluna alvo\n",
        "\n",
        "l_train, l_test, m_train, m_test = train_test_split(l, m, test_size = 0.2, random_state = 50)"
      ],
      "metadata": {
        "id": "Zmi5QZn8IZSU"
      },
      "execution_count": null,
      "outputs": []
    },
    {
      "cell_type": "markdown",
      "source": [
        "Nessa parte, vamos padronizar os dados a fim de tentar eliminar os outliers do dataframe."
      ],
      "metadata": {
        "id": "tHDXemk2KwMj"
      }
    },
    {
      "cell_type": "code",
      "source": [
        "from sklearn.preprocessing import StandardScaler\n",
        "\n",
        "scaler = StandardScaler()\n",
        "scaler.fit(l_train)\n",
        "\n",
        "l_train_scaled = scaler.transform(l_train)\n",
        "l_test_scaled = scaler.transform(l_test)"
      ],
      "metadata": {
        "id": "yObqbexWIsd8"
      },
      "execution_count": null,
      "outputs": []
    },
    {
      "cell_type": "code",
      "source": [
        "from sklearn.ensemble import RandomForestRegressor\n",
        "\n",
        "rfr = RandomForestRegressor()\n",
        "\n",
        "rfr.fit(l_train_scaled, m_train)"
      ],
      "metadata": {
        "id": "83M5YedBIZPw",
        "colab": {
          "base_uri": "https://localhost:8080/"
        },
        "outputId": "6436c703-17ec-4bf0-cf84-d71ace86c920"
      },
      "execution_count": null,
      "outputs": [
        {
          "output_type": "execute_result",
          "data": {
            "text/plain": [
              "RandomForestRegressor()"
            ]
          },
          "metadata": {},
          "execution_count": 69
        }
      ]
    },
    {
      "cell_type": "code",
      "source": [
        "# salvando as predicoes numa outra variavel\n",
        "m_predictions = rfr.predict(l_test_scaled)\n",
        "m_predictions"
      ],
      "metadata": {
        "id": "atxY6LtPIZNG",
        "colab": {
          "base_uri": "https://localhost:8080/"
        },
        "outputId": "ff36ba0f-ddaa-415b-be14-ca1535e43ef5"
      },
      "execution_count": null,
      "outputs": [
        {
          "output_type": "execute_result",
          "data": {
            "text/plain": [
              "array([2.  , 1.  , 0.  , ..., 0.98, 2.  , 2.  ])"
            ]
          },
          "metadata": {},
          "execution_count": 70
        }
      ]
    },
    {
      "cell_type": "code",
      "source": [
        "from sklearn.metrics import mean_squared_error, mean_absolute_error, r2_score\n",
        "from scipy.stats import pearsonr\n",
        "\n",
        "R2 = r2_score(y_true = m_test,      # Gabarito\n",
        "              y_pred = m_predictions) # Respostas do algoritmo ao teste realizado\n",
        "print('R2: ', R2)  # Quanto mais próximos de 1 melhor\n",
        "\n",
        "MAE = mean_absolute_error(y_true = m_test,      # Gabarito\n",
        "                          y_pred = m_predictions) # Respostas do algoritmo ao teste realizado\n",
        "print('MAE: ', MAE)\n",
        "\n",
        "MSE = mean_squared_error(y_true = m_test,      # Gabarito\n",
        "                         y_pred = m_predictions) # Respostas do algoritmo ao teste realizado\n",
        "print('MSE: ', MSE)\n",
        "print('raiz MSE: ', MSE**0.5)\n",
        "\n",
        "rho = pearsonr(m_test, m_predictions)\n",
        "print('\\u03C1:', rho[0]) # Quanto mais próximo de 1, melhor"
      ],
      "metadata": {
        "id": "0srEXY_XIZKl",
        "colab": {
          "base_uri": "https://localhost:8080/"
        },
        "outputId": "46d8bc89-5ade-4bdf-f87c-f0234dccee09"
      },
      "execution_count": null,
      "outputs": [
        {
          "output_type": "stream",
          "name": "stdout",
          "text": [
            "R2:  0.9835280005333272\n",
            "MAE:  0.016422287390029325\n",
            "MSE:  0.011096578690127078\n",
            "raiz MSE:  0.10534029945907254\n",
            "ρ: 0.9917769176955475\n"
          ]
        }
      ]
    },
    {
      "cell_type": "markdown",
      "source": [
        "O R² deu um valor satisfatório devido ao uso correto das labels e features e ao algoritmo RandomForestRegressor."
      ],
      "metadata": {
        "id": "Tk0xhnocJy96"
      }
    },
    {
      "cell_type": "markdown",
      "source": [
        "# 3) Aprendizado de máquina usando classificação"
      ],
      "metadata": {
        "id": "MOp6NIL__1iB"
      }
    },
    {
      "cell_type": "markdown",
      "source": [
        "Agora vamos para o modelo inicialmente planejado que provavelmente vai ter uma acurácia maior."
      ],
      "metadata": {
        "id": "fL4dmAwlJk-n"
      }
    },
    {
      "cell_type": "code",
      "source": [
        "from sklearn.model_selection import train_test_split\n",
        "\n",
        "\n",
        "j = df_sensor_v1.drop(columns = 'funcao_robo')\n",
        "k = df_sensor_v1['funcao_robo']\n",
        "j_train, j_test, k_train, k_test = train_test_split(j, k, test_size = 0.2, random_state = 42)"
      ],
      "metadata": {
        "id": "p-WWAj9Hpcjj"
      },
      "execution_count": null,
      "outputs": []
    },
    {
      "cell_type": "markdown",
      "source": [
        "Nessa parte, vamos padronizar os dados a fim de tentar eliminar os outliers do dataframe."
      ],
      "metadata": {
        "id": "wXEmD9ag_QCQ"
      }
    },
    {
      "cell_type": "code",
      "source": [
        "from sklearn.preprocessing import StandardScaler\n",
        "\n",
        "scaler = StandardScaler()\n",
        "\n",
        "scaler.fit(j_train)\n",
        "\n",
        "j_train_scaled = scaler.transform(j_train)\n",
        "j_test_scaled = scaler.transform(j_test)"
      ],
      "metadata": {
        "id": "lNP2cyAC-RzY"
      },
      "execution_count": null,
      "outputs": []
    },
    {
      "cell_type": "code",
      "source": [
        "from sklearn.ensemble import RandomForestClassifier\n",
        "\n",
        "rfc = RandomForestClassifier()\n",
        "\n",
        "rfc.fit(j_train,k_train)"
      ],
      "metadata": {
        "id": "VSaOaYQ_pcg6",
        "colab": {
          "base_uri": "https://localhost:8080/"
        },
        "outputId": "b5aed4f0-7fdf-4bd8-d7b5-1cd1f4a86ee1"
      },
      "execution_count": null,
      "outputs": [
        {
          "output_type": "execute_result",
          "data": {
            "text/plain": [
              "RandomForestClassifier()"
            ]
          },
          "metadata": {},
          "execution_count": 74
        }
      ]
    },
    {
      "cell_type": "code",
      "source": [
        "k_predicoes = rfc.predict(j_test)\n",
        "k_predicoes"
      ],
      "metadata": {
        "id": "oFPzBquZ_eLi",
        "colab": {
          "base_uri": "https://localhost:8080/"
        },
        "outputId": "3a480769-2ace-4898-ab29-141c986032bb"
      },
      "execution_count": null,
      "outputs": [
        {
          "output_type": "execute_result",
          "data": {
            "text/plain": [
              "array([1, 3, 0, ..., 1, 0, 2])"
            ]
          },
          "metadata": {},
          "execution_count": 75
        }
      ]
    },
    {
      "cell_type": "code",
      "source": [
        "from sklearn.metrics import classification_report\n",
        "\n",
        "# Metricas de precisão, revocação, f1-score e acurácia.\n",
        "print(classification_report(k_test, k_predicoes))"
      ],
      "metadata": {
        "id": "FB4FSjsYpcYg",
        "colab": {
          "base_uri": "https://localhost:8080/"
        },
        "outputId": "3874c4e3-8111-47bf-e5f2-c848af60ad23"
      },
      "execution_count": null,
      "outputs": [
        {
          "output_type": "stream",
          "name": "stdout",
          "text": [
            "              precision    recall  f1-score   support\n",
            "\n",
            "           0       0.99      1.00      0.99       173\n",
            "           1       1.00      0.99      1.00       411\n",
            "           2       0.99      1.00      1.00       388\n",
            "           3       1.00      0.98      0.99        51\n",
            "\n",
            "    accuracy                           1.00      1023\n",
            "   macro avg       1.00      0.99      0.99      1023\n",
            "weighted avg       1.00      1.00      1.00      1023\n",
            "\n"
          ]
        }
      ]
    },
    {
      "cell_type": "markdown",
      "source": [
        "A acurácia foi satisfatória devido ao modelo de Machine Learning utilizado. O RandomForest funciona melhor quando a coluna alvo é categórica."
      ],
      "metadata": {
        "id": "VLwYSeCGADkp"
      }
    },
    {
      "cell_type": "markdown",
      "source": [
        "Essa precisão também indica que há uma relação entre as features e labels e por causa disso a máquina conseguiu relacionar."
      ],
      "metadata": {
        "id": "8lD1CUGUAbtb"
      }
    }
  ],
  "metadata": {
    "colab": {
      "collapsed_sections": [
        "TWni3FElUD5g",
        "8LhNsy7FUPAF",
        "nDRa1gQbnfpC",
        "Zz6TVUe6nrU-",
        "1k2rJZLVtOMk",
        "wjKvO-X8Cr4t",
        "-QO6MxMNCyQL",
        "PeKqN6jqLzCW",
        "Q5tY2Mx4ABS7",
        "MOp6NIL__1iB"
      ],
      "provenance": []
    },
    "kernelspec": {
      "display_name": "Python 3",
      "name": "python3"
    },
    "language_info": {
      "name": "python"
    }
  },
  "nbformat": 4,
  "nbformat_minor": 0
}